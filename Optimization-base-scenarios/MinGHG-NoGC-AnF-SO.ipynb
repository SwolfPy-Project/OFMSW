{
 "cells": [
  {
   "cell_type": "markdown",
   "metadata": {},
   "source": [
    "# Min GHG  NoGC-AnF-SO"
   ]
  },
  {
   "cell_type": "code",
   "execution_count": 1,
   "metadata": {
    "execution": {
     "iopub.execute_input": "2022-02-07T00:18:29.316255Z",
     "iopub.status.busy": "2022-02-07T00:18:29.315225Z",
     "iopub.status.idle": "2022-02-07T00:18:30.923667Z",
     "shell.execute_reply": "2022-02-07T00:18:30.923667Z"
    }
   },
   "outputs": [],
   "source": [
    "import swolfpy as sp\n",
    "import swolfpy_inputdata as spid\n",
    "import swolfpy_processmodels as sppm\n",
    "\n",
    "import brightway2 as bw2\n",
    "import pandas as pd\n",
    "import numpy as np\n",
    "from time import time\n",
    "import matplotlib.pyplot as plt\n",
    "import datetime\n",
    "import os\n",
    "import platform\n",
    "from IPython.display import Image\n",
    "\n",
    "# Set font for plots\n",
    "plt.rcParams[\"font.family\"] = \"Times New Roman\"\n",
    "plt.rcParams[\"font.size\"] = \"14\"\n",
    "\n",
    "# Set specs for pandas\n",
    "pd.set_option('display.max_colwidth', 0)\n",
    "pd.set_option('display.max_rows', 500)\n",
    "pd.set_option('display.max_columns', 200)\n",
    "pd.set_option(\"precision\", 2)"
   ]
  },
  {
   "cell_type": "markdown",
   "metadata": {},
   "source": [
    "### SwolfPy version used to produced the results:"
   ]
  },
  {
   "cell_type": "code",
   "execution_count": 2,
   "metadata": {
    "execution": {
     "iopub.execute_input": "2022-02-07T00:18:30.939281Z",
     "iopub.status.busy": "2022-02-07T00:18:30.939281Z",
     "iopub.status.idle": "2022-02-07T00:18:30.954912Z",
     "shell.execute_reply": "2022-02-07T00:18:30.954912Z"
    }
   },
   "outputs": [
    {
     "data": {
      "text/html": [
       "<div>\n",
       "<style scoped>\n",
       "    .dataframe tbody tr th:only-of-type {\n",
       "        vertical-align: middle;\n",
       "    }\n",
       "\n",
       "    .dataframe tbody tr th {\n",
       "        vertical-align: top;\n",
       "    }\n",
       "\n",
       "    .dataframe thead th {\n",
       "        text-align: right;\n",
       "    }\n",
       "</style>\n",
       "<table border=\"1\" class=\"dataframe\">\n",
       "  <thead>\n",
       "    <tr style=\"text-align: right;\">\n",
       "      <th></th>\n",
       "      <th>Version</th>\n",
       "    </tr>\n",
       "  </thead>\n",
       "  <tbody>\n",
       "    <tr>\n",
       "      <th>swolfpy</th>\n",
       "      <td>0.2.4</td>\n",
       "    </tr>\n",
       "    <tr>\n",
       "      <th>swolfpy_processmodels</th>\n",
       "      <td>0.1.9</td>\n",
       "    </tr>\n",
       "    <tr>\n",
       "      <th>swolfpy_inputdata</th>\n",
       "      <td>0.2.4</td>\n",
       "    </tr>\n",
       "  </tbody>\n",
       "</table>\n",
       "</div>"
      ],
      "text/plain": [
       "                      Version\n",
       "swolfpy                0.2.4 \n",
       "swolfpy_processmodels  0.1.9 \n",
       "swolfpy_inputdata      0.2.4 "
      ]
     },
     "execution_count": 2,
     "metadata": {},
     "output_type": "execute_result"
    }
   ],
   "source": [
    "pd.DataFrame({'Version': [sp.__version__, sppm.__version__, spid.__version__]},\n",
    "             index=['swolfpy', 'swolfpy_processmodels', 'swolfpy_inputdata'])"
   ]
  },
  {
   "cell_type": "markdown",
   "metadata": {},
   "source": [
    "### System info"
   ]
  },
  {
   "cell_type": "code",
   "execution_count": 3,
   "metadata": {
    "execution": {
     "iopub.execute_input": "2022-02-07T00:18:30.954912Z",
     "iopub.status.busy": "2022-02-07T00:18:30.954912Z",
     "iopub.status.idle": "2022-02-07T00:18:30.970535Z",
     "shell.execute_reply": "2022-02-07T00:18:30.970535Z"
    }
   },
   "outputs": [
    {
     "data": {
      "text/html": [
       "<div>\n",
       "<style scoped>\n",
       "    .dataframe tbody tr th:only-of-type {\n",
       "        vertical-align: middle;\n",
       "    }\n",
       "\n",
       "    .dataframe tbody tr th {\n",
       "        vertical-align: top;\n",
       "    }\n",
       "\n",
       "    .dataframe thead th {\n",
       "        text-align: right;\n",
       "    }\n",
       "</style>\n",
       "<table border=\"1\" class=\"dataframe\">\n",
       "  <thead>\n",
       "    <tr style=\"text-align: right;\">\n",
       "      <th></th>\n",
       "      <th>info</th>\n",
       "    </tr>\n",
       "  </thead>\n",
       "  <tbody>\n",
       "    <tr>\n",
       "      <th>Platform</th>\n",
       "      <td>Windows-10-10.0.19041-SP0</td>\n",
       "    </tr>\n",
       "    <tr>\n",
       "      <th>Processor</th>\n",
       "      <td>Intel64 Family 6 Model 158 Stepping 9, GenuineIntel</td>\n",
       "    </tr>\n",
       "    <tr>\n",
       "      <th>CPU_count</th>\n",
       "      <td>8</td>\n",
       "    </tr>\n",
       "  </tbody>\n",
       "</table>\n",
       "</div>"
      ],
      "text/plain": [
       "                                                          info\n",
       "Platform   Windows-10-10.0.19041-SP0                          \n",
       "Processor  Intel64 Family 6 Model 158 Stepping 9, GenuineIntel\n",
       "CPU_count  8                                                  "
      ]
     },
     "execution_count": 3,
     "metadata": {},
     "output_type": "execute_result"
    }
   ],
   "source": [
    "pd.DataFrame({'info': [platform.platform(),\n",
    "                       platform.processor(),\n",
    "                       os.cpu_count()]},\n",
    "             index=['Platform', 'Processor', 'CPU_count'])"
   ]
  },
  {
   "cell_type": "markdown",
   "metadata": {},
   "source": [
    "## Setup"
   ]
  },
  {
   "cell_type": "code",
   "execution_count": 4,
   "metadata": {
    "execution": {
     "iopub.execute_input": "2022-02-07T00:18:30.986149Z",
     "iopub.status.busy": "2022-02-07T00:18:30.986149Z",
     "iopub.status.idle": "2022-02-07T00:18:31.002829Z",
     "shell.execute_reply": "2022-02-07T00:18:31.002829Z"
    }
   },
   "outputs": [],
   "source": [
    "iter_mehtod = 'LHS' \n",
    "n_iter = 50\n",
    "n_proc = os.cpu_count()\n",
    "timeout = 400\n",
    "\n",
    "method = ('IPCC 2013, Ecoinvent V3.5', 'climate change', 'GWP 100a, bioCO2=1, C1_36')\n",
    "\n",
    "TotCost_Method = ('SwolfPy_Total_Cost', 'SwolfPy')\n",
    "OptCost_Method = ('SwolfPy_Operational_Cost', 'SwolfPy')\n",
    "CapCost_Method = ('SwolfPy_Capital_Cost', 'SwolfPy')\n",
    "GWP_Method = ('IPCC 2013, Ecoinvent V3.5', 'climate change', 'GWP 100a, bioCO2=1, C1_36')\n",
    "CED_Method = ('cumulative energy demand', 'fossil', 'non-renewable energy resources, fossil')\n",
    "ACID_Method = ('TRACI (2.1) SwolfPy', 'environmental impact', 'acidification')\n",
    "ETP_Method = ('TRACI (2.1) SwolfPy', 'environmental impact', 'eutrophication')\n",
    "SMOG_Method = ('TRACI (2.1) SwolfPy', 'environmental impact', 'photochemical smog')\n",
    "ETOX_Method = ('USEtox (obsolete)', 'ecotoxicity', 'total')\n",
    "HTOX_Method = ('USEtox (obsolete)', 'human toxicity', 'total')\n",
    "\n",
    "summary = f\"\"\"\n",
    "********  Config *********\n",
    "Time: {datetime.datetime.now().strftime(\"%Y-%m-%d & %H:%M:%S\")}\n",
    "Initial guess generation: {iter_mehtod}\n",
    "N iter: {n_iter}\n",
    "N proc: {n_proc}\n",
    "timeout: {timeout}\\n\n",
    "\"\"\"\n",
    "text_file = open(\"Summary.txt\", \"a\")\n",
    "text_file.write(summary)\n",
    "text_file.close()"
   ]
  },
  {
   "cell_type": "markdown",
   "metadata": {},
   "source": [
    "## Create project"
   ]
  },
  {
   "cell_type": "code",
   "execution_count": 5,
   "metadata": {
    "execution": {
     "iopub.execute_input": "2022-02-07T00:18:31.002829Z",
     "iopub.status.busy": "2022-02-07T00:18:31.002829Z",
     "iopub.status.idle": "2022-02-07T00:18:31.080533Z",
     "shell.execute_reply": "2022-02-07T00:18:31.081558Z"
    }
   },
   "outputs": [],
   "source": [
    "project_name = 'optimization'\n",
    "technosphere = sp.Technosphere(project_name)\n",
    "common_data = spid.CommonData()\n",
    "ProcessMetaData = sppm.ProcessModelsMetaData.ProcessModelsMetaData"
   ]
  },
  {
   "cell_type": "code",
   "execution_count": 6,
   "metadata": {
    "execution": {
     "iopub.execute_input": "2022-02-07T00:18:31.086545Z",
     "iopub.status.busy": "2022-02-07T00:18:31.086545Z",
     "iopub.status.idle": "2022-02-07T00:18:32.408182Z",
     "shell.execute_reply": "2022-02-07T00:18:32.408182Z"
    }
   },
   "outputs": [],
   "source": [
    "# Treatment processes\n",
    "Treatment_processes = {}\n",
    "Treatment_processes['LF'] = {'input_type':ProcessMetaData['LF']['InputType'] , 'model':sppm.LF()}\n",
    "Treatment_processes['Composting'] = {'input_type':ProcessMetaData['Comp']['InputType'] , 'model':sppm.Comp()}\n",
    "Treatment_processes['AD'] = {'input_type':ProcessMetaData['AD']['InputType'] , 'model':sppm.AD()}\n",
    "#Treatment_processes['AnF'] = {'input_type':ProcessMetaData['AnF']['InputType'] , 'model':sppm.AnF()}\n",
    "Treatment_processes['SS_MRF'] = {'input_type':ProcessMetaData['SS_MRF']['InputType'] , 'model':sppm.SS_MRF()}\n",
    "Treatment_processes['Reprocessing'] = {'input_type':ProcessMetaData['Reproc']['InputType'] , 'model':sppm.Reproc()}\n",
    "#Treatment_processes['RDF'] = {'input_type':ProcessMetaData['RDF']['InputType'] , 'model':sppm.RDF()}\n",
    "#Treatment_processes['GC'] = {'input_type':ProcessMetaData['GC']['InputType'] , 'model':sppm.GC()}\n",
    "Treatment_processes['WTE'] = {'input_type':ProcessMetaData['WTE']['InputType'] , 'model':sppm.WTE()}\n",
    "Treatment_processes['Reprocessing'] = {'input_type':ProcessMetaData['Reproc']['InputType'] , 'model':sppm.Reproc()}"
   ]
  },
  {
   "cell_type": "code",
   "execution_count": 7,
   "metadata": {
    "execution": {
     "iopub.execute_input": "2022-02-07T00:18:32.423841Z",
     "iopub.status.busy": "2022-02-07T00:18:32.423841Z",
     "iopub.status.idle": "2022-02-07T00:18:32.439351Z",
     "shell.execute_reply": "2022-02-07T00:18:32.439351Z"
    },
    "scrolled": false
   },
   "outputs": [
    {
     "data": {
      "text/html": [
       "<div>\n",
       "<style scoped>\n",
       "    .dataframe tbody tr th:only-of-type {\n",
       "        vertical-align: middle;\n",
       "    }\n",
       "\n",
       "    .dataframe tbody tr th {\n",
       "        vertical-align: top;\n",
       "    }\n",
       "\n",
       "    .dataframe thead th {\n",
       "        text-align: right;\n",
       "    }\n",
       "</style>\n",
       "<table border=\"1\" class=\"dataframe\">\n",
       "  <thead>\n",
       "    <tr style=\"text-align: right;\">\n",
       "      <th></th>\n",
       "      <th>LF</th>\n",
       "      <th>Composting</th>\n",
       "      <th>AD</th>\n",
       "      <th>SS_MRF</th>\n",
       "      <th>Reprocessing</th>\n",
       "      <th>WTE</th>\n",
       "      <th>SF</th>\n",
       "      <th>MF</th>\n",
       "      <th>COM</th>\n",
       "    </tr>\n",
       "  </thead>\n",
       "  <tbody>\n",
       "    <tr>\n",
       "      <th>LF</th>\n",
       "      <td>NaN</td>\n",
       "      <td>30.0</td>\n",
       "      <td>30.0</td>\n",
       "      <td>30.0</td>\n",
       "      <td>30.0</td>\n",
       "      <td>30.0</td>\n",
       "      <td>30.0</td>\n",
       "      <td>30.0</td>\n",
       "      <td>30.0</td>\n",
       "    </tr>\n",
       "    <tr>\n",
       "      <th>Composting</th>\n",
       "      <td>NaN</td>\n",
       "      <td>NaN</td>\n",
       "      <td>30.0</td>\n",
       "      <td>30.0</td>\n",
       "      <td>30.0</td>\n",
       "      <td>30.0</td>\n",
       "      <td>30.0</td>\n",
       "      <td>30.0</td>\n",
       "      <td>30.0</td>\n",
       "    </tr>\n",
       "    <tr>\n",
       "      <th>AD</th>\n",
       "      <td>NaN</td>\n",
       "      <td>NaN</td>\n",
       "      <td>NaN</td>\n",
       "      <td>30.0</td>\n",
       "      <td>30.0</td>\n",
       "      <td>30.0</td>\n",
       "      <td>30.0</td>\n",
       "      <td>30.0</td>\n",
       "      <td>30.0</td>\n",
       "    </tr>\n",
       "    <tr>\n",
       "      <th>SS_MRF</th>\n",
       "      <td>NaN</td>\n",
       "      <td>NaN</td>\n",
       "      <td>NaN</td>\n",
       "      <td>NaN</td>\n",
       "      <td>30.0</td>\n",
       "      <td>30.0</td>\n",
       "      <td>30.0</td>\n",
       "      <td>30.0</td>\n",
       "      <td>30.0</td>\n",
       "    </tr>\n",
       "    <tr>\n",
       "      <th>Reprocessing</th>\n",
       "      <td>NaN</td>\n",
       "      <td>NaN</td>\n",
       "      <td>NaN</td>\n",
       "      <td>NaN</td>\n",
       "      <td>NaN</td>\n",
       "      <td>30.0</td>\n",
       "      <td>30.0</td>\n",
       "      <td>30.0</td>\n",
       "      <td>30.0</td>\n",
       "    </tr>\n",
       "    <tr>\n",
       "      <th>WTE</th>\n",
       "      <td>NaN</td>\n",
       "      <td>NaN</td>\n",
       "      <td>NaN</td>\n",
       "      <td>NaN</td>\n",
       "      <td>NaN</td>\n",
       "      <td>NaN</td>\n",
       "      <td>30.0</td>\n",
       "      <td>30.0</td>\n",
       "      <td>30.0</td>\n",
       "    </tr>\n",
       "    <tr>\n",
       "      <th>SF</th>\n",
       "      <td>NaN</td>\n",
       "      <td>NaN</td>\n",
       "      <td>NaN</td>\n",
       "      <td>NaN</td>\n",
       "      <td>NaN</td>\n",
       "      <td>NaN</td>\n",
       "      <td>NaN</td>\n",
       "      <td>30.0</td>\n",
       "      <td>30.0</td>\n",
       "    </tr>\n",
       "    <tr>\n",
       "      <th>MF</th>\n",
       "      <td>NaN</td>\n",
       "      <td>NaN</td>\n",
       "      <td>NaN</td>\n",
       "      <td>NaN</td>\n",
       "      <td>NaN</td>\n",
       "      <td>NaN</td>\n",
       "      <td>NaN</td>\n",
       "      <td>NaN</td>\n",
       "      <td>30.0</td>\n",
       "    </tr>\n",
       "    <tr>\n",
       "      <th>COM</th>\n",
       "      <td>NaN</td>\n",
       "      <td>NaN</td>\n",
       "      <td>NaN</td>\n",
       "      <td>NaN</td>\n",
       "      <td>NaN</td>\n",
       "      <td>NaN</td>\n",
       "      <td>NaN</td>\n",
       "      <td>NaN</td>\n",
       "      <td>NaN</td>\n",
       "    </tr>\n",
       "  </tbody>\n",
       "</table>\n",
       "</div>"
      ],
      "text/plain": [
       "              LF  Composting    AD  SS_MRF  Reprocessing   WTE    SF    MF  \\\n",
       "LF           NaN  30.0        30.0  30.0    30.0          30.0  30.0  30.0   \n",
       "Composting   NaN NaN          30.0  30.0    30.0          30.0  30.0  30.0   \n",
       "AD           NaN NaN         NaN    30.0    30.0          30.0  30.0  30.0   \n",
       "SS_MRF       NaN NaN         NaN   NaN      30.0          30.0  30.0  30.0   \n",
       "Reprocessing NaN NaN         NaN   NaN     NaN            30.0  30.0  30.0   \n",
       "WTE          NaN NaN         NaN   NaN     NaN           NaN    30.0  30.0   \n",
       "SF           NaN NaN         NaN   NaN     NaN           NaN   NaN    30.0   \n",
       "MF           NaN NaN         NaN   NaN     NaN           NaN   NaN   NaN     \n",
       "COM          NaN NaN         NaN   NaN     NaN           NaN   NaN   NaN     \n",
       "\n",
       "               COM  \n",
       "LF            30.0  \n",
       "Composting    30.0  \n",
       "AD            30.0  \n",
       "SS_MRF        30.0  \n",
       "Reprocessing  30.0  \n",
       "WTE           30.0  \n",
       "SF            30.0  \n",
       "MF            30.0  \n",
       "COM          NaN    "
      ]
     },
     "execution_count": 7,
     "metadata": {},
     "output_type": "execute_result"
    }
   ],
   "source": [
    "# Distance\n",
    "#Processes = ['LF', 'Composting', 'AD', 'AnF', 'SS_MRF', 'Reprocessing', 'RDF', 'GC', 'WTE', 'SF', 'MF', 'COM']\n",
    "Processes = ['LF', 'Composting', 'AD', 'SS_MRF', 'Reprocessing', 'WTE', 'SF', 'MF', 'COM']\n",
    "data = sppm.Distance.create_distance_table(process_names=Processes,\n",
    "                                           transport_modes=['Heavy Duty Truck'],\n",
    "                                           default_dist=30)\n",
    "\n",
    "distance = sppm.Distance(data)          \n",
    "data['Heavy Duty Truck']"
   ]
  },
  {
   "cell_type": "code",
   "execution_count": 8,
   "metadata": {
    "execution": {
     "iopub.execute_input": "2022-02-07T00:18:32.439351Z",
     "iopub.status.busy": "2022-02-07T00:18:32.439351Z",
     "iopub.status.idle": "2022-02-07T00:18:32.783288Z",
     "shell.execute_reply": "2022-02-07T00:18:32.783288Z"
    }
   },
   "outputs": [],
   "source": [
    "# Collection_processes:\n",
    "Collection_processes = {}\n",
    "\n",
    "SF_scheme = sppm.SF_Col.scheme()\n",
    "SF_scheme[('RWC', 'SSO', 'SSR')] = 0.333\n",
    "SF_scheme[('RWC', 'SSYW', 'SSR')] = 0.334\n",
    "SF_scheme[('RWC', 'N/A', 'SSR')] = 0.333\n",
    "Collection_processes['SF'] = {'input_type': [],\n",
    "                              'model': sppm.SF_Col('SF', SF_scheme,\n",
    "                              Treatment_processes=Treatment_processes,\n",
    "                              Distance=distance)}\n",
    "\n",
    "MF_scheme = sppm.MF_Col.scheme()\n",
    "MF_scheme[('RWC', 'SSO', 'SSR')] = 0.333\n",
    "MF_scheme[('RWC', 'SSYW', 'SSR')] = 0.334\n",
    "MF_scheme[('RWC', 'N/A', 'SSR')] = 0.333\n",
    "Collection_processes['MF'] = {'input_type': [],\n",
    "                              'model': sppm.MF_Col('MF', MF_scheme,\n",
    "                              Treatment_processes=Treatment_processes,\n",
    "                              Distance=distance)}\n",
    "\n",
    "COM_scheme = sppm.COM_Col.scheme()\n",
    "COM_scheme[('RWC', 'N/A', 'SSR')] = 0.25\n",
    "COM_scheme[('RWC', 'SSYW', 'SSR')] = 0.25\n",
    "COM_scheme[('RWC', 'SSO', 'SSR')] = 0.25\n",
    "COM_scheme[('RWC', 'SSO_AnF', 'SSR')] = 0.25\n",
    "Collection_processes['COM'] = {'input_type': [],\n",
    "                               'model': sppm.COM_Col('COM', COM_scheme,\n",
    "                               Treatment_processes=Treatment_processes,\n",
    "                               Distance=distance)}"
   ]
  },
  {
   "cell_type": "code",
   "execution_count": 9,
   "metadata": {
    "execution": {
     "iopub.execute_input": "2022-02-07T00:18:32.783288Z",
     "iopub.status.busy": "2022-02-07T00:18:32.783288Z",
     "iopub.status.idle": "2022-02-07T00:18:32.798920Z",
     "shell.execute_reply": "2022-02-07T00:18:32.798920Z"
    }
   },
   "outputs": [],
   "source": [
    "population = 10**6\n",
    "SF_density = 2.66\n",
    "MF_density = 2.06\n",
    "MF_fraction = 0.25\n",
    "res_gen_rate = 1.12\n",
    "\n",
    "# Composition data\n",
    "comp_data = pd.read_csv('Composition Data/Updated Composition.csv', index_col=0)\n",
    "\n",
    "# Set SF\n",
    "Collection_processes['SF']['model'].process_data['Comp'] = comp_data['SingleFamily'].values\n",
    "Collection_processes['SF']['model'].InputData.Col['res_per_dwel']['amount'] = SF_density\n",
    "Collection_processes['SF']['model'].InputData.Col['houses_res']['amount'] = population * (1-MF_fraction) / SF_density\n",
    "Collection_processes['SF']['model'].InputData.Col['res_gen']['amount'] = res_gen_rate\n",
    "\n",
    "# Set MF\n",
    "Collection_processes['MF']['model'].process_data['Comp'] = comp_data['MultiFamily'].values\n",
    "Collection_processes['MF']['model'].InputData.Col['res_per_dwel']['amount'] = MF_density\n",
    "Collection_processes['MF']['model'].InputData.Col['houses_res']['amount'] = population * MF_fraction / MF_density\n",
    "Collection_processes['MF']['model'].InputData.Col['res_gen']['amount'] = res_gen_rate\n",
    "\n",
    "# Set COM\n",
    "Collection_processes['COM']['model'].process_data['Comp'] = comp_data['Restaurants'].values\n",
    "Mass_Restaurants = 0.0549 * population - 2304.8\n",
    "N_locations = 1000\n",
    "Collection_processes['COM']['model'].InputData.Col['comm_gen']['amount'] = Mass_Restaurants / N_locations / (365/7) * 1000\n",
    "Collection_processes['COM']['model'].InputData.Col['comm_loc']['amount'] = N_locations"
   ]
  },
  {
   "cell_type": "code",
   "execution_count": 10,
   "metadata": {
    "execution": {
     "iopub.execute_input": "2022-02-07T00:18:32.798920Z",
     "iopub.status.busy": "2022-02-07T00:18:32.798920Z",
     "iopub.status.idle": "2022-02-07T00:20:46.960497Z",
     "shell.execute_reply": "2022-02-07T00:20:46.960497Z"
    }
   },
   "outputs": [
    {
     "name": "stdout",
     "output_type": "stream",
     "text": [
      "Biosphere database already present!!! No setup is needed\n",
      "Vacuuming database \n",
      "Vacuuming database \n"
     ]
    },
    {
     "name": "stderr",
     "output_type": "stream",
     "text": [
      "Writing activities to SQLite3 database:\n"
     ]
    },
    {
     "name": "stdout",
     "output_type": "stream",
     "text": [
      "Vacuuming database \n",
      "\n",
      "                ####\n",
      "                ++++++  Writing the Technosphere\n",
      "                \n"
     ]
    },
    {
     "name": "stderr",
     "output_type": "stream",
     "text": [
      "0% [##############################] 100% | ETA: 00:00:00\n",
      "Total time elapsed: 00:00:15\n"
     ]
    },
    {
     "name": "stdout",
     "output_type": "stream",
     "text": [
      "Title: Writing activities to SQLite3 database:\n",
      "  Started: 02/10/2022 10:27:19\n",
      "  Finished: 02/10/2022 10:27:35\n",
      "  Total time elapsed: 00:00:15\n",
      "  CPU %: 42.60\n",
      "  Memory %: 1.36\n"
     ]
    },
    {
     "name": "stderr",
     "output_type": "stream",
     "text": [
      "Writing activities to SQLite3 database:\n"
     ]
    },
    {
     "name": "stdout",
     "output_type": "stream",
     "text": [
      "\n",
      "              ####\n",
      "              ++++++ Initializing the LF\n",
      "              \n"
     ]
    },
    {
     "name": "stderr",
     "output_type": "stream",
     "text": [
      "0% [##############################] 100% | ETA: 00:00:00\n",
      "Total time elapsed: 00:00:00\n",
      "Writing activities to SQLite3 database:\n"
     ]
    },
    {
     "name": "stdout",
     "output_type": "stream",
     "text": [
      "Title: Writing activities to SQLite3 database:\n",
      "  Started: 02/10/2022 10:27:35\n",
      "  Finished: 02/10/2022 10:27:36\n",
      "  Total time elapsed: 00:00:00\n",
      "  CPU %: 97.70\n",
      "  Memory %: 1.37\n",
      "\n",
      "              ####\n",
      "              ++++++ Initializing the Composting\n",
      "              \n"
     ]
    },
    {
     "name": "stderr",
     "output_type": "stream",
     "text": [
      "0% [##############################] 100% | ETA: 00:00:00\n",
      "Total time elapsed: 00:00:00\n"
     ]
    },
    {
     "name": "stdout",
     "output_type": "stream",
     "text": [
      "Title: Writing activities to SQLite3 database:\n",
      "  Started: 02/10/2022 10:27:36\n",
      "  Finished: 02/10/2022 10:27:36\n",
      "  Total time elapsed: 00:00:00\n",
      "  CPU %: 100.80\n",
      "  Memory %: 1.37\n"
     ]
    },
    {
     "name": "stderr",
     "output_type": "stream",
     "text": [
      "Writing activities to SQLite3 database:\n"
     ]
    },
    {
     "name": "stdout",
     "output_type": "stream",
     "text": [
      "\n",
      "              ####\n",
      "              ++++++ Initializing the AD\n",
      "              \n"
     ]
    },
    {
     "name": "stderr",
     "output_type": "stream",
     "text": [
      "0% [##############################] 100% | ETA: 00:00:00\n",
      "Total time elapsed: 00:00:00\n",
      "Writing activities to SQLite3 database:\n"
     ]
    },
    {
     "name": "stdout",
     "output_type": "stream",
     "text": [
      "Title: Writing activities to SQLite3 database:\n",
      "  Started: 02/10/2022 10:27:36\n",
      "  Finished: 02/10/2022 10:27:36\n",
      "  Total time elapsed: 00:00:00\n",
      "  CPU %: 97.70\n",
      "  Memory %: 1.37\n",
      "\n",
      "              ####\n",
      "              ++++++ Initializing the SS_MRF\n",
      "              \n"
     ]
    },
    {
     "name": "stderr",
     "output_type": "stream",
     "text": [
      "0% [##############################] 100% | ETA: 00:00:00\n",
      "Total time elapsed: 00:00:00\n"
     ]
    },
    {
     "name": "stdout",
     "output_type": "stream",
     "text": [
      "Title: Writing activities to SQLite3 database:\n",
      "  Started: 02/10/2022 10:27:36\n",
      "  Finished: 02/10/2022 10:27:36\n",
      "  Total time elapsed: 00:00:00\n",
      "  CPU %: 97.70\n",
      "  Memory %: 1.37\n",
      "\n",
      "              ####\n",
      "              ++++++ Initializing the Reprocessing\n",
      "              \n"
     ]
    },
    {
     "name": "stderr",
     "output_type": "stream",
     "text": [
      "Writing activities to SQLite3 database:\n",
      "0% [###############] 100% | ETA: 00:00:00\n",
      "Total time elapsed: 00:00:00\n",
      "Writing activities to SQLite3 database:\n"
     ]
    },
    {
     "name": "stdout",
     "output_type": "stream",
     "text": [
      "Title: Writing activities to SQLite3 database:\n",
      "  Started: 02/10/2022 10:27:36\n",
      "  Finished: 02/10/2022 10:27:36\n",
      "  Total time elapsed: 00:00:00\n",
      "  CPU %: 97.70\n",
      "  Memory %: 1.37\n",
      "\n",
      "              ####\n",
      "              ++++++ Initializing the WTE\n",
      "              \n"
     ]
    },
    {
     "name": "stderr",
     "output_type": "stream",
     "text": [
      "0% [##############################] 100% | ETA: 00:00:00\n",
      "Total time elapsed: 00:00:00\n"
     ]
    },
    {
     "name": "stdout",
     "output_type": "stream",
     "text": [
      "Title: Writing activities to SQLite3 database:\n",
      "  Started: 02/10/2022 10:27:36\n",
      "  Finished: 02/10/2022 10:27:36\n",
      "  Total time elapsed: 00:00:00\n",
      "  CPU %: 195.30\n",
      "  Memory %: 1.37\n"
     ]
    },
    {
     "name": "stderr",
     "output_type": "stream",
     "text": [
      "Writing activities to SQLite3 database:\n"
     ]
    },
    {
     "name": "stdout",
     "output_type": "stream",
     "text": [
      "\n",
      "              ####\n",
      "              ++++++ Initializing the SF\n",
      "              \n"
     ]
    },
    {
     "name": "stderr",
     "output_type": "stream",
     "text": [
      "0% [##############################] 100% | ETA: 00:00:00\n",
      "Total time elapsed: 00:00:00\n",
      "Writing activities to SQLite3 database:\n"
     ]
    },
    {
     "name": "stdout",
     "output_type": "stream",
     "text": [
      "Title: Writing activities to SQLite3 database:\n",
      "  Started: 02/10/2022 10:27:36\n",
      "  Finished: 02/10/2022 10:27:36\n",
      "  Total time elapsed: 00:00:00\n",
      "  CPU %: 104.20\n",
      "  Memory %: 1.37\n",
      "\n",
      "              ####\n",
      "              ++++++ Initializing the MF\n",
      "              \n"
     ]
    },
    {
     "name": "stderr",
     "output_type": "stream",
     "text": [
      "0% [##############################] 100% | ETA: 00:00:00\n",
      "Total time elapsed: 00:00:00\n"
     ]
    },
    {
     "name": "stdout",
     "output_type": "stream",
     "text": [
      "Title: Writing activities to SQLite3 database:\n",
      "  Started: 02/10/2022 10:27:36\n",
      "  Finished: 02/10/2022 10:27:36\n",
      "  Total time elapsed: 00:00:00\n",
      "  CPU %: 97.70\n",
      "  Memory %: 1.37\n",
      "\n",
      "              ####\n",
      "              ++++++ Initializing the COM\n",
      "              \n"
     ]
    },
    {
     "name": "stderr",
     "output_type": "stream",
     "text": [
      "Writing activities to SQLite3 database:\n",
      "0% [##############################] 100% | ETA: 00:00:00\n",
      "Total time elapsed: 00:00:00\n"
     ]
    },
    {
     "name": "stdout",
     "output_type": "stream",
     "text": [
      "Title: Writing activities to SQLite3 database:\n",
      "  Started: 02/10/2022 10:27:36\n",
      "  Finished: 02/10/2022 10:27:36\n",
      "  Total time elapsed: 00:00:00\n",
      "  CPU %: 50.40\n",
      "  Memory %: 1.37\n"
     ]
    },
    {
     "name": "stderr",
     "output_type": "stream",
     "text": [
      "Writing activities to SQLite3 database:\n"
     ]
    },
    {
     "name": "stdout",
     "output_type": "stream",
     "text": [
      "\n",
      "              ####\n",
      "              ++++++ Writing the LF\n",
      "              \n"
     ]
    },
    {
     "name": "stderr",
     "output_type": "stream",
     "text": [
      "0% [##############################] 100% | ETA: 00:00:00\n",
      "Total time elapsed: 00:00:01\n"
     ]
    },
    {
     "name": "stdout",
     "output_type": "stream",
     "text": [
      "Title: Writing activities to SQLite3 database:\n",
      "  Started: 02/10/2022 10:27:36\n",
      "  Finished: 02/10/2022 10:27:38\n",
      "  Total time elapsed: 00:00:01\n",
      "  CPU %: 45.50\n",
      "  Memory %: 1.38\n",
      "\n",
      "                  ####\n",
      "                  ++++++ Writing the Composting_product\n",
      "                  \n"
     ]
    },
    {
     "name": "stderr",
     "output_type": "stream",
     "text": [
      "Writing activities to SQLite3 database:\n",
      "0% [##############################] 100% | ETA: 00:00:00\n",
      "Total time elapsed: 00:00:00\n",
      "Writing activities to SQLite3 database:\n"
     ]
    },
    {
     "name": "stdout",
     "output_type": "stream",
     "text": [
      "Title: Writing activities to SQLite3 database:\n",
      "  Started: 02/10/2022 10:27:38\n",
      "  Finished: 02/10/2022 10:27:38\n",
      "  Total time elapsed: 00:00:00\n",
      "  CPU %: 100.80\n",
      "  Memory %: 1.39\n",
      "\n",
      "              ####\n",
      "              ++++++ Writing the Composting\n",
      "              \n"
     ]
    },
    {
     "name": "stderr",
     "output_type": "stream",
     "text": [
      "0% [##############################] 100% | ETA: 00:00:00\n",
      "Total time elapsed: 00:00:00\n",
      "Writing activities to SQLite3 database:\n"
     ]
    },
    {
     "name": "stdout",
     "output_type": "stream",
     "text": [
      "Title: Writing activities to SQLite3 database:\n",
      "  Started: 02/10/2022 10:27:38\n",
      "  Finished: 02/10/2022 10:27:38\n",
      "  Total time elapsed: 00:00:00\n",
      "  CPU %: 66.80\n",
      "  Memory %: 1.39\n",
      "\n",
      "                  ####\n",
      "                  ++++++ Writing the AD_product\n",
      "                  \n"
     ]
    },
    {
     "name": "stderr",
     "output_type": "stream",
     "text": [
      "0% [##############################] 100% | ETA: 00:00:00\n",
      "Total time elapsed: 00:00:00\n",
      "Writing activities to SQLite3 database:\n"
     ]
    },
    {
     "name": "stdout",
     "output_type": "stream",
     "text": [
      "Title: Writing activities to SQLite3 database:\n",
      "  Started: 02/10/2022 10:27:39\n",
      "  Finished: 02/10/2022 10:27:39\n",
      "  Total time elapsed: 00:00:00\n",
      "  CPU %: 146.50\n",
      "  Memory %: 1.40\n",
      "\n",
      "              ####\n",
      "              ++++++ Writing the AD\n",
      "              \n"
     ]
    },
    {
     "name": "stderr",
     "output_type": "stream",
     "text": [
      "0% [##############################] 100% | ETA: 00:00:00\n",
      "Total time elapsed: 00:00:00\n"
     ]
    },
    {
     "name": "stdout",
     "output_type": "stream",
     "text": [
      "Title: Writing activities to SQLite3 database:\n",
      "  Started: 02/10/2022 10:27:39\n",
      "  Finished: 02/10/2022 10:27:39\n",
      "  Total time elapsed: 00:00:00\n",
      "  CPU %: 40.00\n",
      "  Memory %: 1.40\n",
      "\n",
      "                  ####\n",
      "                  ++++++ Writing the SS_MRF_product\n",
      "                  \n"
     ]
    },
    {
     "name": "stderr",
     "output_type": "stream",
     "text": [
      "Writing activities to SQLite3 database:\n",
      "0% [##############################] 100% | ETA: 00:00:00\n",
      "Total time elapsed: 00:00:00\n"
     ]
    },
    {
     "name": "stdout",
     "output_type": "stream",
     "text": [
      "Title: Writing activities to SQLite3 database:\n",
      "  Started: 02/10/2022 10:27:39\n",
      "  Finished: 02/10/2022 10:27:40\n",
      "  Total time elapsed: 00:00:00\n",
      "  CPU %: 73.70\n",
      "  Memory %: 1.41\n"
     ]
    },
    {
     "name": "stderr",
     "output_type": "stream",
     "text": [
      "Writing activities to SQLite3 database:\n"
     ]
    },
    {
     "name": "stdout",
     "output_type": "stream",
     "text": [
      "\n",
      "              ####\n",
      "              ++++++ Writing the SS_MRF\n",
      "              \n"
     ]
    },
    {
     "name": "stderr",
     "output_type": "stream",
     "text": [
      "0% [##############################] 100% | ETA: 00:00:00\n",
      "Total time elapsed: 00:00:00\n",
      "Writing activities to SQLite3 database:\n"
     ]
    },
    {
     "name": "stdout",
     "output_type": "stream",
     "text": [
      "Title: Writing activities to SQLite3 database:\n",
      "  Started: 02/10/2022 10:27:41\n",
      "  Finished: 02/10/2022 10:27:41\n",
      "  Total time elapsed: 00:00:00\n",
      "  CPU %: 84.70\n",
      "  Memory %: 1.43\n",
      "\n",
      "              ####\n",
      "              ++++++ Writing the Reprocessing\n",
      "              \n"
     ]
    },
    {
     "name": "stderr",
     "output_type": "stream",
     "text": [
      "0% [###############] 100% | ETA: 00:00:00\n",
      "Total time elapsed: 00:00:00\n"
     ]
    },
    {
     "name": "stdout",
     "output_type": "stream",
     "text": [
      "Title: Writing activities to SQLite3 database:\n",
      "  Started: 02/10/2022 10:27:41\n",
      "  Finished: 02/10/2022 10:27:41\n",
      "  Total time elapsed: 00:00:00\n",
      "  CPU %: 60.10\n",
      "  Memory %: 1.43\n",
      "\n",
      "                  ####\n",
      "                  ++++++ Writing the WTE_product\n",
      "                  \n"
     ]
    },
    {
     "name": "stderr",
     "output_type": "stream",
     "text": [
      "Writing activities to SQLite3 database:\n",
      "0% [##############################] 100% | ETA: 00:00:00\n",
      "Total time elapsed: 00:00:00\n"
     ]
    },
    {
     "name": "stdout",
     "output_type": "stream",
     "text": [
      "Title: Writing activities to SQLite3 database:\n",
      "  Started: 02/10/2022 10:27:41\n",
      "  Finished: 02/10/2022 10:27:41\n",
      "  Total time elapsed: 00:00:00\n",
      "  CPU %: 117.60\n",
      "  Memory %: 1.43\n"
     ]
    },
    {
     "name": "stderr",
     "output_type": "stream",
     "text": [
      "Writing activities to SQLite3 database:\n"
     ]
    },
    {
     "name": "stdout",
     "output_type": "stream",
     "text": [
      "\n",
      "              ####\n",
      "              ++++++ Writing the WTE\n",
      "              \n"
     ]
    },
    {
     "name": "stderr",
     "output_type": "stream",
     "text": [
      "0% [##############################] 100% | ETA: 00:00:00\n",
      "Total time elapsed: 00:00:00\n"
     ]
    },
    {
     "name": "stdout",
     "output_type": "stream",
     "text": [
      "Title: Writing activities to SQLite3 database:\n",
      "  Started: 02/10/2022 10:27:42\n",
      "  Finished: 02/10/2022 10:27:42\n",
      "  Total time elapsed: 00:00:00\n",
      "  CPU %: 63.10\n",
      "  Memory %: 1.43\n",
      "\n",
      "                  ####\n",
      "                  ++++++ Writing the SF_product\n",
      "                  \n"
     ]
    },
    {
     "name": "stderr",
     "output_type": "stream",
     "text": [
      "Writing activities to SQLite3 database:\n",
      "0% [##############################] 100% | ETA: 00:00:00\n",
      "Total time elapsed: 00:00:00\n"
     ]
    },
    {
     "name": "stdout",
     "output_type": "stream",
     "text": [
      "Title: Writing activities to SQLite3 database:\n",
      "  Started: 02/10/2022 10:27:43\n",
      "  Finished: 02/10/2022 10:27:43\n",
      "  Total time elapsed: 00:00:00\n",
      "  CPU %: 93.80\n",
      "  Memory %: 1.44\n"
     ]
    },
    {
     "name": "stderr",
     "output_type": "stream",
     "text": [
      "Writing activities to SQLite3 database:\n"
     ]
    },
    {
     "name": "stdout",
     "output_type": "stream",
     "text": [
      "\n",
      "              ####\n",
      "              ++++++ Writing the SF\n",
      "              \n"
     ]
    },
    {
     "name": "stderr",
     "output_type": "stream",
     "text": [
      "0% [##############################] 100% | ETA: 00:00:00\n",
      "Total time elapsed: 00:00:00\n"
     ]
    },
    {
     "name": "stdout",
     "output_type": "stream",
     "text": [
      "Title: Writing activities to SQLite3 database:\n",
      "  Started: 02/10/2022 10:27:44\n",
      "  Finished: 02/10/2022 10:27:44\n",
      "  Total time elapsed: 00:00:00\n",
      "  CPU %: 133.00\n",
      "  Memory %: 1.45\n",
      "\n",
      "                  ####\n",
      "                  ++++++ Writing the MF_product\n",
      "                  \n"
     ]
    },
    {
     "name": "stderr",
     "output_type": "stream",
     "text": [
      "Writing activities to SQLite3 database:\n",
      "0% [##############################] 100% | ETA: 00:00:00\n",
      "Total time elapsed: 00:00:00\n"
     ]
    },
    {
     "name": "stdout",
     "output_type": "stream",
     "text": [
      "Title: Writing activities to SQLite3 database:\n",
      "  Started: 02/10/2022 10:27:44\n",
      "  Finished: 02/10/2022 10:27:44\n",
      "  Total time elapsed: 00:00:00\n",
      "  CPU %: 77.00\n",
      "  Memory %: 1.45\n"
     ]
    },
    {
     "name": "stderr",
     "output_type": "stream",
     "text": [
      "Writing activities to SQLite3 database:\n"
     ]
    },
    {
     "name": "stdout",
     "output_type": "stream",
     "text": [
      "\n",
      "              ####\n",
      "              ++++++ Writing the MF\n",
      "              \n"
     ]
    },
    {
     "name": "stderr",
     "output_type": "stream",
     "text": [
      "0% [##############################] 100% | ETA: 00:00:00\n",
      "Total time elapsed: 00:00:00\n"
     ]
    },
    {
     "name": "stdout",
     "output_type": "stream",
     "text": [
      "Title: Writing activities to SQLite3 database:\n",
      "  Started: 02/10/2022 10:27:45\n",
      "  Finished: 02/10/2022 10:27:45\n",
      "  Total time elapsed: 00:00:00\n",
      "  CPU %: 66.50\n",
      "  Memory %: 1.46\n",
      "\n",
      "                  ####\n",
      "                  ++++++ Writing the COM_product\n",
      "                  \n"
     ]
    },
    {
     "name": "stderr",
     "output_type": "stream",
     "text": [
      "Writing activities to SQLite3 database:\n",
      "0% [##############################] 100% | ETA: 00:00:00\n",
      "Total time elapsed: 00:00:00\n"
     ]
    },
    {
     "name": "stdout",
     "output_type": "stream",
     "text": [
      "Title: Writing activities to SQLite3 database:\n",
      "  Started: 02/10/2022 10:27:46\n",
      "  Finished: 02/10/2022 10:27:46\n",
      "  Total time elapsed: 00:00:00\n",
      "  CPU %: 49.90\n",
      "  Memory %: 1.46\n"
     ]
    },
    {
     "name": "stderr",
     "output_type": "stream",
     "text": [
      "Writing activities to SQLite3 database:\n"
     ]
    },
    {
     "name": "stdout",
     "output_type": "stream",
     "text": [
      "\n",
      "              ####\n",
      "              ++++++ Writing the COM\n",
      "              \n"
     ]
    },
    {
     "name": "stderr",
     "output_type": "stream",
     "text": [
      "0% [##############################] 100% | ETA: 00:00:00\n",
      "Total time elapsed: 00:00:00\n"
     ]
    },
    {
     "name": "stdout",
     "output_type": "stream",
     "text": [
      "Title: Writing activities to SQLite3 database:\n",
      "  Started: 02/10/2022 10:27:47\n",
      "  Finished: 02/10/2022 10:27:47\n",
      "  Total time elapsed: 00:00:00\n",
      "  CPU %: 79.10\n",
      "  Memory %: 1.47\n",
      "\n",
      "                  Grouping the exchanges with parameters in Database LF\n",
      "                  \n",
      "\n",
      "                  Grouping the exchanges with parameters in Database Composting\n",
      "                  \n",
      "\n",
      "                  Grouping the exchanges with parameters in Database AD\n",
      "                  \n",
      "\n",
      "                  Grouping the exchanges with parameters in Database SS_MRF\n",
      "                  \n",
      "\n",
      "                  Grouping the exchanges with parameters in Database Reprocessing\n",
      "                  \n",
      "\n",
      "                  Grouping the exchanges with parameters in Database WTE\n",
      "                  \n",
      "\n",
      "                  Grouping the exchanges with parameters in Database SF\n",
      "                  \n",
      "\n",
      "                  Grouping the exchanges with parameters in Database MF\n",
      "                  \n",
      "\n",
      "                  Grouping the exchanges with parameters in Database COM\n",
      "                  \n",
      "Time for writing the project: 111 second\n"
     ]
    }
   ],
   "source": [
    "start = time()\n",
    "demo = sp.Project(project_name, common_data, Treatment_processes, distance, Collection_processes, technosphere)\n",
    "demo.init_project()\n",
    "demo.write_project()\n",
    "demo.group_exchanges()\n",
    "print(\"Time for writing the project: {} second\".format(round(time()-start)))"
   ]
  },
  {
   "cell_type": "code",
   "execution_count": 11,
   "metadata": {
    "execution": {
     "iopub.execute_input": "2022-02-07T00:20:46.960497Z",
     "iopub.status.busy": "2022-02-07T00:20:46.960497Z",
     "iopub.status.idle": "2022-02-07T00:21:07.887075Z",
     "shell.execute_reply": "2022-02-07T00:21:07.887075Z"
    },
    "scrolled": true
   },
   "outputs": [
    {
     "name": "stdout",
     "output_type": "stream",
     "text": [
      "Time for updating the parameters: 15 second\n"
     ]
    },
    {
     "data": {
      "text/plain": [
       "[{'name': 'frac_of_Other_Residual_from_Composting_to_LF', 'amount': 0.5},\n",
       " {'name': 'frac_of_Other_Residual_from_Composting_to_WTE', 'amount': 0.5},\n",
       " {'name': 'frac_of_Other_Residual_from_AD_to_LF', 'amount': 0.5},\n",
       " {'name': 'frac_of_Other_Residual_from_AD_to_WTE', 'amount': 0.5},\n",
       " {'name': 'frac_of_Other_Residual_from_SS_MRF_to_LF', 'amount': 0.5},\n",
       " {'name': 'frac_of_Other_Residual_from_SS_MRF_to_WTE', 'amount': 0.5},\n",
       " {'name': 'frac_of_RWC_from_SF_to_LF', 'amount': 0.5},\n",
       " {'name': 'frac_of_RWC_from_SF_to_WTE', 'amount': 0.5},\n",
       " {'name': 'frac_of_SSO_from_SF_to_Composting', 'amount': 0.5},\n",
       " {'name': 'frac_of_SSO_from_SF_to_AD', 'amount': 0.5},\n",
       " {'name': 'frac_of_MRDO_from_SF_to_LF', 'amount': 0.5},\n",
       " {'name': 'frac_of_MRDO_from_SF_to_WTE', 'amount': 0.5},\n",
       " {'name': 'frac_of_RWC_from_MF_to_LF', 'amount': 0.5},\n",
       " {'name': 'frac_of_RWC_from_MF_to_WTE', 'amount': 0.5},\n",
       " {'name': 'frac_of_SSO_from_MF_to_Composting', 'amount': 0.5},\n",
       " {'name': 'frac_of_SSO_from_MF_to_AD', 'amount': 0.5},\n",
       " {'name': 'frac_of_RWC_from_COM_to_LF', 'amount': 0.5},\n",
       " {'name': 'frac_of_RWC_from_COM_to_WTE', 'amount': 0.5},\n",
       " {'name': 'frac_of_SSO_from_COM_to_Composting', 'amount': 0.5},\n",
       " {'name': 'frac_of_SSO_from_COM_to_AD', 'amount': 0.5}]"
      ]
     },
     "execution_count": 11,
     "metadata": {},
     "output_type": "execute_result"
    }
   ],
   "source": [
    "start = time()\n",
    "demo.update_parameters(demo.parameters.default_parameters_list())\n",
    "print(\"Time for updating the parameters: {} second\".format(round(time()-start)))\n",
    "demo.parameters_list"
   ]
  },
  {
   "cell_type": "code",
   "execution_count": 12,
   "metadata": {
    "execution": {
     "iopub.execute_input": "2022-02-07T00:21:07.887075Z",
     "iopub.status.busy": "2022-02-07T00:21:07.887075Z",
     "iopub.status.idle": "2022-02-07T00:21:08.965225Z",
     "shell.execute_reply": "2022-02-07T00:21:08.965225Z"
    }
   },
   "outputs": [],
   "source": [
    "input_dict = {'SF':{}, 'MF':{}, 'COM':{}}\n",
    "\n",
    "for key in common_data.Index:\n",
    "    input_dict['SF'][key] = 1\n",
    "    input_dict['MF'][key] = 1\n",
    "    input_dict['COM'][key] = 1\n",
    "\n",
    "demo.create_scenario(input_dict, 'Collection')"
   ]
  },
  {
   "cell_type": "code",
   "execution_count": 13,
   "metadata": {},
   "outputs": [],
   "source": [
    "FU=bw2.get_activity(('waste', 'Collection'))"
   ]
  },
  {
   "cell_type": "markdown",
   "metadata": {},
   "source": [
    "## Mass flows, impacts and costs based on default parameters"
   ]
  },
  {
   "cell_type": "code",
   "execution_count": 14,
   "metadata": {
    "execution": {
     "iopub.execute_input": "2022-02-07T00:21:08.965225Z",
     "iopub.status.busy": "2022-02-07T00:21:08.965225Z",
     "iopub.status.idle": "2022-02-07T00:21:09.605722Z",
     "shell.execute_reply": "2022-02-07T00:21:09.605722Z"
    },
    "scrolled": false
   },
   "outputs": [
    {
     "data": {
      "text/html": [
       "<div>\n",
       "<style scoped>\n",
       "    .dataframe tbody tr th:only-of-type {\n",
       "        vertical-align: middle;\n",
       "    }\n",
       "\n",
       "    .dataframe tbody tr th {\n",
       "        vertical-align: top;\n",
       "    }\n",
       "\n",
       "    .dataframe thead th {\n",
       "        text-align: right;\n",
       "    }\n",
       "</style>\n",
       "<table border=\"1\" class=\"dataframe\">\n",
       "  <thead>\n",
       "    <tr style=\"text-align: right;\">\n",
       "      <th></th>\n",
       "      <th>Value</th>\n",
       "      <th>Unit</th>\n",
       "    </tr>\n",
       "  </thead>\n",
       "  <tbody>\n",
       "    <tr>\n",
       "      <th>Diversion</th>\n",
       "      <td>61.58</td>\n",
       "      <td>%</td>\n",
       "    </tr>\n",
       "    <tr>\n",
       "      <th>GWP</th>\n",
       "      <td>349.55</td>\n",
       "      <td>kg CO2 eq/Mg</td>\n",
       "    </tr>\n",
       "    <tr>\n",
       "      <th>Operation Cost</th>\n",
       "      <td>39.98</td>\n",
       "      <td>$/Mg</td>\n",
       "    </tr>\n",
       "    <tr>\n",
       "      <th>Capital cost</th>\n",
       "      <td>16.67</td>\n",
       "      <td>$/Mg</td>\n",
       "    </tr>\n",
       "    <tr>\n",
       "      <th>Total cost</th>\n",
       "      <td>56.65</td>\n",
       "      <td>$/Mg</td>\n",
       "    </tr>\n",
       "    <tr>\n",
       "      <th>CED</th>\n",
       "      <td>-6095.82</td>\n",
       "      <td>MJ eq/Mg</td>\n",
       "    </tr>\n",
       "    <tr>\n",
       "      <th>Acidification</th>\n",
       "      <td>-3.84</td>\n",
       "      <td>kg SO2 eq/Mg</td>\n",
       "    </tr>\n",
       "    <tr>\n",
       "      <th>Eutrophication</th>\n",
       "      <td>-0.64</td>\n",
       "      <td>kg N eq/Mg</td>\n",
       "    </tr>\n",
       "    <tr>\n",
       "      <th>Photochemical smog</th>\n",
       "      <td>-14.74</td>\n",
       "      <td>kg O3 eq/Mg</td>\n",
       "    </tr>\n",
       "    <tr>\n",
       "      <th>Ecotoxicity</th>\n",
       "      <td>-5079.42</td>\n",
       "      <td>CTU/Mg</td>\n",
       "    </tr>\n",
       "    <tr>\n",
       "      <th>Human toxicity</th>\n",
       "      <td>-0.0</td>\n",
       "      <td>CTU/Mg</td>\n",
       "    </tr>\n",
       "    <tr>\n",
       "      <th>SF</th>\n",
       "      <td>306600</td>\n",
       "      <td>Mg/yr</td>\n",
       "    </tr>\n",
       "    <tr>\n",
       "      <th>MF</th>\n",
       "      <td>102200</td>\n",
       "      <td>Mg/yr</td>\n",
       "    </tr>\n",
       "    <tr>\n",
       "      <th>COM</th>\n",
       "      <td>52595</td>\n",
       "      <td>Mg/yr</td>\n",
       "    </tr>\n",
       "    <tr>\n",
       "      <th>LF</th>\n",
       "      <td>177272</td>\n",
       "      <td>Mg/yr</td>\n",
       "    </tr>\n",
       "    <tr>\n",
       "      <th>WTE</th>\n",
       "      <td>150163</td>\n",
       "      <td>Mg/yr</td>\n",
       "    </tr>\n",
       "    <tr>\n",
       "      <th>RDF</th>\n",
       "      <td>0</td>\n",
       "      <td>Mg/yr</td>\n",
       "    </tr>\n",
       "    <tr>\n",
       "      <th>GC</th>\n",
       "      <td>0</td>\n",
       "      <td>Mg/yr</td>\n",
       "    </tr>\n",
       "    <tr>\n",
       "      <th>Composting</th>\n",
       "      <td>39946</td>\n",
       "      <td>Mg/yr</td>\n",
       "    </tr>\n",
       "    <tr>\n",
       "      <th>AD</th>\n",
       "      <td>19560</td>\n",
       "      <td>Mg/yr</td>\n",
       "    </tr>\n",
       "    <tr>\n",
       "      <th>AnF</th>\n",
       "      <td>0</td>\n",
       "      <td>Mg/yr</td>\n",
       "    </tr>\n",
       "    <tr>\n",
       "      <th>SS_MRF</th>\n",
       "      <td>115005</td>\n",
       "      <td>Mg/yr</td>\n",
       "    </tr>\n",
       "    <tr>\n",
       "      <th>Reprocessing</th>\n",
       "      <td>101395</td>\n",
       "      <td>Mg/yr</td>\n",
       "    </tr>\n",
       "  </tbody>\n",
       "</table>\n",
       "</div>"
      ],
      "text/plain": [
       "                      Value          Unit\n",
       "Diversion           61.58    %           \n",
       "GWP                 349.55   kg CO2 eq/Mg\n",
       "Operation Cost      39.98    $/Mg        \n",
       "Capital cost        16.67    $/Mg        \n",
       "Total cost          56.65    $/Mg        \n",
       "CED                -6095.82  MJ eq/Mg    \n",
       "Acidification      -3.84     kg SO2 eq/Mg\n",
       "Eutrophication     -0.64     kg N eq/Mg  \n",
       "Photochemical smog -14.74    kg O3 eq/Mg \n",
       "Ecotoxicity        -5079.42  CTU/Mg      \n",
       "Human toxicity     -0.0      CTU/Mg      \n",
       "SF                  306600   Mg/yr       \n",
       "MF                  102200   Mg/yr       \n",
       "COM                 52595    Mg/yr       \n",
       "LF                  177272   Mg/yr       \n",
       "WTE                 150163   Mg/yr       \n",
       "RDF                 0        Mg/yr       \n",
       "GC                  0        Mg/yr       \n",
       "Composting          39946    Mg/yr       \n",
       "AD                  19560    Mg/yr       \n",
       "AnF                 0        Mg/yr       \n",
       "SS_MRF              115005   Mg/yr       \n",
       "Reprocessing        101395   Mg/yr       "
      ]
     },
     "execution_count": 14,
     "metadata": {},
     "output_type": "execute_result"
    }
   ],
   "source": [
    "process_list = ['SF', 'MF', 'COM', 'LF', 'WTE', 'RDF', 'GC', 'Composting', 'AD', 'AnF', 'SS_MRF', 'Reprocessing']\n",
    "perform_index = ['Diversion', 'GWP', 'Operation Cost', 'Capital cost', 'Total cost',\n",
    "                 'CED', 'Acidification', 'Eutrophication', 'Photochemical smog',\n",
    "                 'Ecotoxicity', 'Human toxicity']\n",
    "results = pd.DataFrame(columns=['Value', 'Unit'],\n",
    "                       index=perform_index+process_list,)\n",
    "\n",
    "bw2.projects.set_current('optimization')\n",
    "Demand = {('waste', 'Collection'):1}\n",
    "FU=bw2.get_activity(('waste', 'Collection'))\n",
    "lca=bw2.LCA(Demand, GWP_Method)\n",
    "lca.lci()\n",
    "lca.lcia()\n",
    "results.loc['GWP',:] = [lca.score/float(FU.as_dict()['unit'].split(' ')[0]), 'kg CO2 eq/Mg']\n",
    "\n",
    "lca.switch_method(OptCost_Method)\n",
    "lca.lcia()\n",
    "results.loc['Operation Cost',:] = [lca.score/float(FU.as_dict()['unit'].split(' ')[0]), '$/Mg']\n",
    "\n",
    "\n",
    "lca.switch_method(CapCost_Method)\n",
    "lca.lcia()\n",
    "results.loc['Capital cost',:] = [lca.score/float(FU.as_dict()['unit'].split(' ')[0]), '$/Mg']\n",
    "\n",
    "lca.switch_method(TotCost_Method)\n",
    "lca.lcia()\n",
    "results.loc['Total cost',:] = [lca.score/float(FU.as_dict()['unit'].split(' ')[0]), '$/Mg']\n",
    "\n",
    "lca.switch_method(CED_Method)\n",
    "lca.lcia()\n",
    "results.loc['CED',:] = [lca.score/float(FU.as_dict()['unit'].split(' ')[0]), 'MJ eq/Mg']\n",
    "\n",
    "lca.switch_method(ACID_Method)\n",
    "lca.lcia()\n",
    "results.loc['Acidification',:] = [lca.score/float(FU.as_dict()['unit'].split(' ')[0]), 'kg SO2 eq/Mg']\n",
    "\n",
    "lca.switch_method(ETP_Method)\n",
    "lca.lcia()\n",
    "results.loc['Eutrophication',:] = [lca.score/float(FU.as_dict()['unit'].split(' ')[0]), 'kg N eq/Mg']\n",
    "\n",
    "lca.switch_method(SMOG_Method)\n",
    "lca.lcia()\n",
    "results.loc['Photochemical smog',:] = [lca.score/float(FU.as_dict()['unit'].split(' ')[0]), 'kg O3 eq/Mg']\n",
    "\n",
    "lca.switch_method(ETOX_Method)\n",
    "lca.lcia()\n",
    "results.loc['Ecotoxicity',:] = [lca.score/float(FU.as_dict()['unit'].split(' ')[0]), 'CTU/Mg']\n",
    "\n",
    "lca.switch_method(HTOX_Method)\n",
    "lca.lcia()\n",
    "results.loc['Human toxicity',:] = [lca.score/float(FU.as_dict()['unit'].split(' ')[0]), 'CTU/Mg']\n",
    "\n",
    "\n",
    "for process in process_list:\n",
    "    results.loc[process,:] = [round(sp.LCA_matrix.LCA_matrix.get_mass_flow(lca, process)), 'Mg/yr']\n",
    "\n",
    "results.loc['Diversion',:] = [(1 - results['Value']['LF'] / float(FU.as_dict()['unit'].split(' ')[0])) * 100, '%']\n",
    "results"
   ]
  },
  {
   "cell_type": "code",
   "execution_count": 15,
   "metadata": {
    "execution": {
     "iopub.execute_input": "2022-02-07T00:21:09.605722Z",
     "iopub.status.busy": "2022-02-07T00:21:09.605722Z",
     "iopub.status.idle": "2022-02-07T00:21:09.621343Z",
     "shell.execute_reply": "2022-02-07T00:21:09.621343Z"
    },
    "scrolled": false
   },
   "outputs": [
    {
     "data": {
      "text/plain": [
       "[{'name': 'frac_of_Other_Residual_from_Composting_to_LF', 'amount': 0.5},\n",
       " {'name': 'frac_of_Other_Residual_from_Composting_to_WTE', 'amount': 0.5},\n",
       " {'name': 'frac_of_Other_Residual_from_AD_to_LF', 'amount': 0.5},\n",
       " {'name': 'frac_of_Other_Residual_from_AD_to_WTE', 'amount': 0.5},\n",
       " {'name': 'frac_of_Other_Residual_from_SS_MRF_to_LF', 'amount': 0.5},\n",
       " {'name': 'frac_of_Other_Residual_from_SS_MRF_to_WTE', 'amount': 0.5},\n",
       " {'name': 'frac_of_RWC_from_SF_to_LF', 'amount': 0.5},\n",
       " {'name': 'frac_of_RWC_from_SF_to_WTE', 'amount': 0.5},\n",
       " {'name': 'frac_of_SSO_from_SF_to_Composting', 'amount': 0.5},\n",
       " {'name': 'frac_of_SSO_from_SF_to_AD', 'amount': 0.5},\n",
       " {'name': 'frac_of_MRDO_from_SF_to_LF', 'amount': 0.5},\n",
       " {'name': 'frac_of_MRDO_from_SF_to_WTE', 'amount': 0.5},\n",
       " {'name': 'frac_of_RWC_from_MF_to_LF', 'amount': 0.5},\n",
       " {'name': 'frac_of_RWC_from_MF_to_WTE', 'amount': 0.5},\n",
       " {'name': 'frac_of_SSO_from_MF_to_Composting', 'amount': 0.5},\n",
       " {'name': 'frac_of_SSO_from_MF_to_AD', 'amount': 0.5},\n",
       " {'name': 'frac_of_RWC_from_COM_to_LF', 'amount': 0.5},\n",
       " {'name': 'frac_of_RWC_from_COM_to_WTE', 'amount': 0.5},\n",
       " {'name': 'frac_of_SSO_from_COM_to_Composting', 'amount': 0.5},\n",
       " {'name': 'frac_of_SSO_from_COM_to_AD', 'amount': 0.5}]"
      ]
     },
     "execution_count": 15,
     "metadata": {},
     "output_type": "execute_result"
    }
   ],
   "source": [
    "demo.parameters_list"
   ]
  },
  {
   "cell_type": "code",
   "execution_count": 16,
   "metadata": {
    "execution": {
     "iopub.execute_input": "2022-02-07T00:21:09.621343Z",
     "iopub.status.busy": "2022-02-07T00:21:09.621343Z",
     "iopub.status.idle": "2022-02-07T00:21:10.193377Z",
     "shell.execute_reply": "2022-02-07T00:21:10.194374Z"
    }
   },
   "outputs": [
    {
     "data": {
      "image/png": "[encoded data removed]",
      "text/plain": [
       "<IPython.core.display.Image object>"
      ]
     },
     "execution_count": 16,
     "metadata": {
      "image/png": {
       "width": 300
      }
     },
     "output_type": "execute_result"
    }
   ],
   "source": [
    "demo.parameters.SWM_network(show_vals=False, all_flow=False, filename='SWM_network_optimization')\n",
    "Image(filename='SWM_network_optimization.gv.png', width=300)"
   ]
  },
  {
   "cell_type": "code",
   "execution_count": 17,
   "metadata": {
    "execution": {
     "iopub.execute_input": "2022-02-07T00:21:10.203419Z",
     "iopub.status.busy": "2022-02-07T00:21:10.197366Z",
     "iopub.status.idle": "2022-02-07T00:21:10.219073Z",
     "shell.execute_reply": "2022-02-07T00:21:10.219073Z"
    }
   },
   "outputs": [],
   "source": [
    "# Functions used in reporting the optimization results\n",
    "def Iterations_Performance(OptObject, FileName):\n",
    "    objectives = []\n",
    "    times = []\n",
    "    for res in OptObject.all_results:\n",
    "        if res:\n",
    "            if res.success:\n",
    "                objectives.append(res.fun * 10**OptObject.magnitude)\n",
    "                times.append(res.time)\n",
    "            else:\n",
    "                objectives.append(None)\n",
    "                times.append(res.time)\n",
    "        else:\n",
    "            objectives.append(None)\n",
    "            times.append(None)\n",
    "\n",
    "    DF = pd.DataFrame({'Objective': objectives, 'Time': times})\n",
    "    DF['Ratio'] = DF['Objective']/DF['Objective'].min()\n",
    "    DF.to_csv(FileName)\n",
    "\n",
    "    plt.rcParams[\"font.family\"] = \"Times New Roman\"\n",
    "    plt.rcParams[\"font.size\"] = \"14\"\n",
    "    fig, (ax1, ax2, ax3) = plt.subplots(ncols=1, nrows=3, figsize=(15,9), sharex=True)\n",
    "\n",
    "    DF['Objective'].plot(kind='bar', ax=ax1, color='b')\n",
    "    ax1.set_ylabel(Opt.method[0][-1])\n",
    "\n",
    "    DF['Ratio'].plot(kind='bar', ax=ax2, color='r')\n",
    "    ax2.set_ylabel('Ratio to minimum')\n",
    "\n",
    "    DF['Time'].plot(kind='bar', ax=ax3, color='g')\n",
    "    ax3.set_ylabel(\"Time (sec)\")\n",
    "    ax3.set_xlabel('Iteration')\n",
    "    \n",
    "    if len(list(DF.index)) > 20:\n",
    "        ax3.set_xticks(list(DF.index[::5]))\n",
    "        ax3.set_xticklabels(list(DF.index)[::5])\n",
    "    \n",
    "    return DF\n",
    "\n",
    "def report_res(Opt, FU, fileName):\n",
    "    results = pd.DataFrame(columns=['Value', 'Unit'],\n",
    "                           index=perform_index+process_list,)\n",
    "    Opt.switch_method(GWP_Method)\n",
    "    Opt.lcia()\n",
    "    results.loc['GWP',:] = [Opt.score/float(FU.as_dict()['unit'].split(' ')[0]), 'kg CO2/Mg']\n",
    "\n",
    "    Opt.switch_method(OptCost_Method)\n",
    "    Opt.lcia()\n",
    "    results.loc['Operation Cost',:] = [Opt.score/float(FU.as_dict()['unit'].split(' ')[0]), '$/Mg']\n",
    "\n",
    "    Opt.switch_method(CapCost_Method)\n",
    "    Opt.lcia()\n",
    "    results.loc['Capital cost',:] = [Opt.score/float(FU.as_dict()['unit'].split(' ')[0]), '$/Mg']\n",
    "\n",
    "    Opt.switch_method(TotCost_Method)\n",
    "    Opt.lcia()\n",
    "    results.loc['Total cost',:] = [Opt.score/float(FU.as_dict()['unit'].split(' ')[0]), '$/Mg']\n",
    "\n",
    "    Opt.switch_method(CED_Method)\n",
    "    Opt.lcia()\n",
    "    results.loc['CED',:] = [Opt.score/float(FU.as_dict()['unit'].split(' ')[0]), 'MJ eq/Mg']\n",
    "\n",
    "    Opt.switch_method(ACID_Method)\n",
    "    Opt.lcia()\n",
    "    results.loc['Acidification',:] = [Opt.score/float(FU.as_dict()['unit'].split(' ')[0]), 'kg SO2 eq/Mg']\n",
    "\n",
    "    Opt.switch_method(ETP_Method)\n",
    "    Opt.lcia()\n",
    "    results.loc['Eutrophication',:] = [Opt.score/float(FU.as_dict()['unit'].split(' ')[0]), 'kg N eq/Mg']\n",
    "\n",
    "    Opt.switch_method(SMOG_Method)\n",
    "    Opt.lcia()\n",
    "    results.loc['Photochemical smog',:] = [Opt.score/float(FU.as_dict()['unit'].split(' ')[0]), 'kg O3 eq/Mg']\n",
    "\n",
    "    Opt.switch_method(ETOX_Method)\n",
    "    Opt.lcia()\n",
    "    results.loc['Ecotoxicity',:] = [Opt.score/float(FU.as_dict()['unit'].split(' ')[0]), 'CTU/Mg']\n",
    "\n",
    "    Opt.switch_method(HTOX_Method)\n",
    "    Opt.lcia()\n",
    "    results.loc['Human toxicity',:] = [Opt.score/float(FU.as_dict()['unit'].split(' ')[0]), 'CTU/Mg']\n",
    "\n",
    "\n",
    "    for process in process_list:\n",
    "        results.loc[process,:] = [round(sp.LCA_matrix.LCA_matrix.get_mass_flow(Opt, process)), 'Mg/yr']\n",
    "\n",
    "    results.loc['Diversion',:] = [(1 - results['Value']['LF'] / float(FU.as_dict()['unit'].split(' ')[0])) * 100, '%']\n",
    "    \n",
    "    results.to_csv(fileName)\n",
    "    return(results)"
   ]
  },
  {
   "cell_type": "markdown",
   "metadata": {},
   "source": [
    "# Optimization"
   ]
  },
  {
   "cell_type": "code",
   "execution_count": 18,
   "metadata": {
    "execution": {
     "iopub.execute_input": "2022-02-07T00:21:10.219073Z",
     "iopub.status.busy": "2022-02-07T00:21:10.219073Z",
     "iopub.status.idle": "2022-02-07T00:21:11.273261Z",
     "shell.execute_reply": "2022-02-07T00:21:11.273261Z"
    }
   },
   "outputs": [
    {
     "data": {
      "text/html": [
       "<div>\n",
       "<style scoped>\n",
       "    .dataframe tbody tr th:only-of-type {\n",
       "        vertical-align: middle;\n",
       "    }\n",
       "\n",
       "    .dataframe tbody tr th {\n",
       "        vertical-align: top;\n",
       "    }\n",
       "\n",
       "    .dataframe thead th {\n",
       "        text-align: right;\n",
       "    }\n",
       "</style>\n",
       "<table border=\"1\" class=\"dataframe\">\n",
       "  <thead>\n",
       "    <tr style=\"text-align: right;\">\n",
       "      <th></th>\n",
       "      <th>SF</th>\n",
       "      <th>SF mode</th>\n",
       "      <th>MF</th>\n",
       "      <th>MF mode</th>\n",
       "      <th>COM</th>\n",
       "      <th>COM mode</th>\n",
       "    </tr>\n",
       "  </thead>\n",
       "  <tbody>\n",
       "    <tr>\n",
       "      <th>(RWC, N/A, N/A)</th>\n",
       "      <td>0.00</td>\n",
       "      <td>Fix</td>\n",
       "      <td>0.00</td>\n",
       "      <td>Fix</td>\n",
       "      <td>0.00</td>\n",
       "      <td>Fix</td>\n",
       "    </tr>\n",
       "    <tr>\n",
       "      <th>(RWC, N/A, SSR)</th>\n",
       "      <td>0.00</td>\n",
       "      <td>Fix</td>\n",
       "      <td>0.00</td>\n",
       "      <td>Fix</td>\n",
       "      <td>0.00</td>\n",
       "      <td>Fix</td>\n",
       "    </tr>\n",
       "    <tr>\n",
       "      <th>(RWC, SSYW, N/A)</th>\n",
       "      <td>0.00</td>\n",
       "      <td>Fix</td>\n",
       "      <td>0.00</td>\n",
       "      <td>Fix</td>\n",
       "      <td>0.00</td>\n",
       "      <td>Fix</td>\n",
       "    </tr>\n",
       "    <tr>\n",
       "      <th>(RWC, SSYW, SSR)</th>\n",
       "      <td>0.00</td>\n",
       "      <td>Fix</td>\n",
       "      <td>0.00</td>\n",
       "      <td>Fix</td>\n",
       "      <td>0.00</td>\n",
       "      <td>Fix</td>\n",
       "    </tr>\n",
       "    <tr>\n",
       "      <th>(RWC, SSO, N/A)</th>\n",
       "      <td>0.00</td>\n",
       "      <td>Fix</td>\n",
       "      <td>0.00</td>\n",
       "      <td>Fix</td>\n",
       "      <td>0.00</td>\n",
       "      <td>Fix</td>\n",
       "    </tr>\n",
       "    <tr>\n",
       "      <th>(RWC, SSO, SSR)</th>\n",
       "      <td>0.33</td>\n",
       "      <td>Optimize</td>\n",
       "      <td>0.33</td>\n",
       "      <td>Optimize</td>\n",
       "      <td>0.25</td>\n",
       "      <td>Optimize</td>\n",
       "    </tr>\n",
       "    <tr>\n",
       "      <th>(RWC, SSO_AnF, N/A)</th>\n",
       "      <td>0.00</td>\n",
       "      <td>Fix</td>\n",
       "      <td>0.00</td>\n",
       "      <td>Fix</td>\n",
       "      <td>0.00</td>\n",
       "      <td>Fix</td>\n",
       "    </tr>\n",
       "    <tr>\n",
       "      <th>(RWC, SSO_AnF, SSR)</th>\n",
       "      <td>0.00</td>\n",
       "      <td>Fix</td>\n",
       "      <td>0.00</td>\n",
       "      <td>Fix</td>\n",
       "      <td>0.00</td>\n",
       "      <td>Fix</td>\n",
       "    </tr>\n",
       "    <tr>\n",
       "      <th>(REC_WetRes, N/A, REC_WetRes)</th>\n",
       "      <td>0.00</td>\n",
       "      <td>Fix</td>\n",
       "      <td>0.00</td>\n",
       "      <td>Fix</td>\n",
       "      <td>0.00</td>\n",
       "      <td>Fix</td>\n",
       "    </tr>\n",
       "    <tr>\n",
       "      <th>(REC_WetRes, SSYW, REC_WetRes)</th>\n",
       "      <td>0.00</td>\n",
       "      <td>Fix</td>\n",
       "      <td>0.00</td>\n",
       "      <td>Fix</td>\n",
       "      <td>0.00</td>\n",
       "      <td>Fix</td>\n",
       "    </tr>\n",
       "    <tr>\n",
       "      <th>(REC_WetRes, SSO, REC_WetRes)</th>\n",
       "      <td>0.00</td>\n",
       "      <td>Fix</td>\n",
       "      <td>0.00</td>\n",
       "      <td>Fix</td>\n",
       "      <td>0.00</td>\n",
       "      <td>Fix</td>\n",
       "    </tr>\n",
       "    <tr>\n",
       "      <th>(REC_WetRes, SSO_AnF, REC_WetRes)</th>\n",
       "      <td>0.00</td>\n",
       "      <td>Fix</td>\n",
       "      <td>0.00</td>\n",
       "      <td>Fix</td>\n",
       "      <td>0.00</td>\n",
       "      <td>Fix</td>\n",
       "    </tr>\n",
       "    <tr>\n",
       "      <th>(ORG_DryRes, ORG_DryRes, N/A)</th>\n",
       "      <td>0.00</td>\n",
       "      <td>Fix</td>\n",
       "      <td>0.00</td>\n",
       "      <td>Fix</td>\n",
       "      <td>0.00</td>\n",
       "      <td>Fix</td>\n",
       "    </tr>\n",
       "    <tr>\n",
       "      <th>(ORG_DryRes, ORG_DryRes, SSR)</th>\n",
       "      <td>0.00</td>\n",
       "      <td>Fix</td>\n",
       "      <td>0.00</td>\n",
       "      <td>Fix</td>\n",
       "      <td>0.00</td>\n",
       "      <td>Fix</td>\n",
       "    </tr>\n",
       "  </tbody>\n",
       "</table>\n",
       "</div>"
      ],
      "text/plain": [
       "                                     SF   SF mode    MF   MF mode   COM  \\\n",
       "(RWC, N/A, N/A)                    0.00  Fix       0.00  Fix       0.00   \n",
       "(RWC, N/A, SSR)                    0.00  Fix       0.00  Fix       0.00   \n",
       "(RWC, SSYW, N/A)                   0.00  Fix       0.00  Fix       0.00   \n",
       "(RWC, SSYW, SSR)                   0.00  Fix       0.00  Fix       0.00   \n",
       "(RWC, SSO, N/A)                    0.00  Fix       0.00  Fix       0.00   \n",
       "(RWC, SSO, SSR)                    0.33  Optimize  0.33  Optimize  0.25   \n",
       "(RWC, SSO_AnF, N/A)                0.00  Fix       0.00  Fix       0.00   \n",
       "(RWC, SSO_AnF, SSR)                0.00  Fix       0.00  Fix       0.00   \n",
       "(REC_WetRes, N/A, REC_WetRes)      0.00  Fix       0.00  Fix       0.00   \n",
       "(REC_WetRes, SSYW, REC_WetRes)     0.00  Fix       0.00  Fix       0.00   \n",
       "(REC_WetRes, SSO, REC_WetRes)      0.00  Fix       0.00  Fix       0.00   \n",
       "(REC_WetRes, SSO_AnF, REC_WetRes)  0.00  Fix       0.00  Fix       0.00   \n",
       "(ORG_DryRes, ORG_DryRes, N/A)      0.00  Fix       0.00  Fix       0.00   \n",
       "(ORG_DryRes, ORG_DryRes, SSR)      0.00  Fix       0.00  Fix       0.00   \n",
       "\n",
       "                                   COM mode  \n",
       "(RWC, N/A, N/A)                    Fix       \n",
       "(RWC, N/A, SSR)                    Fix       \n",
       "(RWC, SSYW, N/A)                   Fix       \n",
       "(RWC, SSYW, SSR)                   Fix       \n",
       "(RWC, SSO, N/A)                    Fix       \n",
       "(RWC, SSO, SSR)                    Optimize  \n",
       "(RWC, SSO_AnF, N/A)                Fix       \n",
       "(RWC, SSO_AnF, SSR)                Fix       \n",
       "(REC_WetRes, N/A, REC_WetRes)      Fix       \n",
       "(REC_WetRes, SSYW, REC_WetRes)     Fix       \n",
       "(REC_WetRes, SSO, REC_WetRes)      Fix       \n",
       "(REC_WetRes, SSO_AnF, REC_WetRes)  Fix       \n",
       "(ORG_DryRes, ORG_DryRes, N/A)      Fix       \n",
       "(ORG_DryRes, ORG_DryRes, SSR)      Fix       "
      ]
     },
     "execution_count": 18,
     "metadata": {},
     "output_type": "execute_result"
    }
   ],
   "source": [
    "scenario_name = 'MinGHG-NoGC-AnF-SO'\n",
    "Opt=sp.Optimization(Demand,[method], demo)\n",
    "\n",
    "constraints = {}\n",
    "#constraints['LF'] = {'limit':float(FU.as_dict()['unit'].split(' ')[0]) * 0.7, 'KeyType':'Process','ConstType':\"<=\"}\n",
    "\n",
    "config=Opt.config(demo)\n",
    "config.iloc[6:, [1, 3, 5]] = 'Fix'\n",
    "config.iloc[6:8, [5]] = 'Optimize'\n",
    "\n",
    "# Force Separate collection of Recyclables\n",
    "for s in config.index:\n",
    "    if s[2] == 'N/A':\n",
    "        config.loc[[s], ['SF', 'MF', 'COM']] = 0\n",
    "        config.loc[[s], ['SF mode', 'MF mode', 'COM mode']] = 'Fix'\n",
    "\n",
    "# Force Separate collection of organics\n",
    "for s in config.index:\n",
    "    if s[1] == 'N/A' or s[1] == 'SSYW':\n",
    "        config.loc[[s], ['SF', 'MF', 'COM']] = 0\n",
    "        config.loc[[s], ['SF mode', 'MF mode', 'COM mode']] = 'Fix'\n",
    "\n",
    "# Fix AnF = 0\n",
    "for s in config.index:\n",
    "    if s[1] == 'SSO_AnF':\n",
    "        config.loc[[s], ['SF', 'MF', 'COM']] = 0\n",
    "        config.loc[[s], ['SF mode', 'MF mode', 'COM mode']] = 'Fix'\n",
    "\n",
    "           \n",
    "Opt.set_config(config)\n",
    "config"
   ]
  },
  {
   "cell_type": "code",
   "execution_count": 19,
   "metadata": {
    "execution": {
     "iopub.execute_input": "2022-02-07T00:21:11.273261Z",
     "iopub.status.busy": "2022-02-07T00:21:11.273261Z",
     "iopub.status.idle": "2022-02-07T00:43:57.817965Z",
     "shell.execute_reply": "2022-02-07T00:43:57.817965Z"
    },
    "scrolled": true
   },
   "outputs": [
    {
     "name": "stdout",
     "output_type": "stream",
     "text": [
      "\n",
      "\n",
      "                      Iteration: 0\n",
      "                      Status: True, Message: Optimization terminated successfully\n",
      "                      Objective function: 118387859.2782978\n",
      "                      Global min: 118387859.2782978 \n",
      "\n",
      "                      \n",
      "\n",
      "\n",
      "                      Iteration: 1\n",
      "                      Status: True, Message: Optimization terminated successfully\n",
      "                      Objective function: 118387859.27849302\n",
      "                      Global min: 118387859.2782978 \n",
      "\n",
      "                      \n",
      "\n",
      "\n",
      "                      Iteration: 2\n",
      "                      Status: True, Message: Optimization terminated successfully\n",
      "                      Objective function: 118387859.27850217\n",
      "                      Global min: 118387859.2782978 \n",
      "\n",
      "                      \n",
      "\n",
      "\n",
      "                      Iteration: 3\n",
      "                      Status: True, Message: Optimization terminated successfully\n",
      "                      Objective function: 118387859.27746786\n",
      "                      Global min: 118387859.27746786 \n",
      "\n",
      "                      \n",
      "\n",
      "\n",
      "                      Iteration: 4\n",
      "                      Status: True, Message: Optimization terminated successfully\n",
      "                      Objective function: 118387859.27866518\n",
      "                      Global min: 118387859.27746786 \n",
      "\n",
      "                      \n",
      "\n",
      "\n",
      "                      Iteration: 5\n",
      "                      Status: True, Message: Optimization terminated successfully\n",
      "                      Objective function: 118387859.27857539\n",
      "                      Global min: 118387859.27746786 \n",
      "\n",
      "                      \n",
      "\n",
      "\n",
      "                      Iteration: 6\n",
      "                      Status: True, Message: Optimization terminated successfully\n",
      "                      Objective function: 118387859.27845979\n",
      "                      Global min: 118387859.27746786 \n",
      "\n",
      "                      \n",
      "\n",
      "\n",
      "                      Iteration: 7\n",
      "                      Status: True, Message: Optimization terminated successfully\n",
      "                      Objective function: 118387859.2783563\n",
      "                      Global min: 118387859.27746786 \n",
      "\n",
      "                      \n",
      "\n",
      "\n",
      "                      Iteration: 8\n",
      "                      Status: True, Message: Optimization terminated successfully\n",
      "                      Objective function: 118387859.27847755\n",
      "                      Global min: 118387859.27746786 \n",
      "\n",
      "                      \n",
      "\n",
      "\n",
      "                      Iteration: 9\n",
      "                      Status: True, Message: Optimization terminated successfully\n",
      "                      Objective function: 118387859.27799013\n",
      "                      Global min: 118387859.27746786 \n",
      "\n",
      "                      \n",
      "\n",
      "\n",
      "                      Iteration: 10\n",
      "                      Status: True, Message: Optimization terminated successfully\n",
      "                      Objective function: 118387859.278317\n",
      "                      Global min: 118387859.27746786 \n",
      "\n",
      "                      \n",
      "\n",
      "\n",
      "                      Iteration: 11\n",
      "                      Status: True, Message: Optimization terminated successfully\n",
      "                      Objective function: 118387859.27850239\n",
      "                      Global min: 118387859.27746786 \n",
      "\n",
      "                      \n",
      "\n",
      "\n",
      "                      Iteration: 12\n",
      "                      Status: True, Message: Optimization terminated successfully\n",
      "                      Objective function: 118387859.2778892\n",
      "                      Global min: 118387859.27746786 \n",
      "\n",
      "                      \n",
      "\n",
      "\n",
      "                      Iteration: 13\n",
      "                      Status: True, Message: Optimization terminated successfully\n",
      "                      Objective function: 118387859.27817386\n",
      "                      Global min: 118387859.27746786 \n",
      "\n",
      "                      \n",
      "\n",
      "\n",
      "                      Iteration: 14\n",
      "                      Status: True, Message: Optimization terminated successfully\n",
      "                      Objective function: 118387859.27841757\n",
      "                      Global min: 118387859.27746786 \n",
      "\n",
      "                      \n",
      "\n",
      "\n",
      "                      Iteration: 15\n",
      "                      Status: True, Message: Optimization terminated successfully\n",
      "                      Objective function: 118387859.27832825\n",
      "                      Global min: 118387859.27746786 \n",
      "\n",
      "                      \n",
      "\n",
      "\n",
      "                      Iteration: 16\n",
      "                      Status: True, Message: Optimization terminated successfully\n",
      "                      Objective function: 118387859.27827731\n",
      "                      Global min: 118387859.27746786 \n",
      "\n",
      "                      \n",
      "\n",
      "\n",
      "                      Iteration: 17\n",
      "                      Status: True, Message: Optimization terminated successfully\n",
      "                      Objective function: 118387859.27776667\n",
      "                      Global min: 118387859.27746786 \n",
      "\n",
      "                      \n",
      "\n",
      "\n",
      "                      Iteration: 18\n",
      "                      Status: True, Message: Optimization terminated successfully\n",
      "                      Objective function: 118387859.27859288\n",
      "                      Global min: 118387859.27746786 \n",
      "\n",
      "                      \n",
      "\n",
      "\n",
      "                      Iteration: 19\n",
      "                      Status: True, Message: Optimization terminated successfully\n",
      "                      Objective function: 118387859.27889085\n",
      "                      Global min: 118387859.27746786 \n",
      "\n",
      "                      \n",
      "\n",
      "\n",
      "                      Iteration: 20\n",
      "                      Status: True, Message: Optimization terminated successfully\n",
      "                      Objective function: 118387859.27849302\n",
      "                      Global min: 118387859.27746786 \n",
      "\n",
      "                      \n",
      "\n",
      "\n",
      "                      Iteration: 21\n",
      "                      Status: True, Message: Optimization terminated successfully\n",
      "                      Objective function: 118387859.27799226\n",
      "                      Global min: 118387859.27746786 \n",
      "\n",
      "                      \n",
      "\n",
      "\n",
      "                      Iteration: 22\n",
      "                      Status: True, Message: Optimization terminated successfully\n",
      "                      Objective function: 118387859.27838671\n",
      "                      Global min: 118387859.27746786 \n",
      "\n",
      "                      \n",
      "\n",
      "\n",
      "                      Iteration: 23\n",
      "                      Status: True, Message: Optimization terminated successfully\n",
      "                      Objective function: 118387859.27845368\n",
      "                      Global min: 118387859.27746786 \n",
      "\n",
      "                      \n",
      "\n",
      "\n",
      "                      Iteration: 24\n",
      "                      Status: True, Message: Optimization terminated successfully\n",
      "                      Objective function: 118387859.27833682\n",
      "                      Global min: 118387859.27746786 \n",
      "\n",
      "                      \n",
      "\n",
      "\n",
      "                      Iteration: 25\n",
      "                      Status: True, Message: Optimization terminated successfully\n",
      "                      Objective function: 118387859.27866536\n",
      "                      Global min: 118387859.27746786 \n",
      "\n",
      "                      \n",
      "\n",
      "\n",
      "                      Iteration: 26\n",
      "                      Status: True, Message: Optimization terminated successfully\n",
      "                      Objective function: 118387859.27841869\n",
      "                      Global min: 118387859.27746786 \n",
      "\n",
      "                      \n",
      "\n",
      "\n",
      "                      Iteration: 27\n",
      "                      Status: True, Message: Optimization terminated successfully\n",
      "                      Objective function: 118387859.27808857\n",
      "                      Global min: 118387859.27746786 \n",
      "\n",
      "                      \n",
      "\n",
      "\n",
      "                      Iteration: 28\n",
      "                      Status: True, Message: Optimization terminated successfully\n",
      "                      Objective function: 118387859.27806696\n",
      "                      Global min: 118387859.27746786 \n",
      "\n",
      "                      \n",
      "\n",
      "\n",
      "                      Iteration: 29\n",
      "                      Status: True, Message: Optimization terminated successfully\n",
      "                      Objective function: 118387859.27797113\n",
      "                      Global min: 118387859.27746786 \n",
      "\n",
      "                      \n",
      "\n",
      "\n",
      "                      Iteration: 30\n",
      "                      Status: True, Message: Optimization terminated successfully\n",
      "                      Objective function: 118387859.27825351\n",
      "                      Global min: 118387859.27746786 \n",
      "\n",
      "                      \n",
      "\n",
      "\n",
      "                      Iteration: 31\n",
      "                      Status: True, Message: Optimization terminated successfully\n",
      "                      Objective function: 118387859.27860972\n",
      "                      Global min: 118387859.27746786 \n",
      "\n",
      "                      \n",
      "\n",
      "\n",
      "                      Iteration: 32\n",
      "                      Status: True, Message: Optimization terminated successfully\n",
      "                      Objective function: 118387859.27840969\n",
      "                      Global min: 118387859.27746786 \n",
      "\n",
      "                      \n",
      "\n",
      "\n",
      "                      Iteration: 33\n",
      "                      Status: True, Message: Optimization terminated successfully\n",
      "                      Objective function: 118387859.2784872\n",
      "                      Global min: 118387859.27746786 \n",
      "\n",
      "                      \n",
      "\n",
      "\n",
      "                      Iteration: 34\n",
      "                      Status: True, Message: Optimization terminated successfully\n",
      "                      Objective function: 118387859.27795385\n",
      "                      Global min: 118387859.27746786 \n",
      "\n",
      "                      \n",
      "\n",
      "\n",
      "                      Iteration: 35\n",
      "                      Status: True, Message: Optimization terminated successfully\n",
      "                      Objective function: 118387859.27821831\n",
      "                      Global min: 118387859.27746786 \n",
      "\n",
      "                      \n",
      "\n",
      "\n",
      "                      Iteration: 36\n",
      "                      Status: True, Message: Optimization terminated successfully\n",
      "                      Objective function: 118387859.27811502\n",
      "                      Global min: 118387859.27746786 \n",
      "\n",
      "                      \n",
      "\n",
      "\n",
      "                      Iteration: 37\n",
      "                      Status: True, Message: Optimization terminated successfully\n",
      "                      Objective function: 118387859.2783637\n",
      "                      Global min: 118387859.27746786 \n",
      "\n",
      "                      \n",
      "\n",
      "\n",
      "                      Iteration: 38\n",
      "                      Status: True, Message: Optimization terminated successfully\n",
      "                      Objective function: 118387859.27840342\n",
      "                      Global min: 118387859.27746786 \n",
      "\n",
      "                      \n",
      "\n",
      "\n",
      "                      Iteration: 39\n",
      "                      Status: True, Message: Optimization terminated successfully\n",
      "                      Objective function: 118387859.2785663\n",
      "                      Global min: 118387859.27746786 \n",
      "\n",
      "                      \n",
      "\n",
      "\n",
      "                      Iteration: 40\n",
      "                      Status: True, Message: Optimization terminated successfully\n",
      "                      Objective function: 118387859.27817452\n",
      "                      Global min: 118387859.27746786 \n",
      "\n",
      "                      \n",
      "\n",
      "\n",
      "                      Iteration: 41\n",
      "                      Status: True, Message: Optimization terminated successfully\n",
      "                      Objective function: 118387859.27829462\n",
      "                      Global min: 118387859.27746786 \n",
      "\n",
      "                      \n",
      "\n",
      "\n",
      "                      Iteration: 42\n",
      "                      Status: True, Message: Optimization terminated successfully\n",
      "                      Objective function: 118387859.27843863\n",
      "                      Global min: 118387859.27746786 \n",
      "\n",
      "                      \n",
      "\n",
      "\n",
      "                      Iteration: 43\n",
      "                      Status: True, Message: Optimization terminated successfully\n",
      "                      Objective function: 118387859.27842325\n",
      "                      Global min: 118387859.27746786 \n",
      "\n",
      "                      \n",
      "\n",
      "\n",
      "                      Iteration: 44\n",
      "                      Status: True, Message: Optimization terminated successfully\n",
      "                      Objective function: 118387859.27837299\n",
      "                      Global min: 118387859.27746786 \n",
      "\n",
      "                      \n",
      "\n",
      "\n",
      "                      Iteration: 45\n",
      "                      Status: True, Message: Optimization terminated successfully\n",
      "                      Objective function: 118387859.27841306\n",
      "                      Global min: 118387859.27746786 \n",
      "\n",
      "                      \n",
      "\n",
      "\n",
      "                      Iteration: 46\n",
      "                      Status: True, Message: Optimization terminated successfully\n",
      "                      Objective function: 118387859.27825105\n",
      "                      Global min: 118387859.27746786 \n",
      "\n",
      "                      \n",
      "\n",
      "\n",
      "                      Iteration: 47\n",
      "                      Status: True, Message: Optimization terminated successfully\n",
      "                      Objective function: 118387859.27831009\n",
      "                      Global min: 118387859.27746786 \n",
      "\n",
      "                      \n",
      "\n",
      "\n",
      "                      Iteration: 48\n",
      "                      Status: True, Message: Optimization terminated successfully\n",
      "                      Objective function: 118387859.27829304\n",
      "                      Global min: 118387859.27746786 \n",
      "\n",
      "                      \n",
      "\n",
      "\n",
      "                      Iteration: 49\n",
      "                      Status: True, Message: Optimization terminated successfully\n",
      "                      Objective function: 118387859.27796268\n",
      "                      Global min: 118387859.27746786 \n",
      "\n",
      "                      \n"
     ]
    },
    {
     "name": "stdout",
     "output_type": "stream",
     "text": [
      "Time for Optimization: 488 second\n"
     ]
    }
   ],
   "source": [
    "start = time()\n",
    "sp.Optimization.multi_start_optimization(Opt, constraints=constraints, collection=True,\n",
    "                                         n_iter=n_iter, nproc=n_proc, timeout=timeout, initialize_guess=iter_mehtod)\n",
    "total_time = round(time()-start)\n",
    "print(\"Time for Optimization: {} second\".format(total_time))\n",
    "all_results = Opt.all_results"
   ]
  },
  {
   "cell_type": "markdown",
   "metadata": {},
   "source": [
    "### Performance of iterations"
   ]
  },
  {
   "cell_type": "code",
   "execution_count": 20,
   "metadata": {
    "execution": {
     "iopub.execute_input": "2022-02-07T00:43:57.817965Z",
     "iopub.status.busy": "2022-02-07T00:43:57.817965Z",
     "iopub.status.idle": "2022-02-07T00:43:58.443097Z",
     "shell.execute_reply": "2022-02-07T00:43:58.443097Z"
    }
   },
   "outputs": [
    {
     "data": {
      "image/png": "[encoded data removed]",
      "text/plain": [
       "<Figure size 1080x648 with 3 Axes>"
      ]
     },
     "metadata": {
      "needs_background": "light"
     },
     "output_type": "display_data"
    }
   ],
   "source": [
    "DF = Iterations_Performance(Opt, f'{scenario_name}_Iterations.csv')"
   ]
  },
  {
   "cell_type": "markdown",
   "metadata": {},
   "source": [
    "## Mass flows, impacts and costs"
   ]
  },
  {
   "cell_type": "code",
   "execution_count": 21,
   "metadata": {
    "execution": {
     "iopub.execute_input": "2022-02-07T00:43:58.443097Z",
     "iopub.status.busy": "2022-02-07T00:43:58.443097Z",
     "iopub.status.idle": "2022-02-07T00:43:58.708290Z",
     "shell.execute_reply": "2022-02-07T00:43:58.708290Z"
    }
   },
   "outputs": [
    {
     "data": {
      "text/html": [
       "<div>\n",
       "<style scoped>\n",
       "    .dataframe tbody tr th:only-of-type {\n",
       "        vertical-align: middle;\n",
       "    }\n",
       "\n",
       "    .dataframe tbody tr th {\n",
       "        vertical-align: top;\n",
       "    }\n",
       "\n",
       "    .dataframe thead th {\n",
       "        text-align: right;\n",
       "    }\n",
       "</style>\n",
       "<table border=\"1\" class=\"dataframe\">\n",
       "  <thead>\n",
       "    <tr style=\"text-align: right;\">\n",
       "      <th></th>\n",
       "      <th>Value</th>\n",
       "      <th>Unit</th>\n",
       "    </tr>\n",
       "  </thead>\n",
       "  <tbody>\n",
       "    <tr>\n",
       "      <th>Diversion</th>\n",
       "      <td>89.06</td>\n",
       "      <td>%</td>\n",
       "    </tr>\n",
       "    <tr>\n",
       "      <th>GWP</th>\n",
       "      <td>256.59</td>\n",
       "      <td>kg CO2/Mg</td>\n",
       "    </tr>\n",
       "    <tr>\n",
       "      <th>Operation Cost</th>\n",
       "      <td>41.02</td>\n",
       "      <td>$/Mg</td>\n",
       "    </tr>\n",
       "    <tr>\n",
       "      <th>Capital cost</th>\n",
       "      <td>34.56</td>\n",
       "      <td>$/Mg</td>\n",
       "    </tr>\n",
       "    <tr>\n",
       "      <th>Total cost</th>\n",
       "      <td>75.59</td>\n",
       "      <td>$/Mg</td>\n",
       "    </tr>\n",
       "    <tr>\n",
       "      <th>CED</th>\n",
       "      <td>-8495.85</td>\n",
       "      <td>MJ eq/Mg</td>\n",
       "    </tr>\n",
       "    <tr>\n",
       "      <th>Acidification</th>\n",
       "      <td>-4.69</td>\n",
       "      <td>kg SO2 eq/Mg</td>\n",
       "    </tr>\n",
       "    <tr>\n",
       "      <th>Eutrophication</th>\n",
       "      <td>-0.9</td>\n",
       "      <td>kg N eq/Mg</td>\n",
       "    </tr>\n",
       "    <tr>\n",
       "      <th>Photochemical smog</th>\n",
       "      <td>-11.78</td>\n",
       "      <td>kg O3 eq/Mg</td>\n",
       "    </tr>\n",
       "    <tr>\n",
       "      <th>Ecotoxicity</th>\n",
       "      <td>-0.0</td>\n",
       "      <td>CTU/Mg</td>\n",
       "    </tr>\n",
       "    <tr>\n",
       "      <th>Human toxicity</th>\n",
       "      <td>-0.0</td>\n",
       "      <td>CTU/Mg</td>\n",
       "    </tr>\n",
       "    <tr>\n",
       "      <th>SF</th>\n",
       "      <td>306600</td>\n",
       "      <td>Mg/yr</td>\n",
       "    </tr>\n",
       "    <tr>\n",
       "      <th>MF</th>\n",
       "      <td>102200</td>\n",
       "      <td>Mg/yr</td>\n",
       "    </tr>\n",
       "    <tr>\n",
       "      <th>COM</th>\n",
       "      <td>52595</td>\n",
       "      <td>Mg/yr</td>\n",
       "    </tr>\n",
       "    <tr>\n",
       "      <th>LF</th>\n",
       "      <td>50495</td>\n",
       "      <td>Mg/yr</td>\n",
       "    </tr>\n",
       "    <tr>\n",
       "      <th>WTE</th>\n",
       "      <td>246717</td>\n",
       "      <td>Mg/yr</td>\n",
       "    </tr>\n",
       "    <tr>\n",
       "      <th>RDF</th>\n",
       "      <td>0</td>\n",
       "      <td>Mg/yr</td>\n",
       "    </tr>\n",
       "    <tr>\n",
       "      <th>GC</th>\n",
       "      <td>0</td>\n",
       "      <td>Mg/yr</td>\n",
       "    </tr>\n",
       "    <tr>\n",
       "      <th>Composting</th>\n",
       "      <td>0</td>\n",
       "      <td>Mg/yr</td>\n",
       "    </tr>\n",
       "    <tr>\n",
       "      <th>AD</th>\n",
       "      <td>122807</td>\n",
       "      <td>Mg/yr</td>\n",
       "    </tr>\n",
       "    <tr>\n",
       "      <th>AnF</th>\n",
       "      <td>0</td>\n",
       "      <td>Mg/yr</td>\n",
       "    </tr>\n",
       "    <tr>\n",
       "      <th>SS_MRF</th>\n",
       "      <td>115005</td>\n",
       "      <td>Mg/yr</td>\n",
       "    </tr>\n",
       "    <tr>\n",
       "      <th>Reprocessing</th>\n",
       "      <td>103874</td>\n",
       "      <td>Mg/yr</td>\n",
       "    </tr>\n",
       "  </tbody>\n",
       "</table>\n",
       "</div>"
      ],
      "text/plain": [
       "                      Value          Unit\n",
       "Diversion           89.06    %           \n",
       "GWP                 256.59   kg CO2/Mg   \n",
       "Operation Cost      41.02    $/Mg        \n",
       "Capital cost        34.56    $/Mg        \n",
       "Total cost          75.59    $/Mg        \n",
       "CED                -8495.85  MJ eq/Mg    \n",
       "Acidification      -4.69     kg SO2 eq/Mg\n",
       "Eutrophication     -0.9      kg N eq/Mg  \n",
       "Photochemical smog -11.78    kg O3 eq/Mg \n",
       "Ecotoxicity        -0.0      CTU/Mg      \n",
       "Human toxicity     -0.0      CTU/Mg      \n",
       "SF                  306600   Mg/yr       \n",
       "MF                  102200   Mg/yr       \n",
       "COM                 52595    Mg/yr       \n",
       "LF                  50495    Mg/yr       \n",
       "WTE                 246717   Mg/yr       \n",
       "RDF                 0        Mg/yr       \n",
       "GC                  0        Mg/yr       \n",
       "Composting          0        Mg/yr       \n",
       "AD                  122807   Mg/yr       \n",
       "AnF                 0        Mg/yr       \n",
       "SS_MRF              115005   Mg/yr       \n",
       "Reprocessing        103874   Mg/yr       "
      ]
     },
     "execution_count": 21,
     "metadata": {},
     "output_type": "execute_result"
    }
   ],
   "source": [
    "report_res(Opt, FU, f'{scenario_name}.csv')"
   ]
  },
  {
   "cell_type": "code",
   "execution_count": 22,
   "metadata": {
    "execution": {
     "iopub.execute_input": "2022-02-07T00:43:58.708290Z",
     "iopub.status.busy": "2022-02-07T00:43:58.708290Z",
     "iopub.status.idle": "2022-02-07T00:44:02.473933Z",
     "shell.execute_reply": "2022-02-07T00:44:02.473933Z"
    },
    "scrolled": true
   },
   "outputs": [
    {
     "name": "stdout",
     "output_type": "stream",
     "text": [
      "\n",
      "              # Sankey Mass flows\n",
      "              label = ['LF', 'Composting', 'AD', 'SS_MRF', 'Reprocessing', 'WTE', 'SF', 'MF', 'COM']\n",
      "              source = [1, 1, 2, 2, 3, 3, 6, 6, 6, 6, 6, 6, 7, 7, 7, 7, 8, 8, 8, 8, 3, 3, 3, 3, 3, 3, 3, 3, 3, 3, 3, 3, 3, 3, 3, 5, 5, 5, 5, 5, 6, 6, 6, 7, 7, 8, 8]\n",
      "              target = [0, 5, 0, 5, 0, 5, 0, 5, 1, 2, 0, 5, 0, 5, 1, 2, 0, 5, 1, 2, 4, 4, 4, 4, 4, 4, 4, 4, 4, 4, 4, 4, 4, 4, 4, 0, 0, 0, 4, 4, 3, 1, 1, 3, 1, 3, 1]\n",
      "              label_link = ['Other_Residual', 'Other_Residual', 'Other_Residual', 'Other_Residual', 'Other_Residual', 'Other_Residual', 'RWC', 'RWC', 'SSO', 'SSO', 'MRDO', 'MRDO', 'RWC', 'RWC', 'SSO', 'SSO', 'RWC', 'RWC', 'SSO', 'SSO', 'LDPE_Film', 'OCC', 'Mixed_Paper', 'ONP', 'OFF', 'Fiber_Other', 'Brown_glass', 'Clear_glass', 'Green_glass', 'Mixed_Glass', 'PET', 'HDPE_P', 'HDPE_T', 'Fe', 'Al', 'Bottom_Ash', 'Fly_Ash', 'Unreacted_Ash', 'Al', 'Fe', 'SSR', 'SSYW', 'SSYWDO', 'SSR', 'SSYW', 'SSR', 'SSYW']\n",
      "              value = [0.0, 0.0, 0.0, 7043.277, 0.0, 16090.048, 0.0, 150288.607, 0.0, 85147.452, 0.0, 0.0, 0.0, 54280.626, 0.0, 16265.562, 0.0, 19013.991, 0.0, 21393.888, 3204.139, 33335.462, 45750.699, 0.0, 0.0, 0.0, 1839.473, 1946.923, 1826.578, 0.0, 3009.381, 773.958, 703.405, 4199.87, 2325.14, 44675.496, 5819.664, 0.0, 1326.407, 3632.72, 71163.941, 0.0, 0.0, 31653.812, 0.0, 12187.322, 0.0]\n"
     ]
    }
   ],
   "source": [
    "Opt.switch_method(method)\n",
    "Opt.lcia()\n",
    "Opt.plot_sankey(fileName=f'{scenario_name}.html')"
   ]
  },
  {
   "cell_type": "code",
   "execution_count": 23,
   "metadata": {},
   "outputs": [
    {
     "data": {
      "text/html": [
       "<div>\n",
       "<style scoped>\n",
       "    .dataframe tbody tr th:only-of-type {\n",
       "        vertical-align: middle;\n",
       "    }\n",
       "\n",
       "    .dataframe tbody tr th {\n",
       "        vertical-align: top;\n",
       "    }\n",
       "\n",
       "    .dataframe thead th {\n",
       "        text-align: right;\n",
       "    }\n",
       "</style>\n",
       "<table border=\"1\" class=\"dataframe\">\n",
       "  <thead>\n",
       "    <tr style=\"text-align: right;\">\n",
       "      <th></th>\n",
       "      <th>From</th>\n",
       "      <th>To</th>\n",
       "      <th>Product</th>\n",
       "      <th>amount</th>\n",
       "    </tr>\n",
       "  </thead>\n",
       "  <tbody>\n",
       "    <tr>\n",
       "      <th>0</th>\n",
       "      <td>Composting</td>\n",
       "      <td>LF</td>\n",
       "      <td>Other_Residual</td>\n",
       "      <td>0.47</td>\n",
       "    </tr>\n",
       "    <tr>\n",
       "      <th>1</th>\n",
       "      <td>Composting</td>\n",
       "      <td>WTE</td>\n",
       "      <td>Other_Residual</td>\n",
       "      <td>0.53</td>\n",
       "    </tr>\n",
       "    <tr>\n",
       "      <th>2</th>\n",
       "      <td>AD</td>\n",
       "      <td>LF</td>\n",
       "      <td>Other_Residual</td>\n",
       "      <td>0.00</td>\n",
       "    </tr>\n",
       "    <tr>\n",
       "      <th>3</th>\n",
       "      <td>AD</td>\n",
       "      <td>WTE</td>\n",
       "      <td>Other_Residual</td>\n",
       "      <td>1.00</td>\n",
       "    </tr>\n",
       "    <tr>\n",
       "      <th>4</th>\n",
       "      <td>SS_MRF</td>\n",
       "      <td>LF</td>\n",
       "      <td>Other_Residual</td>\n",
       "      <td>0.00</td>\n",
       "    </tr>\n",
       "    <tr>\n",
       "      <th>5</th>\n",
       "      <td>SS_MRF</td>\n",
       "      <td>WTE</td>\n",
       "      <td>Other_Residual</td>\n",
       "      <td>1.00</td>\n",
       "    </tr>\n",
       "    <tr>\n",
       "      <th>6</th>\n",
       "      <td>SF</td>\n",
       "      <td>LF</td>\n",
       "      <td>RWC</td>\n",
       "      <td>0.00</td>\n",
       "    </tr>\n",
       "    <tr>\n",
       "      <th>7</th>\n",
       "      <td>SF</td>\n",
       "      <td>WTE</td>\n",
       "      <td>RWC</td>\n",
       "      <td>1.00</td>\n",
       "    </tr>\n",
       "    <tr>\n",
       "      <th>8</th>\n",
       "      <td>SF</td>\n",
       "      <td>Composting</td>\n",
       "      <td>SSO</td>\n",
       "      <td>0.00</td>\n",
       "    </tr>\n",
       "    <tr>\n",
       "      <th>9</th>\n",
       "      <td>SF</td>\n",
       "      <td>AD</td>\n",
       "      <td>SSO</td>\n",
       "      <td>1.00</td>\n",
       "    </tr>\n",
       "    <tr>\n",
       "      <th>10</th>\n",
       "      <td>SF</td>\n",
       "      <td>LF</td>\n",
       "      <td>MRDO</td>\n",
       "      <td>0.49</td>\n",
       "    </tr>\n",
       "    <tr>\n",
       "      <th>11</th>\n",
       "      <td>SF</td>\n",
       "      <td>WTE</td>\n",
       "      <td>MRDO</td>\n",
       "      <td>0.51</td>\n",
       "    </tr>\n",
       "    <tr>\n",
       "      <th>12</th>\n",
       "      <td>MF</td>\n",
       "      <td>LF</td>\n",
       "      <td>RWC</td>\n",
       "      <td>0.00</td>\n",
       "    </tr>\n",
       "    <tr>\n",
       "      <th>13</th>\n",
       "      <td>MF</td>\n",
       "      <td>WTE</td>\n",
       "      <td>RWC</td>\n",
       "      <td>1.00</td>\n",
       "    </tr>\n",
       "    <tr>\n",
       "      <th>14</th>\n",
       "      <td>MF</td>\n",
       "      <td>Composting</td>\n",
       "      <td>SSO</td>\n",
       "      <td>0.00</td>\n",
       "    </tr>\n",
       "    <tr>\n",
       "      <th>15</th>\n",
       "      <td>MF</td>\n",
       "      <td>AD</td>\n",
       "      <td>SSO</td>\n",
       "      <td>1.00</td>\n",
       "    </tr>\n",
       "    <tr>\n",
       "      <th>16</th>\n",
       "      <td>COM</td>\n",
       "      <td>LF</td>\n",
       "      <td>RWC</td>\n",
       "      <td>0.00</td>\n",
       "    </tr>\n",
       "    <tr>\n",
       "      <th>17</th>\n",
       "      <td>COM</td>\n",
       "      <td>WTE</td>\n",
       "      <td>RWC</td>\n",
       "      <td>1.00</td>\n",
       "    </tr>\n",
       "    <tr>\n",
       "      <th>18</th>\n",
       "      <td>COM</td>\n",
       "      <td>Composting</td>\n",
       "      <td>SSO</td>\n",
       "      <td>0.00</td>\n",
       "    </tr>\n",
       "    <tr>\n",
       "      <th>19</th>\n",
       "      <td>COM</td>\n",
       "      <td>AD</td>\n",
       "      <td>SSO</td>\n",
       "      <td>1.00</td>\n",
       "    </tr>\n",
       "    <tr>\n",
       "      <th>20</th>\n",
       "      <td>SF</td>\n",
       "      <td>NaN</td>\n",
       "      <td>('RWC', 'SSO', 'SSR')</td>\n",
       "      <td>1.00</td>\n",
       "    </tr>\n",
       "    <tr>\n",
       "      <th>21</th>\n",
       "      <td>MF</td>\n",
       "      <td>NaN</td>\n",
       "      <td>('RWC', 'SSO', 'SSR')</td>\n",
       "      <td>1.00</td>\n",
       "    </tr>\n",
       "    <tr>\n",
       "      <th>22</th>\n",
       "      <td>COM</td>\n",
       "      <td>NaN</td>\n",
       "      <td>('RWC', 'SSO', 'SSR')</td>\n",
       "      <td>1.00</td>\n",
       "    </tr>\n",
       "  </tbody>\n",
       "</table>\n",
       "</div>"
      ],
      "text/plain": [
       "          From          To                Product  amount\n",
       "0   Composting  LF          Other_Residual         0.47  \n",
       "1   Composting  WTE         Other_Residual         0.53  \n",
       "2   AD          LF          Other_Residual         0.00  \n",
       "3   AD          WTE         Other_Residual         1.00  \n",
       "4   SS_MRF      LF          Other_Residual         0.00  \n",
       "5   SS_MRF      WTE         Other_Residual         1.00  \n",
       "6   SF          LF          RWC                    0.00  \n",
       "7   SF          WTE         RWC                    1.00  \n",
       "8   SF          Composting  SSO                    0.00  \n",
       "9   SF          AD          SSO                    1.00  \n",
       "10  SF          LF          MRDO                   0.49  \n",
       "11  SF          WTE         MRDO                   0.51  \n",
       "12  MF          LF          RWC                    0.00  \n",
       "13  MF          WTE         RWC                    1.00  \n",
       "14  MF          Composting  SSO                    0.00  \n",
       "15  MF          AD          SSO                    1.00  \n",
       "16  COM         LF          RWC                    0.00  \n",
       "17  COM         WTE         RWC                    1.00  \n",
       "18  COM         Composting  SSO                    0.00  \n",
       "19  COM         AD          SSO                    1.00  \n",
       "20  SF          NaN         ('RWC', 'SSO', 'SSR')  1.00  \n",
       "21  MF          NaN         ('RWC', 'SSO', 'SSR')  1.00  \n",
       "22  COM         NaN         ('RWC', 'SSO', 'SSR')  1.00  "
      ]
     },
     "execution_count": 23,
     "metadata": {},
     "output_type": "execute_result"
    }
   ],
   "source": [
    "params_df = pd.DataFrame(Opt.optimized_x)\n",
    "for i, j in params_df['name'].items():\n",
    "    if type(j) == str:\n",
    "        j = j.strip('frac_of_')\n",
    "        params_df.loc[i, 'From'] = j.split('_from_')[1].split('_to_')[0]\n",
    "        params_df.loc[i, 'To'] = j.split('_from_')[1].split('_to_')[1]\n",
    "        params_df.loc[i, 'Product'] = j.split('_from_')[0]\n",
    "    else:\n",
    "        params_df.loc[i, 'From'] = j[0]\n",
    "        params_df.loc[i, 'Product'] = str(j[1])\n",
    "params_df[['From', 'To', 'Product', 'amount']]"
   ]
  },
  {
   "cell_type": "code",
   "execution_count": 24,
   "metadata": {
    "execution": {
     "iopub.execute_input": "2022-02-07T00:44:02.500356Z",
     "iopub.status.busy": "2022-02-07T00:44:02.498360Z",
     "iopub.status.idle": "2022-02-07T00:44:02.521060Z",
     "shell.execute_reply": "2022-02-07T00:44:02.521060Z"
    },
    "scrolled": true
   },
   "outputs": [
    {
     "name": "stdout",
     "output_type": "stream",
     "text": [
      "\n",
      "\n",
      " collection constraints dict: \n",
      " {'SF': [20], 'MF': [21], 'COM': [22]} \n",
      "\n",
      "\n",
      "\n",
      "\n",
      "********  MinGHG-NoGC-AnF-SO - Summary *********\n",
      "Number of decision variables: 23\n",
      "Number of constraints: 13\n",
      "Total time: 0:08:08\n",
      "Average time per iteration: 0:01:08\n",
      "Successful iterations: 50\n",
      "Number of best iterations: 50\n",
      "Number of >95 iterations: 50\n",
      "\n",
      "\n"
     ]
    }
   ],
   "source": [
    "summary = f\"\"\"\\n\n",
    "********  {scenario_name} - Summary *********\n",
    "Number of decision variables: {len(Opt.optimized_x)}\n",
    "Number of constraints: {len(Opt._create_constraints())}\n",
    "Total time: {str(datetime.timedelta(seconds=round(total_time)))}\n",
    "Average time per iteration: {str(datetime.timedelta(seconds=round(DF['Time'].mean())))}\n",
    "Successful iterations: {sum(DF['Ratio']>0)}\n",
    "Number of best iterations: {sum(DF['Ratio']>0.99)}\n",
    "Number of >95 iterations: {sum(DF['Ratio']>0.95)}\\n\\n\"\"\"\n",
    "print(summary)\n",
    "text_file = open(\"Summary.txt\", \"a\")\n",
    "text_file.write(summary)\n",
    "text_file.close()"
   ]
  },
  {
   "cell_type": "code",
   "execution_count": 25,
   "metadata": {},
   "outputs": [
    {
     "data": {
      "text/plain": [
       "[{'name': 'frac_of_Other_Residual_from_Composting_to_LF', 'amount': 0.4671},\n",
       " {'name': 'frac_of_Other_Residual_from_Composting_to_WTE', 'amount': 0.5329},\n",
       " {'name': 'frac_of_Other_Residual_from_AD_to_LF', 'amount': 0.0},\n",
       " {'name': 'frac_of_Other_Residual_from_AD_to_WTE', 'amount': 1.0},\n",
       " {'name': 'frac_of_Other_Residual_from_SS_MRF_to_LF', 'amount': 0.0},\n",
       " {'name': 'frac_of_Other_Residual_from_SS_MRF_to_WTE', 'amount': 1.0},\n",
       " {'name': 'frac_of_RWC_from_SF_to_LF', 'amount': 0.0},\n",
       " {'name': 'frac_of_RWC_from_SF_to_WTE', 'amount': 1.0},\n",
       " {'name': 'frac_of_SSO_from_SF_to_Composting', 'amount': 0.0},\n",
       " {'name': 'frac_of_SSO_from_SF_to_AD', 'amount': 1.0},\n",
       " {'name': 'frac_of_MRDO_from_SF_to_LF', 'amount': 0.4922},\n",
       " {'name': 'frac_of_MRDO_from_SF_to_WTE', 'amount': 0.5078},\n",
       " {'name': 'frac_of_RWC_from_MF_to_LF', 'amount': 0.0},\n",
       " {'name': 'frac_of_RWC_from_MF_to_WTE', 'amount': 1.0},\n",
       " {'name': 'frac_of_SSO_from_MF_to_Composting', 'amount': 0.0},\n",
       " {'name': 'frac_of_SSO_from_MF_to_AD', 'amount': 1.0},\n",
       " {'name': 'frac_of_RWC_from_COM_to_LF', 'amount': 0.0},\n",
       " {'name': 'frac_of_RWC_from_COM_to_WTE', 'amount': 1.0},\n",
       " {'name': 'frac_of_SSO_from_COM_to_Composting', 'amount': 0.0},\n",
       " {'name': 'frac_of_SSO_from_COM_to_AD', 'amount': 1.0},\n",
       " {'name': ('SF', ('RWC', 'SSO', 'SSR')), 'amount': 1.0},\n",
       " {'name': ('MF', ('RWC', 'SSO', 'SSR')), 'amount': 1.0},\n",
       " {'name': ('COM', ('RWC', 'SSO', 'SSR')), 'amount': 1.0}]"
      ]
     },
     "execution_count": 25,
     "metadata": {},
     "output_type": "execute_result"
    }
   ],
   "source": [
    "Opt.optimized_x"
   ]
  },
  {
   "cell_type": "markdown",
   "metadata": {},
   "source": [
    "## Improve/Revise solution"
   ]
  },
  {
   "cell_type": "code",
   "execution_count": 26,
   "metadata": {},
   "outputs": [],
   "source": [
    "# xx = [x['amount'] for x in Opt.optimized_x]\n",
    "\n",
    "# # Revis MF collection: only ('RWC', 'SSO', 'SSR')\n",
    "# xx[33] = 0\n",
    "# Opt.optimized_x[33]['amount'] = 0\n",
    "# xx[35] = 1\n",
    "# Opt.optimized_x[35]['amount'] = 1\n",
    "\n",
    "# Opt.switch_method(method)\n",
    "# Opt.lcia()\n",
    "\n",
    "# new_res = Opt._objective_function(xx) * 10**Opt.magnitude\n",
    "# opt_solution = Opt.res_global['fun'] * 10**Opt.magnitude\n",
    "# ratio = round(new_res/opt_solution, 5)\n",
    "# solution_improved = new_res<opt_solution\n",
    "\n",
    "# print(new_res, new_res<opt_solution, ratio)"
   ]
  },
  {
   "cell_type": "code",
   "execution_count": 27,
   "metadata": {},
   "outputs": [],
   "source": [
    "# report_res(Opt, FU, f'{scenario_name}.csv')"
   ]
  },
  {
   "cell_type": "code",
   "execution_count": 28,
   "metadata": {},
   "outputs": [],
   "source": [
    "# Opt.optimized_x"
   ]
  },
  {
   "cell_type": "code",
   "execution_count": 29,
   "metadata": {},
   "outputs": [],
   "source": [
    "# Opt.switch_method(method)\n",
    "# Opt.lcia()\n",
    "# Opt.plot_sankey(optimized_flow=False, show=True, fileName=f'{scenario_name}.html', params=xx)"
   ]
  }
 ],
 "metadata": {
  "kernelspec": {
   "display_name": "Python 3",
   "language": "python",
   "name": "python3"
  },
  "language_info": {
   "codemirror_mode": {
    "name": "ipython",
    "version": 3
   },
   "file_extension": ".py",
   "mimetype": "text/x-python",
   "name": "python",
   "nbconvert_exporter": "python",
   "pygments_lexer": "ipython3",
   "version": "3.7.9"
  }
 },
 "nbformat": 4,
 "nbformat_minor": 4
}
