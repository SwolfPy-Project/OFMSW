{
 "cells": [
  {
   "cell_type": "markdown",
   "metadata": {},
   "source": [
    "# LCA OFMSW"
   ]
  },
  {
   "cell_type": "code",
   "execution_count": 1,
   "metadata": {
    "execution": {
     "iopub.execute_input": "2022-02-07T00:18:29.316255Z",
     "iopub.status.busy": "2022-02-07T00:18:29.315225Z",
     "iopub.status.idle": "2022-02-07T00:18:30.923667Z",
     "shell.execute_reply": "2022-02-07T00:18:30.923667Z"
    }
   },
   "outputs": [],
   "source": [
    "import swolfpy as sp\n",
    "import swolfpy_inputdata as spid\n",
    "import swolfpy_processmodels as sppm\n",
    "\n",
    "import brightway2 as bw2\n",
    "import pandas as pd\n",
    "import numpy as np\n",
    "from scipy import stats\n",
    "from time import time\n",
    "import matplotlib.pyplot as plt\n",
    "import seaborn as sns\n",
    "import datetime\n",
    "import os\n",
    "import platform\n",
    "from IPython.display import Image\n",
    "\n",
    "# Set font for plots\n",
    "plt.rcParams[\"font.family\"] = \"Times New Roman\"\n",
    "plt.rcParams[\"font.size\"] = \"14\"\n",
    "\n",
    "# Set specs for pandas\n",
    "pd.set_option('display.max_colwidth', 0)\n",
    "pd.set_option('display.max_rows', 500)\n",
    "pd.set_option('display.max_columns', 700)\n",
    "pd.set_option(\"precision\", 2)"
   ]
  },
  {
   "cell_type": "markdown",
   "metadata": {},
   "source": [
    "### SwolfPy version used to produced the results:"
   ]
  },
  {
   "cell_type": "code",
   "execution_count": 2,
   "metadata": {
    "execution": {
     "iopub.execute_input": "2022-02-07T00:18:30.939281Z",
     "iopub.status.busy": "2022-02-07T00:18:30.939281Z",
     "iopub.status.idle": "2022-02-07T00:18:30.954912Z",
     "shell.execute_reply": "2022-02-07T00:18:30.954912Z"
    }
   },
   "outputs": [
    {
     "data": {
      "text/html": [
       "<div>\n",
       "<style scoped>\n",
       "    .dataframe tbody tr th:only-of-type {\n",
       "        vertical-align: middle;\n",
       "    }\n",
       "\n",
       "    .dataframe tbody tr th {\n",
       "        vertical-align: top;\n",
       "    }\n",
       "\n",
       "    .dataframe thead th {\n",
       "        text-align: right;\n",
       "    }\n",
       "</style>\n",
       "<table border=\"1\" class=\"dataframe\">\n",
       "  <thead>\n",
       "    <tr style=\"text-align: right;\">\n",
       "      <th></th>\n",
       "      <th>Version</th>\n",
       "    </tr>\n",
       "  </thead>\n",
       "  <tbody>\n",
       "    <tr>\n",
       "      <th>swolfpy</th>\n",
       "      <td>0.2.4</td>\n",
       "    </tr>\n",
       "    <tr>\n",
       "      <th>swolfpy_processmodels</th>\n",
       "      <td>0.1.9</td>\n",
       "    </tr>\n",
       "    <tr>\n",
       "      <th>swolfpy_inputdata</th>\n",
       "      <td>0.2.4</td>\n",
       "    </tr>\n",
       "  </tbody>\n",
       "</table>\n",
       "</div>"
      ],
      "text/plain": [
       "                      Version\n",
       "swolfpy                0.2.4 \n",
       "swolfpy_processmodels  0.1.9 \n",
       "swolfpy_inputdata      0.2.4 "
      ]
     },
     "execution_count": 2,
     "metadata": {},
     "output_type": "execute_result"
    }
   ],
   "source": [
    "pd.DataFrame({'Version': [sp.__version__, sppm.__version__, spid.__version__]},\n",
    "             index=['swolfpy', 'swolfpy_processmodels', 'swolfpy_inputdata'])"
   ]
  },
  {
   "cell_type": "markdown",
   "metadata": {},
   "source": [
    "### System info"
   ]
  },
  {
   "cell_type": "code",
   "execution_count": 3,
   "metadata": {
    "execution": {
     "iopub.execute_input": "2022-02-07T00:18:30.954912Z",
     "iopub.status.busy": "2022-02-07T00:18:30.954912Z",
     "iopub.status.idle": "2022-02-07T00:18:30.970535Z",
     "shell.execute_reply": "2022-02-07T00:18:30.970535Z"
    }
   },
   "outputs": [
    {
     "data": {
      "text/html": [
       "<div>\n",
       "<style scoped>\n",
       "    .dataframe tbody tr th:only-of-type {\n",
       "        vertical-align: middle;\n",
       "    }\n",
       "\n",
       "    .dataframe tbody tr th {\n",
       "        vertical-align: top;\n",
       "    }\n",
       "\n",
       "    .dataframe thead th {\n",
       "        text-align: right;\n",
       "    }\n",
       "</style>\n",
       "<table border=\"1\" class=\"dataframe\">\n",
       "  <thead>\n",
       "    <tr style=\"text-align: right;\">\n",
       "      <th></th>\n",
       "      <th>info</th>\n",
       "    </tr>\n",
       "  </thead>\n",
       "  <tbody>\n",
       "    <tr>\n",
       "      <th>Platform</th>\n",
       "      <td>Windows-10-10.0.19041-SP0</td>\n",
       "    </tr>\n",
       "    <tr>\n",
       "      <th>Processor</th>\n",
       "      <td>Intel64 Family 6 Model 158 Stepping 9, GenuineIntel</td>\n",
       "    </tr>\n",
       "    <tr>\n",
       "      <th>CPU_count</th>\n",
       "      <td>8</td>\n",
       "    </tr>\n",
       "  </tbody>\n",
       "</table>\n",
       "</div>"
      ],
      "text/plain": [
       "                                                          info\n",
       "Platform   Windows-10-10.0.19041-SP0                          \n",
       "Processor  Intel64 Family 6 Model 158 Stepping 9, GenuineIntel\n",
       "CPU_count  8                                                  "
      ]
     },
     "execution_count": 3,
     "metadata": {},
     "output_type": "execute_result"
    }
   ],
   "source": [
    "pd.DataFrame({'info': [platform.platform(),\n",
    "                       platform.processor(),\n",
    "                       os.cpu_count()]},\n",
    "             index=['Platform', 'Processor', 'CPU_count'])"
   ]
  },
  {
   "cell_type": "code",
   "execution_count": 4,
   "metadata": {},
   "outputs": [],
   "source": [
    "MC_Name = 'OFMSW'\n",
    "\n",
    "n_iter = 5000\n",
    "n_proc = os.cpu_count()\n",
    "\n",
    "method = ('SwolfPy_Total_Cost', 'SwolfPy')\n",
    "\n",
    "TotCost_Method = ('SwolfPy_Total_Cost', 'SwolfPy')\n",
    "OptCost_Method = ('SwolfPy_Operational_Cost', 'SwolfPy')\n",
    "CapCost_Method = ('SwolfPy_Capital_Cost', 'SwolfPy')\n",
    "GWP_Method = ('IPCC 2013, Ecoinvent V3.5', 'climate change', 'GWP 100a, bioCO2=1, C1_36')\n",
    "CED_Method = ('cumulative energy demand', 'fossil', 'non-renewable energy resources, fossil')\n",
    "ACID_Method = ('TRACI (2.1) SwolfPy', 'environmental impact', 'acidification')\n",
    "ETP_Method = ('TRACI (2.1) SwolfPy', 'environmental impact', 'eutrophication')\n",
    "SMOG_Method = ('TRACI (2.1) SwolfPy', 'environmental impact', 'photochemical smog')\n",
    "ETOX_Method = ('USEtox (obsolete)', 'ecotoxicity', 'total')\n",
    "HTOX_Method = ('USEtox (obsolete)', 'human toxicity', 'total')\n",
    "\n",
    "methods = [TotCost_Method, GWP_Method, CED_Method, ACID_Method, ETP_Method, SMOG_Method, ETOX_Method, HTOX_Method]"
   ]
  },
  {
   "cell_type": "markdown",
   "metadata": {},
   "source": [
    "## Create project"
   ]
  },
  {
   "cell_type": "code",
   "execution_count": 5,
   "metadata": {
    "execution": {
     "iopub.execute_input": "2022-02-07T00:18:31.002829Z",
     "iopub.status.busy": "2022-02-07T00:18:31.002829Z",
     "iopub.status.idle": "2022-02-07T00:18:31.080533Z",
     "shell.execute_reply": "2022-02-07T00:18:31.081558Z"
    }
   },
   "outputs": [],
   "source": [
    "project_name = 'LCA_OFMSW'\n",
    "technosphere = sp.Technosphere(project_name)\n",
    "common_data = spid.CommonData()\n",
    "ProcessMetaData = sppm.ProcessModelsMetaData.ProcessModelsMetaData"
   ]
  },
  {
   "cell_type": "code",
   "execution_count": 6,
   "metadata": {
    "execution": {
     "iopub.execute_input": "2022-02-07T00:18:31.086545Z",
     "iopub.status.busy": "2022-02-07T00:18:31.086545Z",
     "iopub.status.idle": "2022-02-07T00:18:32.408182Z",
     "shell.execute_reply": "2022-02-07T00:18:32.408182Z"
    }
   },
   "outputs": [],
   "source": [
    "# Treatment processes\n",
    "Treatment_processes = {}\n",
    "Treatment_processes['LF'] = {'input_type':ProcessMetaData['LF']['InputType'] , 'model':sppm.LF()}\n",
    "Treatment_processes['Composting'] = {'input_type':ProcessMetaData['Comp']['InputType'] , 'model':sppm.Comp()}\n",
    "Treatment_processes['HC'] = {'input_type':ProcessMetaData['HC']['InputType'] , 'model':sppm.HC()}\n",
    "Treatment_processes['AD'] = {'input_type':ProcessMetaData['AD']['InputType'] , 'model':sppm.AD()}\n",
    "Treatment_processes['AnF'] = {'input_type':ProcessMetaData['AnF']['InputType'] , 'model':sppm.AnF()}\n",
    "Treatment_processes['SS_MRF'] = {'input_type':ProcessMetaData['SS_MRF']['InputType'] , 'model':sppm.SS_MRF()}\n",
    "Treatment_processes['Reprocessing'] = {'input_type':ProcessMetaData['Reproc']['InputType'] , 'model':sppm.Reproc()}\n",
    "Treatment_processes['RDF'] = {'input_type':ProcessMetaData['RDF']['InputType'] , 'model':sppm.RDF()}\n",
    "Treatment_processes['GC'] = {'input_type':ProcessMetaData['GC']['InputType'] , 'model':sppm.GC()}\n",
    "Treatment_processes['WTE'] = {'input_type':ProcessMetaData['WTE']['InputType'] , 'model':sppm.WTE()}"
   ]
  },
  {
   "cell_type": "code",
   "execution_count": 7,
   "metadata": {
    "execution": {
     "iopub.execute_input": "2022-02-07T00:18:32.423841Z",
     "iopub.status.busy": "2022-02-07T00:18:32.423841Z",
     "iopub.status.idle": "2022-02-07T00:18:32.439351Z",
     "shell.execute_reply": "2022-02-07T00:18:32.439351Z"
    },
    "scrolled": false
   },
   "outputs": [
    {
     "data": {
      "text/html": [
       "<div>\n",
       "<style scoped>\n",
       "    .dataframe tbody tr th:only-of-type {\n",
       "        vertical-align: middle;\n",
       "    }\n",
       "\n",
       "    .dataframe tbody tr th {\n",
       "        vertical-align: top;\n",
       "    }\n",
       "\n",
       "    .dataframe thead th {\n",
       "        text-align: right;\n",
       "    }\n",
       "</style>\n",
       "<table border=\"1\" class=\"dataframe\">\n",
       "  <thead>\n",
       "    <tr style=\"text-align: right;\">\n",
       "      <th></th>\n",
       "      <th>LF</th>\n",
       "      <th>Composting</th>\n",
       "      <th>HC</th>\n",
       "      <th>AD</th>\n",
       "      <th>AnF</th>\n",
       "      <th>SS_MRF</th>\n",
       "      <th>Reprocessing</th>\n",
       "      <th>RDF</th>\n",
       "      <th>GC</th>\n",
       "      <th>WTE</th>\n",
       "      <th>SF</th>\n",
       "      <th>MF</th>\n",
       "      <th>COM</th>\n",
       "    </tr>\n",
       "  </thead>\n",
       "  <tbody>\n",
       "    <tr>\n",
       "      <th>LF</th>\n",
       "      <td>NaN</td>\n",
       "      <td>30.0</td>\n",
       "      <td>30.0</td>\n",
       "      <td>30.0</td>\n",
       "      <td>30.0</td>\n",
       "      <td>30.0</td>\n",
       "      <td>30.0</td>\n",
       "      <td>30.0</td>\n",
       "      <td>30.0</td>\n",
       "      <td>30.0</td>\n",
       "      <td>30.0</td>\n",
       "      <td>30.0</td>\n",
       "      <td>30.0</td>\n",
       "    </tr>\n",
       "    <tr>\n",
       "      <th>Composting</th>\n",
       "      <td>NaN</td>\n",
       "      <td>NaN</td>\n",
       "      <td>30.0</td>\n",
       "      <td>30.0</td>\n",
       "      <td>30.0</td>\n",
       "      <td>30.0</td>\n",
       "      <td>30.0</td>\n",
       "      <td>30.0</td>\n",
       "      <td>30.0</td>\n",
       "      <td>30.0</td>\n",
       "      <td>30.0</td>\n",
       "      <td>30.0</td>\n",
       "      <td>30.0</td>\n",
       "    </tr>\n",
       "    <tr>\n",
       "      <th>HC</th>\n",
       "      <td>NaN</td>\n",
       "      <td>NaN</td>\n",
       "      <td>NaN</td>\n",
       "      <td>30.0</td>\n",
       "      <td>30.0</td>\n",
       "      <td>30.0</td>\n",
       "      <td>30.0</td>\n",
       "      <td>30.0</td>\n",
       "      <td>30.0</td>\n",
       "      <td>30.0</td>\n",
       "      <td>0.0</td>\n",
       "      <td>0.0</td>\n",
       "      <td>0.0</td>\n",
       "    </tr>\n",
       "    <tr>\n",
       "      <th>AD</th>\n",
       "      <td>NaN</td>\n",
       "      <td>NaN</td>\n",
       "      <td>NaN</td>\n",
       "      <td>NaN</td>\n",
       "      <td>30.0</td>\n",
       "      <td>30.0</td>\n",
       "      <td>30.0</td>\n",
       "      <td>30.0</td>\n",
       "      <td>30.0</td>\n",
       "      <td>30.0</td>\n",
       "      <td>30.0</td>\n",
       "      <td>30.0</td>\n",
       "      <td>30.0</td>\n",
       "    </tr>\n",
       "    <tr>\n",
       "      <th>AnF</th>\n",
       "      <td>NaN</td>\n",
       "      <td>NaN</td>\n",
       "      <td>NaN</td>\n",
       "      <td>NaN</td>\n",
       "      <td>NaN</td>\n",
       "      <td>30.0</td>\n",
       "      <td>30.0</td>\n",
       "      <td>30.0</td>\n",
       "      <td>30.0</td>\n",
       "      <td>30.0</td>\n",
       "      <td>30.0</td>\n",
       "      <td>30.0</td>\n",
       "      <td>30.0</td>\n",
       "    </tr>\n",
       "    <tr>\n",
       "      <th>SS_MRF</th>\n",
       "      <td>NaN</td>\n",
       "      <td>NaN</td>\n",
       "      <td>NaN</td>\n",
       "      <td>NaN</td>\n",
       "      <td>NaN</td>\n",
       "      <td>NaN</td>\n",
       "      <td>30.0</td>\n",
       "      <td>30.0</td>\n",
       "      <td>30.0</td>\n",
       "      <td>30.0</td>\n",
       "      <td>30.0</td>\n",
       "      <td>30.0</td>\n",
       "      <td>30.0</td>\n",
       "    </tr>\n",
       "    <tr>\n",
       "      <th>Reprocessing</th>\n",
       "      <td>NaN</td>\n",
       "      <td>NaN</td>\n",
       "      <td>NaN</td>\n",
       "      <td>NaN</td>\n",
       "      <td>NaN</td>\n",
       "      <td>NaN</td>\n",
       "      <td>NaN</td>\n",
       "      <td>30.0</td>\n",
       "      <td>30.0</td>\n",
       "      <td>30.0</td>\n",
       "      <td>30.0</td>\n",
       "      <td>30.0</td>\n",
       "      <td>30.0</td>\n",
       "    </tr>\n",
       "    <tr>\n",
       "      <th>RDF</th>\n",
       "      <td>NaN</td>\n",
       "      <td>NaN</td>\n",
       "      <td>NaN</td>\n",
       "      <td>NaN</td>\n",
       "      <td>NaN</td>\n",
       "      <td>NaN</td>\n",
       "      <td>NaN</td>\n",
       "      <td>NaN</td>\n",
       "      <td>30.0</td>\n",
       "      <td>30.0</td>\n",
       "      <td>30.0</td>\n",
       "      <td>30.0</td>\n",
       "      <td>30.0</td>\n",
       "    </tr>\n",
       "    <tr>\n",
       "      <th>GC</th>\n",
       "      <td>NaN</td>\n",
       "      <td>NaN</td>\n",
       "      <td>NaN</td>\n",
       "      <td>NaN</td>\n",
       "      <td>NaN</td>\n",
       "      <td>NaN</td>\n",
       "      <td>NaN</td>\n",
       "      <td>NaN</td>\n",
       "      <td>NaN</td>\n",
       "      <td>30.0</td>\n",
       "      <td>30.0</td>\n",
       "      <td>30.0</td>\n",
       "      <td>30.0</td>\n",
       "    </tr>\n",
       "    <tr>\n",
       "      <th>WTE</th>\n",
       "      <td>NaN</td>\n",
       "      <td>NaN</td>\n",
       "      <td>NaN</td>\n",
       "      <td>NaN</td>\n",
       "      <td>NaN</td>\n",
       "      <td>NaN</td>\n",
       "      <td>NaN</td>\n",
       "      <td>NaN</td>\n",
       "      <td>NaN</td>\n",
       "      <td>NaN</td>\n",
       "      <td>30.0</td>\n",
       "      <td>30.0</td>\n",
       "      <td>30.0</td>\n",
       "    </tr>\n",
       "    <tr>\n",
       "      <th>SF</th>\n",
       "      <td>NaN</td>\n",
       "      <td>NaN</td>\n",
       "      <td>NaN</td>\n",
       "      <td>NaN</td>\n",
       "      <td>NaN</td>\n",
       "      <td>NaN</td>\n",
       "      <td>NaN</td>\n",
       "      <td>NaN</td>\n",
       "      <td>NaN</td>\n",
       "      <td>NaN</td>\n",
       "      <td>NaN</td>\n",
       "      <td>30.0</td>\n",
       "      <td>30.0</td>\n",
       "    </tr>\n",
       "    <tr>\n",
       "      <th>MF</th>\n",
       "      <td>NaN</td>\n",
       "      <td>NaN</td>\n",
       "      <td>NaN</td>\n",
       "      <td>NaN</td>\n",
       "      <td>NaN</td>\n",
       "      <td>NaN</td>\n",
       "      <td>NaN</td>\n",
       "      <td>NaN</td>\n",
       "      <td>NaN</td>\n",
       "      <td>NaN</td>\n",
       "      <td>NaN</td>\n",
       "      <td>NaN</td>\n",
       "      <td>30.0</td>\n",
       "    </tr>\n",
       "    <tr>\n",
       "      <th>COM</th>\n",
       "      <td>NaN</td>\n",
       "      <td>NaN</td>\n",
       "      <td>NaN</td>\n",
       "      <td>NaN</td>\n",
       "      <td>NaN</td>\n",
       "      <td>NaN</td>\n",
       "      <td>NaN</td>\n",
       "      <td>NaN</td>\n",
       "      <td>NaN</td>\n",
       "      <td>NaN</td>\n",
       "      <td>NaN</td>\n",
       "      <td>NaN</td>\n",
       "      <td>NaN</td>\n",
       "    </tr>\n",
       "  </tbody>\n",
       "</table>\n",
       "</div>"
      ],
      "text/plain": [
       "              LF  Composting    HC    AD   AnF  SS_MRF  Reprocessing   RDF  \\\n",
       "LF           NaN  30.0        30.0  30.0  30.0  30.0    30.0          30.0   \n",
       "Composting   NaN NaN          30.0  30.0  30.0  30.0    30.0          30.0   \n",
       "HC           NaN NaN         NaN    30.0  30.0  30.0    30.0          30.0   \n",
       "AD           NaN NaN         NaN   NaN    30.0  30.0    30.0          30.0   \n",
       "AnF          NaN NaN         NaN   NaN   NaN    30.0    30.0          30.0   \n",
       "SS_MRF       NaN NaN         NaN   NaN   NaN   NaN      30.0          30.0   \n",
       "Reprocessing NaN NaN         NaN   NaN   NaN   NaN     NaN            30.0   \n",
       "RDF          NaN NaN         NaN   NaN   NaN   NaN     NaN           NaN     \n",
       "GC           NaN NaN         NaN   NaN   NaN   NaN     NaN           NaN     \n",
       "WTE          NaN NaN         NaN   NaN   NaN   NaN     NaN           NaN     \n",
       "SF           NaN NaN         NaN   NaN   NaN   NaN     NaN           NaN     \n",
       "MF           NaN NaN         NaN   NaN   NaN   NaN     NaN           NaN     \n",
       "COM          NaN NaN         NaN   NaN   NaN   NaN     NaN           NaN     \n",
       "\n",
       "                GC   WTE    SF    MF   COM  \n",
       "LF            30.0  30.0  30.0  30.0  30.0  \n",
       "Composting    30.0  30.0  30.0  30.0  30.0  \n",
       "HC            30.0  30.0  0.0   0.0   0.0   \n",
       "AD            30.0  30.0  30.0  30.0  30.0  \n",
       "AnF           30.0  30.0  30.0  30.0  30.0  \n",
       "SS_MRF        30.0  30.0  30.0  30.0  30.0  \n",
       "Reprocessing  30.0  30.0  30.0  30.0  30.0  \n",
       "RDF           30.0  30.0  30.0  30.0  30.0  \n",
       "GC           NaN    30.0  30.0  30.0  30.0  \n",
       "WTE          NaN   NaN    30.0  30.0  30.0  \n",
       "SF           NaN   NaN   NaN    30.0  30.0  \n",
       "MF           NaN   NaN   NaN   NaN    30.0  \n",
       "COM          NaN   NaN   NaN   NaN   NaN    "
      ]
     },
     "execution_count": 7,
     "metadata": {},
     "output_type": "execute_result"
    }
   ],
   "source": [
    "# Distance\n",
    "Processes = ['LF', 'Composting', 'HC', 'AD', 'AnF', 'SS_MRF', 'Reprocessing', 'RDF', 'GC', 'WTE', 'SF', 'MF', 'COM']\n",
    "data = sppm.Distance.create_distance_table(process_names=Processes,\n",
    "                                           transport_modes=['Heavy Duty Truck'],\n",
    "                                           default_dist=30)\n",
    "\n",
    "data['Heavy Duty Truck']['SF']['HC'] = 0\n",
    "data['Heavy Duty Truck']['MF']['HC'] = 0\n",
    "data['Heavy Duty Truck']['COM']['HC'] = 0\n",
    "\n",
    "distance = sppm.Distance(data)          \n",
    "data['Heavy Duty Truck']"
   ]
  },
  {
   "cell_type": "code",
   "execution_count": 8,
   "metadata": {
    "execution": {
     "iopub.execute_input": "2022-02-07T00:18:32.439351Z",
     "iopub.status.busy": "2022-02-07T00:18:32.439351Z",
     "iopub.status.idle": "2022-02-07T00:18:32.783288Z",
     "shell.execute_reply": "2022-02-07T00:18:32.783288Z"
    }
   },
   "outputs": [],
   "source": [
    "# Collection_processes:\n",
    "Collection_processes = {}\n",
    "\n",
    "SF_scheme = sppm.SF_Col.scheme()\n",
    "SF_scheme[('RWC', 'N/A', 'SSR')] = 1\n",
    "Collection_processes['SF'] = {'input_type': [],\n",
    "                              'model': sppm.SF_Col('SF', SF_scheme,\n",
    "                              Treatment_processes=Treatment_processes,\n",
    "                              Distance=distance)}\n",
    "\n",
    "MF_scheme = sppm.MF_Col.scheme()\n",
    "MF_scheme[('RWC', 'N/A', 'SSR')] = 1\n",
    "Collection_processes['MF'] = {'input_type': [],\n",
    "                              'model': sppm.MF_Col('MF', MF_scheme,\n",
    "                              Treatment_processes=Treatment_processes,\n",
    "                              Distance=distance)}\n",
    "\n",
    "COM_scheme = sppm.COM_Col.scheme()\n",
    "COM_scheme[('RWC', 'SSO_AnF', 'SSR')] = 1\n",
    "Collection_processes['COM'] = {'input_type': [],\n",
    "                               'model': sppm.COM_Col('COM', COM_scheme,\n",
    "                               Treatment_processes=Treatment_processes,\n",
    "                               Distance=distance)}"
   ]
  },
  {
   "cell_type": "code",
   "execution_count": 9,
   "metadata": {
    "execution": {
     "iopub.execute_input": "2022-02-07T00:18:32.783288Z",
     "iopub.status.busy": "2022-02-07T00:18:32.783288Z",
     "iopub.status.idle": "2022-02-07T00:18:32.798920Z",
     "shell.execute_reply": "2022-02-07T00:18:32.798920Z"
    }
   },
   "outputs": [],
   "source": [
    "population = 10**6\n",
    "SF_density = 2.66\n",
    "MF_density = 2.06\n",
    "MF_fraction = 0.25\n",
    "res_gen_rate = 1.12\n",
    "\n",
    "# Composition data\n",
    "comp_data = pd.read_csv('Composition Data/Updated Composition.csv', index_col=0)\n",
    "\n",
    "# Set SF\n",
    "Collection_processes['SF']['model'].process_data['Comp'] = comp_data['SingleFamily'].values\n",
    "Collection_processes['SF']['model'].InputData.Col['res_per_dwel']['amount'] = SF_density\n",
    "Collection_processes['SF']['model'].InputData.Col['houses_res']['amount'] = population * (1-MF_fraction) / SF_density\n",
    "Collection_processes['SF']['model'].InputData.Col['res_gen']['amount'] = res_gen_rate\n",
    "\n",
    "# Set MF\n",
    "Collection_processes['MF']['model'].process_data['Comp'] = comp_data['MultiFamily'].values\n",
    "Collection_processes['MF']['model'].InputData.Col['res_per_dwel']['amount'] = MF_density\n",
    "Collection_processes['MF']['model'].InputData.Col['houses_res']['amount'] = population * MF_fraction / MF_density\n",
    "Collection_processes['MF']['model'].InputData.Col['res_gen']['amount'] = res_gen_rate\n",
    "\n",
    "# Set COM\n",
    "Collection_processes['COM']['model'].process_data['Comp'] = comp_data['Restaurants'].values\n",
    "Mass_Restaurants = 0.0549 * population - 2304.8\n",
    "N_locations = 1000\n",
    "Collection_processes['COM']['model'].InputData.Col['comm_gen']['amount'] = Mass_Restaurants / N_locations / (365/7) * 1000\n",
    "Collection_processes['COM']['model'].InputData.Col['comm_loc']['amount'] = N_locations"
   ]
  },
  {
   "cell_type": "markdown",
   "metadata": {},
   "source": [
    "## Set RDF composition in GC"
   ]
  },
  {
   "cell_type": "code",
   "execution_count": 10,
   "metadata": {},
   "outputs": [],
   "source": [
    "RDF_Comp = pd.read_csv('RDF_comp/MinGHG_RDF_Comp.csv', index_col=0)\n",
    "Treatment_processes['GC']['model'].process_data['Assumed_Comp']  = RDF_Comp['New RDF Comp']"
   ]
  },
  {
   "cell_type": "markdown",
   "metadata": {},
   "source": [
    "## Define Uncertainty"
   ]
  },
  {
   "cell_type": "code",
   "execution_count": 11,
   "metadata": {},
   "outputs": [],
   "source": [
    "from Set_MC import Set_MC\n",
    "Set_MC(Treatment_processes, Collection_processes, common_data)"
   ]
  },
  {
   "cell_type": "code",
   "execution_count": 12,
   "metadata": {
    "execution": {
     "iopub.execute_input": "2022-02-07T00:18:32.798920Z",
     "iopub.status.busy": "2022-02-07T00:18:32.798920Z",
     "iopub.status.idle": "2022-02-07T00:20:46.960497Z",
     "shell.execute_reply": "2022-02-07T00:20:46.960497Z"
    }
   },
   "outputs": [
    {
     "name": "stdout",
     "output_type": "stream",
     "text": [
      "Biosphere database already present!!! No setup is needed\n",
      "Vacuuming database \n",
      "Vacuuming database \n",
      "Vacuuming database \n"
     ]
    },
    {
     "name": "stderr",
     "output_type": "stream",
     "text": [
      "Writing activities to SQLite3 database:\n"
     ]
    },
    {
     "name": "stdout",
     "output_type": "stream",
     "text": [
      "\n",
      "                ####\n",
      "                ++++++  Writing the Technosphere\n",
      "                \n"
     ]
    },
    {
     "name": "stderr",
     "output_type": "stream",
     "text": [
      "0% [##############################] 100% | ETA: 00:00:00\n",
      "Total time elapsed: 00:00:15\n"
     ]
    },
    {
     "name": "stdout",
     "output_type": "stream",
     "text": [
      "Title: Writing activities to SQLite3 database:\n",
      "  Started: 03/01/2022 17:06:23\n",
      "  Finished: 03/01/2022 17:06:39\n",
      "  Total time elapsed: 00:00:15\n",
      "  CPU %: 48.40\n",
      "  Memory %: 1.39\n"
     ]
    },
    {
     "name": "stderr",
     "output_type": "stream",
     "text": [
      "Writing activities to SQLite3 database:\n"
     ]
    },
    {
     "name": "stdout",
     "output_type": "stream",
     "text": [
      "\n",
      "              ####\n",
      "              ++++++ Initializing the LF\n",
      "              \n"
     ]
    },
    {
     "name": "stderr",
     "output_type": "stream",
     "text": [
      "0% [##############################] 100% | ETA: 00:00:00\n",
      "Total time elapsed: 00:00:00\n",
      "Writing activities to SQLite3 database:\n"
     ]
    },
    {
     "name": "stdout",
     "output_type": "stream",
     "text": [
      "Title: Writing activities to SQLite3 database:\n",
      "  Started: 03/01/2022 17:06:40\n",
      "  Finished: 03/01/2022 17:06:40\n",
      "  Total time elapsed: 00:00:00\n",
      "  CPU %: 97.70\n",
      "  Memory %: 1.40\n",
      "\n",
      "              ####\n",
      "              ++++++ Initializing the Composting\n",
      "              \n"
     ]
    },
    {
     "name": "stderr",
     "output_type": "stream",
     "text": [
      "0% [##############################] 100% | ETA: 00:00:00\n",
      "Total time elapsed: 00:00:00\n"
     ]
    },
    {
     "name": "stdout",
     "output_type": "stream",
     "text": [
      "Title: Writing activities to SQLite3 database:\n",
      "  Started: 03/01/2022 17:06:40\n",
      "  Finished: 03/01/2022 17:06:40\n",
      "  Total time elapsed: 00:00:00\n",
      "  CPU %: 104.20\n",
      "  Memory %: 1.40\n",
      "\n",
      "              ####\n",
      "              ++++++ Initializing the HC\n",
      "              \n"
     ]
    },
    {
     "name": "stderr",
     "output_type": "stream",
     "text": [
      "Writing activities to SQLite3 database:\n",
      "0% [##############################] 100% | ETA: 00:00:00\n",
      "Total time elapsed: 00:00:00\n"
     ]
    },
    {
     "name": "stdout",
     "output_type": "stream",
     "text": [
      "Title: Writing activities to SQLite3 database:\n",
      "  Started: 03/01/2022 17:06:40\n",
      "  Finished: 03/01/2022 17:06:40\n",
      "  Total time elapsed: 00:00:00\n",
      "  CPU %: 195.30\n",
      "  Memory %: 1.40\n",
      "\n",
      "              ####\n",
      "              ++++++ Initializing the AD\n",
      "              \n"
     ]
    },
    {
     "name": "stderr",
     "output_type": "stream",
     "text": [
      "Writing activities to SQLite3 database:\n",
      "0% [##############################] 100% | ETA: 00:00:00\n",
      "Total time elapsed: 00:00:00\n"
     ]
    },
    {
     "name": "stdout",
     "output_type": "stream",
     "text": [
      "Title: Writing activities to SQLite3 database:\n",
      "  Started: 03/01/2022 17:06:40\n",
      "  Finished: 03/01/2022 17:06:40\n",
      "  Total time elapsed: 00:00:00\n",
      "  CPU %: 104.20\n",
      "  Memory %: 1.40\n",
      "\n",
      "              ####\n",
      "              ++++++ Initializing the AnF\n",
      "              \n"
     ]
    },
    {
     "name": "stderr",
     "output_type": "stream",
     "text": [
      "Writing activities to SQLite3 database:\n",
      "0% [##############################] 100% | ETA: 00:00:00\n",
      "Total time elapsed: 00:00:00\n"
     ]
    },
    {
     "name": "stdout",
     "output_type": "stream",
     "text": [
      "Title: Writing activities to SQLite3 database:\n",
      "  Started: 03/01/2022 17:06:40\n",
      "  Finished: 03/01/2022 17:06:40\n",
      "  Total time elapsed: 00:00:00\n",
      "  CPU %: 97.70\n",
      "  Memory %: 1.40\n",
      "\n",
      "              ####\n",
      "              ++++++ Initializing the SS_MRF\n",
      "              \n"
     ]
    },
    {
     "name": "stderr",
     "output_type": "stream",
     "text": [
      "Writing activities to SQLite3 database:\n",
      "0% [##############################] 100% | ETA: 00:00:00\n",
      "Total time elapsed: 00:00:00\n",
      "Writing activities to SQLite3 database:\n"
     ]
    },
    {
     "name": "stdout",
     "output_type": "stream",
     "text": [
      "Title: Writing activities to SQLite3 database:\n",
      "  Started: 03/01/2022 17:06:41\n",
      "  Finished: 03/01/2022 17:06:41\n",
      "  Total time elapsed: 00:00:00\n",
      "  CPU %: 97.70\n",
      "  Memory %: 1.40\n",
      "\n",
      "              ####\n",
      "              ++++++ Initializing the Reprocessing\n",
      "              \n"
     ]
    },
    {
     "name": "stderr",
     "output_type": "stream",
     "text": [
      "0% [###############] 100% | ETA: 00:00:00\n",
      "Total time elapsed: 00:00:00\n",
      "Writing activities to SQLite3 database:\n"
     ]
    },
    {
     "name": "stdout",
     "output_type": "stream",
     "text": [
      "Title: Writing activities to SQLite3 database:\n",
      "  Started: 03/01/2022 17:06:41\n",
      "  Finished: 03/01/2022 17:06:41\n",
      "  Total time elapsed: 00:00:00\n",
      "  CPU %: 195.30\n",
      "  Memory %: 1.40\n",
      "\n",
      "              ####\n",
      "              ++++++ Initializing the RDF\n",
      "              \n"
     ]
    },
    {
     "name": "stderr",
     "output_type": "stream",
     "text": [
      "0% [##############################] 100% | ETA: 00:00:00\n",
      "Total time elapsed: 00:00:00\n"
     ]
    },
    {
     "name": "stdout",
     "output_type": "stream",
     "text": [
      "Title: Writing activities to SQLite3 database:\n",
      "  Started: 03/01/2022 17:06:41\n",
      "  Finished: 03/01/2022 17:06:41\n",
      "  Total time elapsed: 00:00:00\n",
      "  CPU %: 97.70\n",
      "  Memory %: 1.40\n"
     ]
    },
    {
     "name": "stderr",
     "output_type": "stream",
     "text": [
      "Writing activities to SQLite3 database:\n"
     ]
    },
    {
     "name": "stdout",
     "output_type": "stream",
     "text": [
      "\n",
      "              ####\n",
      "              ++++++ Initializing the GC\n",
      "              \n"
     ]
    },
    {
     "name": "stderr",
     "output_type": "stream",
     "text": [
      "0% [#] 100% | ETA: 00:00:01\n",
      "Total time elapsed: 00:00:00\n",
      "Writing activities to SQLite3 database:\n"
     ]
    },
    {
     "name": "stdout",
     "output_type": "stream",
     "text": [
      "Title: Writing activities to SQLite3 database:\n",
      "  Started: 03/01/2022 17:06:41\n",
      "  Finished: 03/01/2022 17:06:41\n",
      "  Total time elapsed: 00:00:00\n",
      "  CPU %: 0.00\n",
      "  Memory %: 1.40\n",
      "\n",
      "              ####\n",
      "              ++++++ Initializing the WTE\n",
      "              \n"
     ]
    },
    {
     "name": "stderr",
     "output_type": "stream",
     "text": [
      "0% [##############################] 100% | ETA: 00:00:00\n",
      "Total time elapsed: 00:00:00\n"
     ]
    },
    {
     "name": "stdout",
     "output_type": "stream",
     "text": [
      "Title: Writing activities to SQLite3 database:\n",
      "  Started: 03/01/2022 17:06:41\n",
      "  Finished: 03/01/2022 17:06:41\n",
      "  Total time elapsed: 00:00:00\n",
      "  CPU %: 97.70\n",
      "  Memory %: 1.40\n"
     ]
    },
    {
     "name": "stderr",
     "output_type": "stream",
     "text": [
      "Writing activities to SQLite3 database:\n"
     ]
    },
    {
     "name": "stdout",
     "output_type": "stream",
     "text": [
      "\n",
      "              ####\n",
      "              ++++++ Initializing the SF\n",
      "              \n"
     ]
    },
    {
     "name": "stderr",
     "output_type": "stream",
     "text": [
      "0% [##############################] 100% | ETA: 00:00:00\n",
      "Total time elapsed: 00:00:00\n"
     ]
    },
    {
     "name": "stdout",
     "output_type": "stream",
     "text": [
      "Title: Writing activities to SQLite3 database:\n",
      "  Started: 03/01/2022 17:06:41\n",
      "  Finished: 03/01/2022 17:06:41\n",
      "  Total time elapsed: 00:00:00\n",
      "  CPU %: 97.70\n",
      "  Memory %: 1.40\n"
     ]
    },
    {
     "name": "stderr",
     "output_type": "stream",
     "text": [
      "Writing activities to SQLite3 database:\n"
     ]
    },
    {
     "name": "stdout",
     "output_type": "stream",
     "text": [
      "\n",
      "              ####\n",
      "              ++++++ Initializing the MF\n",
      "              \n"
     ]
    },
    {
     "name": "stderr",
     "output_type": "stream",
     "text": [
      "0% [##############################] 100% | ETA: 00:00:00\n",
      "Total time elapsed: 00:00:00\n"
     ]
    },
    {
     "name": "stdout",
     "output_type": "stream",
     "text": [
      "Title: Writing activities to SQLite3 database:\n",
      "  Started: 03/01/2022 17:06:41\n",
      "  Finished: 03/01/2022 17:06:41\n",
      "  Total time elapsed: 00:00:00\n",
      "  CPU %: 104.20\n",
      "  Memory %: 1.40\n",
      "\n",
      "              ####\n",
      "              ++++++ Initializing the COM\n",
      "              \n"
     ]
    },
    {
     "name": "stderr",
     "output_type": "stream",
     "text": [
      "Writing activities to SQLite3 database:\n",
      "0% [##############################] 100% | ETA: 00:00:00\n",
      "Total time elapsed: 00:00:00\n"
     ]
    },
    {
     "name": "stdout",
     "output_type": "stream",
     "text": [
      "Title: Writing activities to SQLite3 database:\n",
      "  Started: 03/01/2022 17:06:41\n",
      "  Finished: 03/01/2022 17:06:41\n",
      "  Total time elapsed: 00:00:00\n",
      "  CPU %: 195.30\n",
      "  Memory %: 1.40\n"
     ]
    },
    {
     "name": "stderr",
     "output_type": "stream",
     "text": [
      "Writing activities to SQLite3 database:\n"
     ]
    },
    {
     "name": "stdout",
     "output_type": "stream",
     "text": [
      "\n",
      "              ####\n",
      "              ++++++ Writing the LF\n",
      "              \n"
     ]
    },
    {
     "name": "stderr",
     "output_type": "stream",
     "text": [
      "0% [##############################] 100% | ETA: 00:00:00\n",
      "Total time elapsed: 00:00:01\n"
     ]
    },
    {
     "name": "stdout",
     "output_type": "stream",
     "text": [
      "Title: Writing activities to SQLite3 database:\n",
      "  Started: 03/01/2022 17:06:41\n",
      "  Finished: 03/01/2022 17:06:43\n",
      "  Total time elapsed: 00:00:01\n",
      "  CPU %: 47.20\n",
      "  Memory %: 1.41\n",
      "\n",
      "                  ####\n",
      "                  ++++++ Writing the Composting_product\n",
      "                  \n"
     ]
    },
    {
     "name": "stderr",
     "output_type": "stream",
     "text": [
      "Writing activities to SQLite3 database:\n",
      "0% [##############################] 100% | ETA: 00:00:00\n",
      "Total time elapsed: 00:00:00\n",
      "Writing activities to SQLite3 database:\n"
     ]
    },
    {
     "name": "stdout",
     "output_type": "stream",
     "text": [
      "Title: Writing activities to SQLite3 database:\n",
      "  Started: 03/01/2022 17:06:43\n",
      "  Finished: 03/01/2022 17:06:43\n",
      "  Total time elapsed: 00:00:00\n",
      "  CPU %: 101.90\n",
      "  Memory %: 1.42\n",
      "\n",
      "              ####\n",
      "              ++++++ Writing the Composting\n",
      "              \n"
     ]
    },
    {
     "name": "stderr",
     "output_type": "stream",
     "text": [
      "0% [##############################] 100% | ETA: 00:00:00\n",
      "Total time elapsed: 00:00:00\n",
      "Writing activities to SQLite3 database:\n"
     ]
    },
    {
     "name": "stdout",
     "output_type": "stream",
     "text": [
      "Title: Writing activities to SQLite3 database:\n",
      "  Started: 03/01/2022 17:06:43\n",
      "  Finished: 03/01/2022 17:06:43\n",
      "  Total time elapsed: 00:00:00\n",
      "  CPU %: 46.70\n",
      "  Memory %: 1.43\n",
      "\n",
      "              ####\n",
      "              ++++++ Writing the HC\n",
      "              \n"
     ]
    },
    {
     "name": "stderr",
     "output_type": "stream",
     "text": [
      "0% [##############################] 100% | ETA: 00:00:00\n",
      "Total time elapsed: 00:00:00\n",
      "Writing activities to SQLite3 database:\n"
     ]
    },
    {
     "name": "stdout",
     "output_type": "stream",
     "text": [
      "Title: Writing activities to SQLite3 database:\n",
      "  Started: 03/01/2022 17:06:44\n",
      "  Finished: 03/01/2022 17:06:44\n",
      "  Total time elapsed: 00:00:00\n",
      "  CPU %: 75.00\n",
      "  Memory %: 1.43\n",
      "\n",
      "                  ####\n",
      "                  ++++++ Writing the AD_product\n",
      "                  \n"
     ]
    },
    {
     "name": "stderr",
     "output_type": "stream",
     "text": [
      "0% [##############################] 100% | ETA: 00:00:00\n",
      "Total time elapsed: 00:00:00\n",
      "Writing activities to SQLite3 database:\n"
     ]
    },
    {
     "name": "stdout",
     "output_type": "stream",
     "text": [
      "Title: Writing activities to SQLite3 database:\n",
      "  Started: 03/01/2022 17:06:44\n",
      "  Finished: 03/01/2022 17:06:44\n",
      "  Total time elapsed: 00:00:00\n",
      "  CPU %: 75.60\n",
      "  Memory %: 1.43\n",
      "\n",
      "              ####\n",
      "              ++++++ Writing the AD\n",
      "              \n"
     ]
    },
    {
     "name": "stderr",
     "output_type": "stream",
     "text": [
      "0% [##############################] 100% | ETA: 00:00:00\n",
      "Total time elapsed: 00:00:00\n",
      "Writing activities to SQLite3 database:\n"
     ]
    },
    {
     "name": "stdout",
     "output_type": "stream",
     "text": [
      "Title: Writing activities to SQLite3 database:\n",
      "  Started: 03/01/2022 17:06:44\n",
      "  Finished: 03/01/2022 17:06:44\n",
      "  Total time elapsed: 00:00:00\n",
      "  CPU %: 33.30\n",
      "  Memory %: 1.43\n",
      "\n",
      "                  ####\n",
      "                  ++++++ Writing the AnF_product\n",
      "                  \n"
     ]
    },
    {
     "name": "stderr",
     "output_type": "stream",
     "text": [
      "0% [##############################] 100% | ETA: 00:00:00\n",
      "Total time elapsed: 00:00:00\n"
     ]
    },
    {
     "name": "stdout",
     "output_type": "stream",
     "text": [
      "Title: Writing activities to SQLite3 database:\n",
      "  Started: 03/01/2022 17:06:45\n",
      "  Finished: 03/01/2022 17:06:45\n",
      "  Total time elapsed: 00:00:00\n",
      "  CPU %: 100.80\n",
      "  Memory %: 1.44\n"
     ]
    },
    {
     "name": "stderr",
     "output_type": "stream",
     "text": [
      "Writing activities to SQLite3 database:\n"
     ]
    },
    {
     "name": "stdout",
     "output_type": "stream",
     "text": [
      "\n",
      "              ####\n",
      "              ++++++ Writing the AnF\n",
      "              \n"
     ]
    },
    {
     "name": "stderr",
     "output_type": "stream",
     "text": [
      "0% [##############################] 100% | ETA: 00:00:00\n",
      "Total time elapsed: 00:00:00\n"
     ]
    },
    {
     "name": "stdout",
     "output_type": "stream",
     "text": [
      "Title: Writing activities to SQLite3 database:\n",
      "  Started: 03/01/2022 17:06:45\n",
      "  Finished: 03/01/2022 17:06:45\n",
      "  Total time elapsed: 00:00:00\n",
      "  CPU %: 100.80\n",
      "  Memory %: 1.44\n",
      "\n",
      "                  ####\n",
      "                  ++++++ Writing the SS_MRF_product\n",
      "                  \n"
     ]
    },
    {
     "name": "stderr",
     "output_type": "stream",
     "text": [
      "Writing activities to SQLite3 database:\n",
      "0% [##############################] 100% | ETA: 00:00:00\n",
      "Total time elapsed: 00:00:00\n"
     ]
    },
    {
     "name": "stdout",
     "output_type": "stream",
     "text": [
      "Title: Writing activities to SQLite3 database:\n",
      "  Started: 03/01/2022 17:06:45\n",
      "  Finished: 03/01/2022 17:06:45\n",
      "  Total time elapsed: 00:00:00\n",
      "  CPU %: 68.40\n",
      "  Memory %: 1.45\n"
     ]
    },
    {
     "name": "stderr",
     "output_type": "stream",
     "text": [
      "Writing activities to SQLite3 database:\n"
     ]
    },
    {
     "name": "stdout",
     "output_type": "stream",
     "text": [
      "\n",
      "              ####\n",
      "              ++++++ Writing the SS_MRF\n",
      "              \n"
     ]
    },
    {
     "name": "stderr",
     "output_type": "stream",
     "text": [
      "0% [##############################] 100% | ETA: 00:00:00\n",
      "Total time elapsed: 00:00:00\n"
     ]
    },
    {
     "name": "stdout",
     "output_type": "stream",
     "text": [
      "Title: Writing activities to SQLite3 database:\n",
      "  Started: 03/01/2022 17:06:46\n",
      "  Finished: 03/01/2022 17:06:46\n",
      "  Total time elapsed: 00:00:00\n",
      "  CPU %: 59.70\n",
      "  Memory %: 1.47\n"
     ]
    },
    {
     "name": "stderr",
     "output_type": "stream",
     "text": [
      "Writing activities to SQLite3 database:\n"
     ]
    },
    {
     "name": "stdout",
     "output_type": "stream",
     "text": [
      "\n",
      "              ####\n",
      "              ++++++ Writing the Reprocessing\n",
      "              \n"
     ]
    },
    {
     "name": "stderr",
     "output_type": "stream",
     "text": [
      "0% [###############] 100% | ETA: 00:00:00\n",
      "Total time elapsed: 00:00:00\n"
     ]
    },
    {
     "name": "stdout",
     "output_type": "stream",
     "text": [
      "Title: Writing activities to SQLite3 database:\n",
      "  Started: 03/01/2022 17:06:47\n",
      "  Finished: 03/01/2022 17:06:47\n",
      "  Total time elapsed: 00:00:00\n",
      "  CPU %: 43.00\n",
      "  Memory %: 1.47\n",
      "\n",
      "                  ####\n",
      "                  ++++++ Writing the RDF_product\n",
      "                  \n"
     ]
    },
    {
     "name": "stderr",
     "output_type": "stream",
     "text": [
      "Writing activities to SQLite3 database:\n",
      "0% [##############################] 100% | ETA: 00:00:00\n",
      "Total time elapsed: 00:00:00\n"
     ]
    },
    {
     "name": "stdout",
     "output_type": "stream",
     "text": [
      "Title: Writing activities to SQLite3 database:\n",
      "  Started: 03/01/2022 17:06:47\n",
      "  Finished: 03/01/2022 17:06:47\n",
      "  Total time elapsed: 00:00:00\n",
      "  CPU %: 100.30\n",
      "  Memory %: 1.47\n"
     ]
    },
    {
     "name": "stderr",
     "output_type": "stream",
     "text": [
      "Writing activities to SQLite3 database:\n"
     ]
    },
    {
     "name": "stdout",
     "output_type": "stream",
     "text": [
      "\n",
      "              ####\n",
      "              ++++++ Writing the RDF\n",
      "              \n"
     ]
    },
    {
     "name": "stderr",
     "output_type": "stream",
     "text": [
      "0% [##############################] 100% | ETA: 00:00:00\n",
      "Total time elapsed: 00:00:00\n"
     ]
    },
    {
     "name": "stdout",
     "output_type": "stream",
     "text": [
      "Title: Writing activities to SQLite3 database:\n",
      "  Started: 03/01/2022 17:06:48\n",
      "  Finished: 03/01/2022 17:06:48\n",
      "  Total time elapsed: 00:00:00\n",
      "  CPU %: 67.20\n",
      "  Memory %: 1.47\n"
     ]
    },
    {
     "name": "stderr",
     "output_type": "stream",
     "text": [
      "Writing activities to SQLite3 database:\n"
     ]
    },
    {
     "name": "stdout",
     "output_type": "stream",
     "text": [
      "\n",
      "                  ####\n",
      "                  ++++++ Writing the GC_product\n",
      "                  \n"
     ]
    },
    {
     "name": "stderr",
     "output_type": "stream",
     "text": [
      "0% [#############] 100% | ETA: 00:00:00\n",
      "Total time elapsed: 00:00:00\n"
     ]
    },
    {
     "name": "stdout",
     "output_type": "stream",
     "text": [
      "Title: Writing activities to SQLite3 database:\n",
      "  Started: 03/01/2022 17:06:48\n",
      "  Finished: 03/01/2022 17:06:48\n",
      "  Total time elapsed: 00:00:00\n",
      "  CPU %: 0.00\n",
      "  Memory %: 1.47\n"
     ]
    },
    {
     "name": "stderr",
     "output_type": "stream",
     "text": [
      "Writing activities to SQLite3 database:\n"
     ]
    },
    {
     "name": "stdout",
     "output_type": "stream",
     "text": [
      "\n",
      "              ####\n",
      "              ++++++ Writing the GC\n",
      "              \n"
     ]
    },
    {
     "name": "stderr",
     "output_type": "stream",
     "text": [
      "0% [#] 100% | ETA: 00:00:00\n",
      "Total time elapsed: 00:00:00\n"
     ]
    },
    {
     "name": "stdout",
     "output_type": "stream",
     "text": [
      "Title: Writing activities to SQLite3 database:\n",
      "  Started: 03/01/2022 17:06:48\n",
      "  Finished: 03/01/2022 17:06:48\n",
      "  Total time elapsed: 00:00:00\n",
      "  CPU %: 0.00\n",
      "  Memory %: 1.47\n",
      "\n",
      "                  ####\n",
      "                  ++++++ Writing the WTE_product\n",
      "                  \n"
     ]
    },
    {
     "name": "stderr",
     "output_type": "stream",
     "text": [
      "Writing activities to SQLite3 database:\n",
      "0% [##############################] 100% | ETA: 00:00:00\n",
      "Total time elapsed: 00:00:00\n"
     ]
    },
    {
     "name": "stdout",
     "output_type": "stream",
     "text": [
      "Title: Writing activities to SQLite3 database:\n",
      "  Started: 03/01/2022 17:06:48\n",
      "  Finished: 03/01/2022 17:06:49\n",
      "  Total time elapsed: 00:00:00\n",
      "  CPU %: 83.10\n",
      "  Memory %: 1.47\n"
     ]
    },
    {
     "name": "stderr",
     "output_type": "stream",
     "text": [
      "Writing activities to SQLite3 database:\n"
     ]
    },
    {
     "name": "stdout",
     "output_type": "stream",
     "text": [
      "\n",
      "              ####\n",
      "              ++++++ Writing the WTE\n",
      "              \n"
     ]
    },
    {
     "name": "stderr",
     "output_type": "stream",
     "text": [
      "0% [##############################] 100% | ETA: 00:00:00\n",
      "Total time elapsed: 00:00:00\n"
     ]
    },
    {
     "name": "stdout",
     "output_type": "stream",
     "text": [
      "Title: Writing activities to SQLite3 database:\n",
      "  Started: 03/01/2022 17:06:49\n",
      "  Finished: 03/01/2022 17:06:49\n",
      "  Total time elapsed: 00:00:00\n",
      "  CPU %: 68.30\n",
      "  Memory %: 1.47\n",
      "\n",
      "                  ####\n",
      "                  ++++++ Writing the SF_product\n",
      "                  \n"
     ]
    },
    {
     "name": "stderr",
     "output_type": "stream",
     "text": [
      "Writing activities to SQLite3 database:\n",
      "0% [##############################] 100% | ETA: 00:00:00\n",
      "Total time elapsed: 00:00:00\n"
     ]
    },
    {
     "name": "stdout",
     "output_type": "stream",
     "text": [
      "Title: Writing activities to SQLite3 database:\n",
      "  Started: 03/01/2022 17:06:50\n",
      "  Finished: 03/01/2022 17:06:50\n",
      "  Total time elapsed: 00:00:00\n",
      "  CPU %: 70.50\n",
      "  Memory %: 1.49\n"
     ]
    },
    {
     "name": "stderr",
     "output_type": "stream",
     "text": [
      "Writing activities to SQLite3 database:\n"
     ]
    },
    {
     "name": "stdout",
     "output_type": "stream",
     "text": [
      "\n",
      "              ####\n",
      "              ++++++ Writing the SF\n",
      "              \n"
     ]
    },
    {
     "name": "stderr",
     "output_type": "stream",
     "text": [
      "0% [##############################] 100% | ETA: 00:00:00\n",
      "Total time elapsed: 00:00:00\n"
     ]
    },
    {
     "name": "stdout",
     "output_type": "stream",
     "text": [
      "Title: Writing activities to SQLite3 database:\n",
      "  Started: 03/01/2022 17:06:51\n",
      "  Finished: 03/01/2022 17:06:51\n",
      "  Total time elapsed: 00:00:00\n",
      "  CPU %: 99.40\n",
      "  Memory %: 1.50\n",
      "\n",
      "                  ####\n",
      "                  ++++++ Writing the MF_product\n",
      "                  \n"
     ]
    },
    {
     "name": "stderr",
     "output_type": "stream",
     "text": [
      "Writing activities to SQLite3 database:\n",
      "0% [##############################] 100% | ETA: 00:00:00\n",
      "Total time elapsed: 00:00:00\n"
     ]
    },
    {
     "name": "stdout",
     "output_type": "stream",
     "text": [
      "Title: Writing activities to SQLite3 database:\n",
      "  Started: 03/01/2022 17:06:52\n",
      "  Finished: 03/01/2022 17:06:52\n",
      "  Total time elapsed: 00:00:00\n",
      "  CPU %: 60.10\n",
      "  Memory %: 1.50\n"
     ]
    },
    {
     "name": "stderr",
     "output_type": "stream",
     "text": [
      "Writing activities to SQLite3 database:\n"
     ]
    },
    {
     "name": "stdout",
     "output_type": "stream",
     "text": [
      "\n",
      "              ####\n",
      "              ++++++ Writing the MF\n",
      "              \n"
     ]
    },
    {
     "name": "stderr",
     "output_type": "stream",
     "text": [
      "0% [##############################] 100% | ETA: 00:00:00\n",
      "Total time elapsed: 00:00:00\n"
     ]
    },
    {
     "name": "stdout",
     "output_type": "stream",
     "text": [
      "Title: Writing activities to SQLite3 database:\n",
      "  Started: 03/01/2022 17:06:52\n",
      "  Finished: 03/01/2022 17:06:53\n",
      "  Total time elapsed: 00:00:00\n",
      "  CPU %: 99.70\n",
      "  Memory %: 1.51\n",
      "\n",
      "                  ####\n",
      "                  ++++++ Writing the COM_product\n",
      "                  \n"
     ]
    },
    {
     "name": "stderr",
     "output_type": "stream",
     "text": [
      "Writing activities to SQLite3 database:\n",
      "0% [##############################] 100% | ETA: 00:00:00\n",
      "Total time elapsed: 00:00:00\n"
     ]
    },
    {
     "name": "stdout",
     "output_type": "stream",
     "text": [
      "Title: Writing activities to SQLite3 database:\n",
      "  Started: 03/01/2022 17:06:53\n",
      "  Finished: 03/01/2022 17:06:53\n",
      "  Total time elapsed: 00:00:00\n",
      "  CPU %: 66.80\n",
      "  Memory %: 1.51\n"
     ]
    },
    {
     "name": "stderr",
     "output_type": "stream",
     "text": [
      "Writing activities to SQLite3 database:\n"
     ]
    },
    {
     "name": "stdout",
     "output_type": "stream",
     "text": [
      "\n",
      "              ####\n",
      "              ++++++ Writing the COM\n",
      "              \n"
     ]
    },
    {
     "name": "stderr",
     "output_type": "stream",
     "text": [
      "0% [##############################] 100% | ETA: 00:00:00\n",
      "Total time elapsed: 00:00:00\n"
     ]
    },
    {
     "name": "stdout",
     "output_type": "stream",
     "text": [
      "Title: Writing activities to SQLite3 database:\n",
      "  Started: 03/01/2022 17:06:54\n",
      "  Finished: 03/01/2022 17:06:54\n",
      "  Total time elapsed: 00:00:00\n",
      "  CPU %: 67.20\n",
      "  Memory %: 1.52\n",
      "\n",
      "                  Grouping the exchanges with parameters in Database LF\n",
      "                  \n",
      "\n",
      "                  Grouping the exchanges with parameters in Database Composting\n",
      "                  \n",
      "\n",
      "                  Grouping the exchanges with parameters in Database HC\n",
      "                  \n",
      "\n",
      "                  Grouping the exchanges with parameters in Database AD\n",
      "                  \n",
      "\n",
      "                  Grouping the exchanges with parameters in Database AnF\n",
      "                  \n",
      "\n",
      "                  Grouping the exchanges with parameters in Database SS_MRF\n",
      "                  \n",
      "\n",
      "                  Grouping the exchanges with parameters in Database Reprocessing\n",
      "                  \n",
      "\n",
      "                  Grouping the exchanges with parameters in Database RDF\n",
      "                  \n",
      "\n",
      "                  Grouping the exchanges with parameters in Database GC\n",
      "                  \n",
      "\n",
      "                  Grouping the exchanges with parameters in Database WTE\n",
      "                  \n",
      "\n",
      "                  Grouping the exchanges with parameters in Database SF\n",
      "                  \n",
      "\n",
      "                  Grouping the exchanges with parameters in Database MF\n",
      "                  \n",
      "\n",
      "                  Grouping the exchanges with parameters in Database COM\n",
      "                  \n",
      "Time for writing the project: 142 second\n"
     ]
    }
   ],
   "source": [
    "start = time()\n",
    "demo = sp.Project(project_name, common_data, Treatment_processes, distance, Collection_processes, technosphere)\n",
    "demo.init_project()\n",
    "demo.write_project()\n",
    "demo.group_exchanges()\n",
    "print(\"Time for writing the project: {} second\".format(round(time()-start)))"
   ]
  },
  {
   "cell_type": "code",
   "execution_count": 13,
   "metadata": {},
   "outputs": [],
   "source": [
    "prms = [\n",
    "    {'name': 'frac_of_Other_Residual_from_Composting_to_LF', 'amount': 1},\n",
    "    {'name': 'frac_of_Other_Residual_from_Composting_to_WTE', 'amount': 0},\n",
    "    {'name': 'frac_of_Other_Residual_from_AD_to_LF', 'amount': 1},\n",
    "    {'name': 'frac_of_Other_Residual_from_AD_to_WTE', 'amount': 0},\n",
    "    {'name': 'frac_of_Other_Residual_from_AnF_to_LF', 'amount': 1},\n",
    "    {'name': 'frac_of_Other_Residual_from_AnF_to_WTE', 'amount': 0},\n",
    "    {'name': 'frac_of_Other_Residual_from_SS_MRF_to_LF', 'amount': 1},\n",
    "    {'name': 'frac_of_Other_Residual_from_SS_MRF_to_WTE', 'amount': 0},\n",
    "    {'name': 'frac_of_Separated_Organics_from_RDF_to_Composting', 'amount': 0.5},\n",
    "    {'name': 'frac_of_Separated_Organics_from_RDF_to_AD', 'amount': 0.5},\n",
    "    {'name': 'frac_of_Other_Residual_from_RDF_to_LF', 'amount': 1},\n",
    "    {'name': 'frac_of_Other_Residual_from_RDF_to_WTE', 'amount': 0},\n",
    "    {'name': 'frac_of_RWC_from_SF_to_LF', 'amount': 0},\n",
    "    {'name': 'frac_of_RWC_from_SF_to_RDF', 'amount': 1},\n",
    "    {'name': 'frac_of_RWC_from_SF_to_WTE', 'amount': 0},\n",
    "    {'name': 'frac_of_SSO_from_SF_to_Composting', 'amount': 0.5},\n",
    "    {'name': 'frac_of_SSO_from_SF_to_AD', 'amount': 0.5},\n",
    "    {'name': 'frac_of_MRDO_from_SF_to_LF', 'amount': 1},\n",
    "    {'name': 'frac_of_MRDO_from_SF_to_RDF', 'amount': 0},\n",
    "    {'name': 'frac_of_MRDO_from_SF_to_WTE', 'amount': 0},\n",
    "    {'name': 'frac_of_RWC_from_MF_to_LF', 'amount': 0},\n",
    "    {'name': 'frac_of_RWC_from_MF_to_RDF', 'amount': 1},\n",
    "    {'name': 'frac_of_RWC_from_MF_to_WTE', 'amount': 0},\n",
    "    {'name': 'frac_of_SSO_from_MF_to_Composting', 'amount': 0.5},\n",
    "    {'name': 'frac_of_SSO_from_MF_to_AD', 'amount': 0.5},\n",
    "    {'name': 'frac_of_RWC_from_COM_to_LF', 'amount': 0},\n",
    "    {'name': 'frac_of_RWC_from_COM_to_RDF', 'amount': 1},\n",
    "    {'name': 'frac_of_RWC_from_COM_to_WTE', 'amount': 0},\n",
    "    {'name': 'frac_of_SSO_from_COM_to_Composting', 'amount': 0.5},\n",
    "    {'name': 'frac_of_SSO_from_COM_to_AD', 'amount': 0.5}]"
   ]
  },
  {
   "cell_type": "code",
   "execution_count": 14,
   "metadata": {
    "execution": {
     "iopub.execute_input": "2022-02-07T00:20:46.960497Z",
     "iopub.status.busy": "2022-02-07T00:20:46.960497Z",
     "iopub.status.idle": "2022-02-07T00:21:07.887075Z",
     "shell.execute_reply": "2022-02-07T00:21:07.887075Z"
    },
    "scrolled": false
   },
   "outputs": [
    {
     "name": "stdout",
     "output_type": "stream",
     "text": [
      "Time for updating the parameters: 23 second\n"
     ]
    },
    {
     "data": {
      "text/plain": [
       "[{'name': 'frac_of_Other_Residual_from_Composting_to_LF', 'amount': 1},\n",
       " {'name': 'frac_of_Other_Residual_from_Composting_to_WTE', 'amount': 0},\n",
       " {'name': 'frac_of_Other_Residual_from_AD_to_LF', 'amount': 1},\n",
       " {'name': 'frac_of_Other_Residual_from_AD_to_WTE', 'amount': 0},\n",
       " {'name': 'frac_of_Other_Residual_from_AnF_to_LF', 'amount': 1},\n",
       " {'name': 'frac_of_Other_Residual_from_AnF_to_WTE', 'amount': 0},\n",
       " {'name': 'frac_of_Other_Residual_from_SS_MRF_to_LF', 'amount': 1},\n",
       " {'name': 'frac_of_Other_Residual_from_SS_MRF_to_WTE', 'amount': 0},\n",
       " {'name': 'frac_of_Separated_Organics_from_RDF_to_Composting', 'amount': 0.5},\n",
       " {'name': 'frac_of_Separated_Organics_from_RDF_to_AD', 'amount': 0.5},\n",
       " {'name': 'frac_of_Other_Residual_from_RDF_to_LF', 'amount': 1},\n",
       " {'name': 'frac_of_Other_Residual_from_RDF_to_WTE', 'amount': 0},\n",
       " {'name': 'frac_of_RWC_from_SF_to_LF', 'amount': 0},\n",
       " {'name': 'frac_of_RWC_from_SF_to_RDF', 'amount': 1},\n",
       " {'name': 'frac_of_RWC_from_SF_to_WTE', 'amount': 0},\n",
       " {'name': 'frac_of_SSO_from_SF_to_Composting', 'amount': 0.5},\n",
       " {'name': 'frac_of_SSO_from_SF_to_AD', 'amount': 0.5},\n",
       " {'name': 'frac_of_MRDO_from_SF_to_LF', 'amount': 1},\n",
       " {'name': 'frac_of_MRDO_from_SF_to_RDF', 'amount': 0},\n",
       " {'name': 'frac_of_MRDO_from_SF_to_WTE', 'amount': 0},\n",
       " {'name': 'frac_of_RWC_from_MF_to_LF', 'amount': 0},\n",
       " {'name': 'frac_of_RWC_from_MF_to_RDF', 'amount': 1},\n",
       " {'name': 'frac_of_RWC_from_MF_to_WTE', 'amount': 0},\n",
       " {'name': 'frac_of_SSO_from_MF_to_Composting', 'amount': 0.5},\n",
       " {'name': 'frac_of_SSO_from_MF_to_AD', 'amount': 0.5},\n",
       " {'name': 'frac_of_RWC_from_COM_to_LF', 'amount': 0},\n",
       " {'name': 'frac_of_RWC_from_COM_to_RDF', 'amount': 1},\n",
       " {'name': 'frac_of_RWC_from_COM_to_WTE', 'amount': 0},\n",
       " {'name': 'frac_of_SSO_from_COM_to_Composting', 'amount': 0.5},\n",
       " {'name': 'frac_of_SSO_from_COM_to_AD', 'amount': 0.5}]"
      ]
     },
     "execution_count": 14,
     "metadata": {},
     "output_type": "execute_result"
    }
   ],
   "source": [
    "start = time()\n",
    "demo.update_parameters(prms)\n",
    "print(\"Time for updating the parameters: {} second\".format(round(time()-start)))\n",
    "demo.parameters_list"
   ]
  },
  {
   "cell_type": "code",
   "execution_count": 15,
   "metadata": {},
   "outputs": [
    {
     "data": {
      "text/html": [
       "<div>\n",
       "<style scoped>\n",
       "    .dataframe tbody tr th:only-of-type {\n",
       "        vertical-align: middle;\n",
       "    }\n",
       "\n",
       "    .dataframe tbody tr th {\n",
       "        vertical-align: top;\n",
       "    }\n",
       "\n",
       "    .dataframe thead th {\n",
       "        text-align: right;\n",
       "    }\n",
       "</style>\n",
       "<table border=\"1\" class=\"dataframe\">\n",
       "  <thead>\n",
       "    <tr style=\"text-align: right;\">\n",
       "      <th></th>\n",
       "      <th>From</th>\n",
       "      <th>To</th>\n",
       "      <th>Product</th>\n",
       "      <th>amount</th>\n",
       "    </tr>\n",
       "  </thead>\n",
       "  <tbody>\n",
       "    <tr>\n",
       "      <th>0</th>\n",
       "      <td>Composting</td>\n",
       "      <td>LF</td>\n",
       "      <td>Other_Residual</td>\n",
       "      <td>1.0</td>\n",
       "    </tr>\n",
       "    <tr>\n",
       "      <th>1</th>\n",
       "      <td>Composting</td>\n",
       "      <td>WTE</td>\n",
       "      <td>Other_Residual</td>\n",
       "      <td>0.0</td>\n",
       "    </tr>\n",
       "    <tr>\n",
       "      <th>2</th>\n",
       "      <td>AD</td>\n",
       "      <td>LF</td>\n",
       "      <td>Other_Residual</td>\n",
       "      <td>1.0</td>\n",
       "    </tr>\n",
       "    <tr>\n",
       "      <th>3</th>\n",
       "      <td>AD</td>\n",
       "      <td>WTE</td>\n",
       "      <td>Other_Residual</td>\n",
       "      <td>0.0</td>\n",
       "    </tr>\n",
       "    <tr>\n",
       "      <th>4</th>\n",
       "      <td>AnF</td>\n",
       "      <td>LF</td>\n",
       "      <td>Other_Residual</td>\n",
       "      <td>1.0</td>\n",
       "    </tr>\n",
       "    <tr>\n",
       "      <th>5</th>\n",
       "      <td>AnF</td>\n",
       "      <td>WTE</td>\n",
       "      <td>Other_Residual</td>\n",
       "      <td>0.0</td>\n",
       "    </tr>\n",
       "    <tr>\n",
       "      <th>6</th>\n",
       "      <td>SS_MRF</td>\n",
       "      <td>LF</td>\n",
       "      <td>Other_Residual</td>\n",
       "      <td>1.0</td>\n",
       "    </tr>\n",
       "    <tr>\n",
       "      <th>7</th>\n",
       "      <td>SS_MRF</td>\n",
       "      <td>WTE</td>\n",
       "      <td>Other_Residual</td>\n",
       "      <td>0.0</td>\n",
       "    </tr>\n",
       "    <tr>\n",
       "      <th>8</th>\n",
       "      <td>RDF</td>\n",
       "      <td>Composting</td>\n",
       "      <td>Separated_Organics</td>\n",
       "      <td>0.5</td>\n",
       "    </tr>\n",
       "    <tr>\n",
       "      <th>9</th>\n",
       "      <td>RDF</td>\n",
       "      <td>AD</td>\n",
       "      <td>Separated_Organics</td>\n",
       "      <td>0.5</td>\n",
       "    </tr>\n",
       "    <tr>\n",
       "      <th>10</th>\n",
       "      <td>RDF</td>\n",
       "      <td>LF</td>\n",
       "      <td>Other_Residual</td>\n",
       "      <td>1.0</td>\n",
       "    </tr>\n",
       "    <tr>\n",
       "      <th>11</th>\n",
       "      <td>RDF</td>\n",
       "      <td>WTE</td>\n",
       "      <td>Other_Residual</td>\n",
       "      <td>0.0</td>\n",
       "    </tr>\n",
       "    <tr>\n",
       "      <th>12</th>\n",
       "      <td>SF</td>\n",
       "      <td>LF</td>\n",
       "      <td>RWC</td>\n",
       "      <td>0.0</td>\n",
       "    </tr>\n",
       "    <tr>\n",
       "      <th>13</th>\n",
       "      <td>SF</td>\n",
       "      <td>RDF</td>\n",
       "      <td>RWC</td>\n",
       "      <td>1.0</td>\n",
       "    </tr>\n",
       "    <tr>\n",
       "      <th>14</th>\n",
       "      <td>SF</td>\n",
       "      <td>WTE</td>\n",
       "      <td>RWC</td>\n",
       "      <td>0.0</td>\n",
       "    </tr>\n",
       "    <tr>\n",
       "      <th>15</th>\n",
       "      <td>SF</td>\n",
       "      <td>Composting</td>\n",
       "      <td>SSO</td>\n",
       "      <td>0.5</td>\n",
       "    </tr>\n",
       "    <tr>\n",
       "      <th>16</th>\n",
       "      <td>SF</td>\n",
       "      <td>AD</td>\n",
       "      <td>SSO</td>\n",
       "      <td>0.5</td>\n",
       "    </tr>\n",
       "    <tr>\n",
       "      <th>17</th>\n",
       "      <td>SF</td>\n",
       "      <td>LF</td>\n",
       "      <td>MRDO</td>\n",
       "      <td>1.0</td>\n",
       "    </tr>\n",
       "    <tr>\n",
       "      <th>18</th>\n",
       "      <td>SF</td>\n",
       "      <td>RDF</td>\n",
       "      <td>MRDO</td>\n",
       "      <td>0.0</td>\n",
       "    </tr>\n",
       "    <tr>\n",
       "      <th>19</th>\n",
       "      <td>SF</td>\n",
       "      <td>WTE</td>\n",
       "      <td>MRDO</td>\n",
       "      <td>0.0</td>\n",
       "    </tr>\n",
       "    <tr>\n",
       "      <th>20</th>\n",
       "      <td>MF</td>\n",
       "      <td>LF</td>\n",
       "      <td>RWC</td>\n",
       "      <td>0.0</td>\n",
       "    </tr>\n",
       "    <tr>\n",
       "      <th>21</th>\n",
       "      <td>MF</td>\n",
       "      <td>RDF</td>\n",
       "      <td>RWC</td>\n",
       "      <td>1.0</td>\n",
       "    </tr>\n",
       "    <tr>\n",
       "      <th>22</th>\n",
       "      <td>MF</td>\n",
       "      <td>WTE</td>\n",
       "      <td>RWC</td>\n",
       "      <td>0.0</td>\n",
       "    </tr>\n",
       "    <tr>\n",
       "      <th>23</th>\n",
       "      <td>MF</td>\n",
       "      <td>Composting</td>\n",
       "      <td>SSO</td>\n",
       "      <td>0.5</td>\n",
       "    </tr>\n",
       "    <tr>\n",
       "      <th>24</th>\n",
       "      <td>MF</td>\n",
       "      <td>AD</td>\n",
       "      <td>SSO</td>\n",
       "      <td>0.5</td>\n",
       "    </tr>\n",
       "    <tr>\n",
       "      <th>25</th>\n",
       "      <td>COM</td>\n",
       "      <td>LF</td>\n",
       "      <td>RWC</td>\n",
       "      <td>0.0</td>\n",
       "    </tr>\n",
       "    <tr>\n",
       "      <th>26</th>\n",
       "      <td>COM</td>\n",
       "      <td>RDF</td>\n",
       "      <td>RWC</td>\n",
       "      <td>1.0</td>\n",
       "    </tr>\n",
       "    <tr>\n",
       "      <th>27</th>\n",
       "      <td>COM</td>\n",
       "      <td>WTE</td>\n",
       "      <td>RWC</td>\n",
       "      <td>0.0</td>\n",
       "    </tr>\n",
       "    <tr>\n",
       "      <th>28</th>\n",
       "      <td>COM</td>\n",
       "      <td>Composting</td>\n",
       "      <td>SSO</td>\n",
       "      <td>0.5</td>\n",
       "    </tr>\n",
       "    <tr>\n",
       "      <th>29</th>\n",
       "      <td>COM</td>\n",
       "      <td>AD</td>\n",
       "      <td>SSO</td>\n",
       "      <td>0.5</td>\n",
       "    </tr>\n",
       "  </tbody>\n",
       "</table>\n",
       "</div>"
      ],
      "text/plain": [
       "          From          To             Product  amount\n",
       "0   Composting  LF          Other_Residual      1.0   \n",
       "1   Composting  WTE         Other_Residual      0.0   \n",
       "2   AD          LF          Other_Residual      1.0   \n",
       "3   AD          WTE         Other_Residual      0.0   \n",
       "4   AnF         LF          Other_Residual      1.0   \n",
       "5   AnF         WTE         Other_Residual      0.0   \n",
       "6   SS_MRF      LF          Other_Residual      1.0   \n",
       "7   SS_MRF      WTE         Other_Residual      0.0   \n",
       "8   RDF         Composting  Separated_Organics  0.5   \n",
       "9   RDF         AD          Separated_Organics  0.5   \n",
       "10  RDF         LF          Other_Residual      1.0   \n",
       "11  RDF         WTE         Other_Residual      0.0   \n",
       "12  SF          LF          RWC                 0.0   \n",
       "13  SF          RDF         RWC                 1.0   \n",
       "14  SF          WTE         RWC                 0.0   \n",
       "15  SF          Composting  SSO                 0.5   \n",
       "16  SF          AD          SSO                 0.5   \n",
       "17  SF          LF          MRDO                1.0   \n",
       "18  SF          RDF         MRDO                0.0   \n",
       "19  SF          WTE         MRDO                0.0   \n",
       "20  MF          LF          RWC                 0.0   \n",
       "21  MF          RDF         RWC                 1.0   \n",
       "22  MF          WTE         RWC                 0.0   \n",
       "23  MF          Composting  SSO                 0.5   \n",
       "24  MF          AD          SSO                 0.5   \n",
       "25  COM         LF          RWC                 0.0   \n",
       "26  COM         RDF         RWC                 1.0   \n",
       "27  COM         WTE         RWC                 0.0   \n",
       "28  COM         Composting  SSO                 0.5   \n",
       "29  COM         AD          SSO                 0.5   "
      ]
     },
     "execution_count": 15,
     "metadata": {},
     "output_type": "execute_result"
    }
   ],
   "source": [
    "params_df = pd.DataFrame(demo.parameters_list)\n",
    "for i, j in params_df['name'].items():\n",
    "    if type(j) == str:\n",
    "        j = j.strip('frac_of_')\n",
    "        params_df.loc[i, 'From'] = j.split('_from_')[1].split('_to_')[0]\n",
    "        params_df.loc[i, 'To'] = j.split('_from_')[1].split('_to_')[1]\n",
    "        params_df.loc[i, 'Product'] = j.split('_from_')[0]\n",
    "    else:\n",
    "        params_df.loc[i, 'From'] = j[0]\n",
    "        params_df.loc[i, 'Product'] = str(j[1])\n",
    "params_df[['From', 'To', 'Product', 'amount']]"
   ]
  },
  {
   "cell_type": "code",
   "execution_count": 16,
   "metadata": {},
   "outputs": [
    {
     "data": {
      "text/html": [
       "<div>\n",
       "<style scoped>\n",
       "    .dataframe tbody tr th:only-of-type {\n",
       "        vertical-align: middle;\n",
       "    }\n",
       "\n",
       "    .dataframe tbody tr th {\n",
       "        vertical-align: top;\n",
       "    }\n",
       "\n",
       "    .dataframe thead th {\n",
       "        text-align: right;\n",
       "    }\n",
       "</style>\n",
       "<table border=\"1\" class=\"dataframe\">\n",
       "  <thead>\n",
       "    <tr style=\"text-align: right;\">\n",
       "      <th></th>\n",
       "      <th>SF</th>\n",
       "      <th>MF</th>\n",
       "      <th>COM</th>\n",
       "    </tr>\n",
       "  </thead>\n",
       "  <tbody>\n",
       "    <tr>\n",
       "      <th>Yard_Trimmings_Leaves</th>\n",
       "      <td>10867.97</td>\n",
       "      <td>1126.33</td>\n",
       "      <td>679.03</td>\n",
       "    </tr>\n",
       "    <tr>\n",
       "      <th>Yard_Trimmings_Grass</th>\n",
       "      <td>27169.93</td>\n",
       "      <td>2815.83</td>\n",
       "      <td>679.03</td>\n",
       "    </tr>\n",
       "    <tr>\n",
       "      <th>Yard_Trimmings_Branches</th>\n",
       "      <td>16301.96</td>\n",
       "      <td>1689.50</td>\n",
       "      <td>67.18</td>\n",
       "    </tr>\n",
       "    <tr>\n",
       "      <th>Food_Waste_Vegetable</th>\n",
       "      <td>20538.40</td>\n",
       "      <td>7089.26</td>\n",
       "      <td>13312.44</td>\n",
       "    </tr>\n",
       "    <tr>\n",
       "      <th>Food_Waste_Non_Vegetable</th>\n",
       "      <td>10269.20</td>\n",
       "      <td>3544.63</td>\n",
       "      <td>6656.22</td>\n",
       "    </tr>\n",
       "  </tbody>\n",
       "</table>\n",
       "</div>"
      ],
      "text/plain": [
       "                                SF       MF       COM\n",
       "Yard_Trimmings_Leaves     10867.97  1126.33  679.03  \n",
       "Yard_Trimmings_Grass      27169.93  2815.83  679.03  \n",
       "Yard_Trimmings_Branches   16301.96  1689.50  67.18   \n",
       "Food_Waste_Vegetable      20538.40  7089.26  13312.44\n",
       "Food_Waste_Non_Vegetable  10269.20  3544.63  6656.22 "
      ]
     },
     "execution_count": 16,
     "metadata": {},
     "output_type": "execute_result"
    }
   ],
   "source": [
    "SSO_Mass = pd.DataFrame(columns=['SF', 'MF', 'COM'], index=common_data.Index, dtype=float)\n",
    "\n",
    "# SSO composition\n",
    "Collection_scheme = sppm.SF_Col.scheme()\n",
    "Collection_scheme[('RWC', 'SSO', 'SSR')] = 1\n",
    "demo.Treatment_processes['SF']['model'].col_schm = Collection_scheme \n",
    "demo.Treatment_processes['SF']['model'].calc()\n",
    "SSO_Mass['SF']= demo.Treatment_processes['SF']['model'].col_massflow['SSO']\n",
    "\n",
    "\n",
    "Collection_scheme = sppm.MF_Col.scheme()\n",
    "Collection_scheme[('RWC', 'SSO', 'SSR')] = 1\n",
    "demo.Treatment_processes['MF']['model'].col_schm = Collection_scheme \n",
    "demo.Treatment_processes['MF']['model'].calc()\n",
    "SSO_Mass['MF']= demo.Treatment_processes['MF']['model'].col_massflow['SSO']\n",
    "\n",
    "Collection_scheme = sppm.COM_Col.scheme()\n",
    "Collection_scheme[('RWC', 'SSO', 'SSR')] = 1\n",
    "demo.Treatment_processes['COM']['model'].col_schm = Collection_scheme \n",
    "demo.Treatment_processes['COM']['model'].calc()\n",
    "SSO_Mass['COM']= demo.Treatment_processes['COM']['model'].col_massflow['SSO']\n",
    "\n",
    "SSO_Mass = SSO_Mass.iloc[:5, :]\n",
    "\n",
    "SSO_Mass"
   ]
  },
  {
   "cell_type": "code",
   "execution_count": 17,
   "metadata": {},
   "outputs": [
    {
     "data": {
      "text/html": [
       "<div>\n",
       "<style scoped>\n",
       "    .dataframe tbody tr th:only-of-type {\n",
       "        vertical-align: middle;\n",
       "    }\n",
       "\n",
       "    .dataframe tbody tr th {\n",
       "        vertical-align: top;\n",
       "    }\n",
       "\n",
       "    .dataframe thead th {\n",
       "        text-align: right;\n",
       "    }\n",
       "</style>\n",
       "<table border=\"1\" class=\"dataframe\">\n",
       "  <thead>\n",
       "    <tr style=\"text-align: right;\">\n",
       "      <th></th>\n",
       "      <th>SF</th>\n",
       "      <th>MF</th>\n",
       "      <th>COM</th>\n",
       "    </tr>\n",
       "  </thead>\n",
       "  <tbody>\n",
       "    <tr>\n",
       "      <th>Yard_Trimmings_Leaves</th>\n",
       "      <td>0.13</td>\n",
       "      <td>0.07</td>\n",
       "      <td>3.17e-02</td>\n",
       "    </tr>\n",
       "    <tr>\n",
       "      <th>Yard_Trimmings_Grass</th>\n",
       "      <td>0.32</td>\n",
       "      <td>0.17</td>\n",
       "      <td>3.17e-02</td>\n",
       "    </tr>\n",
       "    <tr>\n",
       "      <th>Yard_Trimmings_Branches</th>\n",
       "      <td>0.19</td>\n",
       "      <td>0.10</td>\n",
       "      <td>3.14e-03</td>\n",
       "    </tr>\n",
       "    <tr>\n",
       "      <th>Food_Waste_Vegetable</th>\n",
       "      <td>0.24</td>\n",
       "      <td>0.44</td>\n",
       "      <td>6.22e-01</td>\n",
       "    </tr>\n",
       "    <tr>\n",
       "      <th>Food_Waste_Non_Vegetable</th>\n",
       "      <td>0.12</td>\n",
       "      <td>0.22</td>\n",
       "      <td>3.11e-01</td>\n",
       "    </tr>\n",
       "  </tbody>\n",
       "</table>\n",
       "</div>"
      ],
      "text/plain": [
       "                            SF    MF       COM\n",
       "Yard_Trimmings_Leaves     0.13  0.07  3.17e-02\n",
       "Yard_Trimmings_Grass      0.32  0.17  3.17e-02\n",
       "Yard_Trimmings_Branches   0.19  0.10  3.14e-03\n",
       "Food_Waste_Vegetable      0.24  0.44  6.22e-01\n",
       "Food_Waste_Non_Vegetable  0.12  0.22  3.11e-01"
      ]
     },
     "execution_count": 17,
     "metadata": {},
     "output_type": "execute_result"
    }
   ],
   "source": [
    "SSO_Comp = SSO_Mass / SSO_Mass.sum()\n",
    "SSO_Comp"
   ]
  },
  {
   "cell_type": "code",
   "execution_count": 18,
   "metadata": {},
   "outputs": [
    {
     "name": "stderr",
     "output_type": "stream",
     "text": [
      "c:\\users\\msardar2\\.conda\\envs\\dev\\lib\\site-packages\\pandas\\plotting\\_matplotlib\\tools.py:400: MatplotlibDeprecationWarning:\n",
      "\n",
      "\n",
      "The is_first_col function was deprecated in Matplotlib 3.4 and will be removed two minor releases later. Use ax.get_subplotspec().is_first_col() instead.\n",
      "\n"
     ]
    },
    {
     "data": {
      "image/png": "[encoded data removed]",
      "text/plain": [
       "<Figure size 720x288 with 2 Axes>"
      ]
     },
     "metadata": {
      "needs_background": "light"
     },
     "output_type": "display_data"
    }
   ],
   "source": [
    "fig, (ax1, ax2) = plt.subplots(1, 2, figsize=(10, 4))\n",
    "SSO_Mass.T.plot.bar(stacked=True, ax=ax1, rot=0)\n",
    "SSO_Comp.T.plot.bar(stacked=True, ax=ax2, rot=0)\n",
    "\n",
    "ax1.set_ylabel('Mass of SSO (Mg/Year)')\n",
    "ax2.set_ylabel('Composition of SSO (fraction)')\n",
    "\n",
    "def frmt(x, mode):\n",
    "    res = []\n",
    "    for i in x:\n",
    "        if mode == 'comp':\n",
    "            if np.round(i, 2) > 0.04:\n",
    "                res.append(np.round(i, 2))\n",
    "            else:\n",
    "                res.append('')\n",
    "        elif mode == 'mass':\n",
    "            if np.round(i) > 7000:\n",
    "                res.append(int(np.round(i)))\n",
    "            else:\n",
    "                res.append('')\n",
    "    return res\n",
    "\n",
    "for c in ax2.containers:\n",
    "    ax2.bar_label(c, label_type='center', labels=frmt(c.datavalues, 'comp'), fontsize=14, color='w')\n",
    "\n",
    "for c in ax1.containers:\n",
    "    ax1.bar_label(c, label_type='center', labels=frmt(c.datavalues, 'mass'), fontsize=14, color='w')\n",
    "\n",
    "ax1.get_legend().remove()\n",
    "ax2.get_legend().remove()\n",
    "fig.legend(['YW Leaves','YW Grass','YW Branches', 'FW vegetable', 'FW Non-vegetable'],\n",
    "           bbox_to_anchor=(0.5, 0.05), loc='upper center', ncol=5)\n",
    "\n",
    "fig.tight_layout()\n",
    "fig.savefig('SSO_comp_mass.png', dpi=300, bbox_inches='tight')"
   ]
  },
  {
   "cell_type": "code",
   "execution_count": 19,
   "metadata": {},
   "outputs": [
    {
     "data": {
      "image/png": "[encoded data removed]",
      "text/plain": [
       "<Figure size 360x504 with 2 Axes>"
      ]
     },
     "metadata": {
      "needs_background": "light"
     },
     "output_type": "display_data"
    }
   ],
   "source": [
    "fig, (ax1, ax2) = plt.subplots(2, 1, figsize=(5, 7))\n",
    "SSO_Mass.T.plot.bar(stacked=True, ax=ax1, rot=0)\n",
    "SSO_Comp.T.plot.bar(stacked=True, ax=ax2, rot=0)\n",
    "\n",
    "ax1.set_ylabel('Mass of SSO (Mg/Year)')\n",
    "ax2.set_ylabel('Composition of SSO (fraction)')\n",
    "\n",
    "def frmt(x, mode):\n",
    "    res = []\n",
    "    for i in x:\n",
    "        if mode == 'comp':\n",
    "            if np.round(i, 2) > 0.04:\n",
    "                res.append(np.round(i, 2))\n",
    "            else:\n",
    "                res.append('')\n",
    "        elif mode == 'mass':\n",
    "            if np.round(i) > 7000:\n",
    "                res.append(int(np.round(i)))\n",
    "            else:\n",
    "                res.append('')\n",
    "    return res\n",
    "\n",
    "for c in ax2.containers:\n",
    "    ax2.bar_label(c, label_type='center', labels=frmt(c.datavalues, 'comp'), fontsize=14, color='w')\n",
    "\n",
    "for c in ax1.containers:\n",
    "    ax1.bar_label(c, label_type='center', labels=frmt(c.datavalues, 'mass'), fontsize=14, color='w')\n",
    "\n",
    "ax1.get_legend().remove()\n",
    "ax2.get_legend().remove()\n",
    "fig.legend(['YW Leaves','YW Grass','YW Branches', 'FW vegetable', 'FW Non-vegetable'],\n",
    "           bbox_to_anchor=(0.55, 0.02), loc='upper center', ncol=2)\n",
    "\n",
    "fig.tight_layout()\n",
    "fig.savefig('SSO_comp_mass_v.png', dpi=300, bbox_inches='tight')"
   ]
  },
  {
   "cell_type": "code",
   "execution_count": 20,
   "metadata": {},
   "outputs": [
    {
     "data": {
      "text/plain": [
       "[{('waste', 'SF-SSO-LF'): 1},\n",
       " {('waste', 'SF-SSO-Composting'): 1},\n",
       " {('waste', 'SF-SSO-AD'): 1},\n",
       " {('waste', 'SF-SSO-HC'): 1},\n",
       " {('waste', 'SF-SSO-WTE'): 1},\n",
       " {('waste', 'MF-SSO-LF'): 1},\n",
       " {('waste', 'MF-SSO-Composting'): 1},\n",
       " {('waste', 'MF-SSO-AD'): 1},\n",
       " {('waste', 'MF-SSO-WTE'): 1},\n",
       " {('waste', 'COM-SSO-LF'): 1},\n",
       " {('waste', 'COM-SSO-Composting'): 1},\n",
       " {('waste', 'COM-SSO-AD'): 1},\n",
       " {('waste', 'COM-SSO-AnF'): 1},\n",
       " {('waste', 'COM-SSO-WTE'): 1}]"
      ]
     },
     "execution_count": 20,
     "metadata": {},
     "output_type": "execute_result"
    }
   ],
   "source": [
    "SSO_dict = SSO_Comp.to_dict()\n",
    "SSO_processes = ['LF', 'Composting', 'AD', 'HC', 'AnF', 'WTE']\n",
    "SSO_functional_units = []\n",
    "\n",
    "for s in SSO_dict:\n",
    "    for p in SSO_processes:\n",
    "        add = True\n",
    "        input_dict = {p: {}}\n",
    "        for k, v in SSO_dict[s].items():\n",
    "            input_dict[p][k] = v\n",
    "        if (s=='COM' or s=='MF') and p=='HC':\n",
    "            add = False\n",
    "        if (s=='SF' or s=='MF') and p=='AnF':\n",
    "            add = False\n",
    "        if add:\n",
    "            demo.create_scenario(input_dict, f\"{s}-SSO-{p}\")\n",
    "            SSO_functional_units.append({('waste', f\"{s}-SSO-{p}\"): 1})\n",
    "SSO_functional_units"
   ]
  },
  {
   "cell_type": "code",
   "execution_count": 21,
   "metadata": {},
   "outputs": [
    {
     "data": {
      "text/html": [
       "<div>\n",
       "<style scoped>\n",
       "    .dataframe tbody tr th:only-of-type {\n",
       "        vertical-align: middle;\n",
       "    }\n",
       "\n",
       "    .dataframe tbody tr th {\n",
       "        vertical-align: top;\n",
       "    }\n",
       "\n",
       "    .dataframe thead th {\n",
       "        text-align: right;\n",
       "    }\n",
       "</style>\n",
       "<table border=\"1\" class=\"dataframe\">\n",
       "  <thead>\n",
       "    <tr style=\"text-align: right;\">\n",
       "      <th></th>\n",
       "      <th>Cost ($/Mg)</th>\n",
       "      <th>GWP (kgCO2e/Mg)</th>\n",
       "      <th>CED (MJe/Mg)</th>\n",
       "      <th>Acidification (kgSO2e/Mg)</th>\n",
       "      <th>Eutrophication (kgNe/Mg)</th>\n",
       "      <th>Smog (kgO3e/Mg)</th>\n",
       "      <th>Human toxicity (CTU/Mg)</th>\n",
       "      <th>Ecotoxicity (CTU/Mg)</th>\n",
       "      <th>Sector</th>\n",
       "      <th>Process</th>\n",
       "    </tr>\n",
       "  </thead>\n",
       "  <tbody>\n",
       "    <tr>\n",
       "      <th>('waste', 'COM-SSO-AnF')</th>\n",
       "      <td>0.53</td>\n",
       "      <td>19.58</td>\n",
       "      <td>-820.24</td>\n",
       "      <td>-1.08</td>\n",
       "      <td>-2.61</td>\n",
       "      <td>-5.03</td>\n",
       "      <td>-1330.22</td>\n",
       "      <td>-2.53e-05</td>\n",
       "      <td>COM</td>\n",
       "      <td>AnF</td>\n",
       "    </tr>\n",
       "    <tr>\n",
       "      <th>('waste', 'COM-SSO-WTE')</th>\n",
       "      <td>67.42</td>\n",
       "      <td>303.37</td>\n",
       "      <td>-2120.54</td>\n",
       "      <td>-1.03</td>\n",
       "      <td>-0.41</td>\n",
       "      <td>-2.67</td>\n",
       "      <td>-311.09</td>\n",
       "      <td>-2.69e-05</td>\n",
       "      <td>COM</td>\n",
       "      <td>WTE</td>\n",
       "    </tr>\n",
       "    <tr>\n",
       "      <th>('waste', 'COM-SSO-AD')</th>\n",
       "      <td>50.00</td>\n",
       "      <td>347.74</td>\n",
       "      <td>-3146.58</td>\n",
       "      <td>0.34</td>\n",
       "      <td>0.35</td>\n",
       "      <td>27.83</td>\n",
       "      <td>-406.20</td>\n",
       "      <td>-3.51e-05</td>\n",
       "      <td>COM</td>\n",
       "      <td>AD</td>\n",
       "    </tr>\n",
       "    <tr>\n",
       "      <th>('waste', 'MF-SSO-WTE')</th>\n",
       "      <td>62.26</td>\n",
       "      <td>364.73</td>\n",
       "      <td>-3229.01</td>\n",
       "      <td>-1.58</td>\n",
       "      <td>-0.62</td>\n",
       "      <td>-4.93</td>\n",
       "      <td>-471.77</td>\n",
       "      <td>-4.05e-05</td>\n",
       "      <td>MF</td>\n",
       "      <td>WTE</td>\n",
       "    </tr>\n",
       "    <tr>\n",
       "      <th>('waste', 'SF-SSO-WTE')</th>\n",
       "      <td>56.80</td>\n",
       "      <td>428.63</td>\n",
       "      <td>-4403.59</td>\n",
       "      <td>-2.17</td>\n",
       "      <td>-0.84</td>\n",
       "      <td>-7.33</td>\n",
       "      <td>-642.02</td>\n",
       "      <td>-5.50e-05</td>\n",
       "      <td>SF</td>\n",
       "      <td>WTE</td>\n",
       "    </tr>\n",
       "    <tr>\n",
       "      <th>('waste', 'COM-SSO-Composting')</th>\n",
       "      <td>29.86</td>\n",
       "      <td>505.38</td>\n",
       "      <td>-568.52</td>\n",
       "      <td>0.62</td>\n",
       "      <td>0.43</td>\n",
       "      <td>7.27</td>\n",
       "      <td>-37.14</td>\n",
       "      <td>-2.42e-06</td>\n",
       "      <td>COM</td>\n",
       "      <td>Composting</td>\n",
       "    </tr>\n",
       "    <tr>\n",
       "      <th>('waste', 'MF-SSO-AD')</th>\n",
       "      <td>56.33</td>\n",
       "      <td>537.79</td>\n",
       "      <td>-2995.91</td>\n",
       "      <td>0.66</td>\n",
       "      <td>0.73</td>\n",
       "      <td>27.20</td>\n",
       "      <td>-310.94</td>\n",
       "      <td>-2.82e-05</td>\n",
       "      <td>MF</td>\n",
       "      <td>AD</td>\n",
       "    </tr>\n",
       "    <tr>\n",
       "      <th>('waste', 'MF-SSO-Composting')</th>\n",
       "      <td>30.01</td>\n",
       "      <td>651.88</td>\n",
       "      <td>-899.55</td>\n",
       "      <td>0.78</td>\n",
       "      <td>0.84</td>\n",
       "      <td>5.84</td>\n",
       "      <td>-73.36</td>\n",
       "      <td>-5.00e-06</td>\n",
       "      <td>MF</td>\n",
       "      <td>Composting</td>\n",
       "    </tr>\n",
       "    <tr>\n",
       "      <th>('waste', 'SF-SSO-AD')</th>\n",
       "      <td>62.97</td>\n",
       "      <td>736.84</td>\n",
       "      <td>-2853.29</td>\n",
       "      <td>1.00</td>\n",
       "      <td>1.14</td>\n",
       "      <td>26.65</td>\n",
       "      <td>-213.33</td>\n",
       "      <td>-2.12e-05</td>\n",
       "      <td>SF</td>\n",
       "      <td>AD</td>\n",
       "    </tr>\n",
       "    <tr>\n",
       "      <th>('waste', 'SF-SSO-LF')</th>\n",
       "      <td>15.71</td>\n",
       "      <td>766.26</td>\n",
       "      <td>-830.69</td>\n",
       "      <td>-0.44</td>\n",
       "      <td>-0.11</td>\n",
       "      <td>-0.59</td>\n",
       "      <td>-87.19</td>\n",
       "      <td>-1.00e-05</td>\n",
       "      <td>SF</td>\n",
       "      <td>LF</td>\n",
       "    </tr>\n",
       "    <tr>\n",
       "      <th>('waste', 'MF-SSO-LF')</th>\n",
       "      <td>16.66</td>\n",
       "      <td>784.04</td>\n",
       "      <td>-984.35</td>\n",
       "      <td>-0.52</td>\n",
       "      <td>-0.15</td>\n",
       "      <td>-1.04</td>\n",
       "      <td>-109.90</td>\n",
       "      <td>-1.20e-05</td>\n",
       "      <td>MF</td>\n",
       "      <td>LF</td>\n",
       "    </tr>\n",
       "    <tr>\n",
       "      <th>('waste', 'COM-SSO-LF')</th>\n",
       "      <td>17.59</td>\n",
       "      <td>794.95</td>\n",
       "      <td>-1121.07</td>\n",
       "      <td>-0.59</td>\n",
       "      <td>-0.17</td>\n",
       "      <td>-1.44</td>\n",
       "      <td>-130.12</td>\n",
       "      <td>-1.37e-05</td>\n",
       "      <td>COM</td>\n",
       "      <td>LF</td>\n",
       "    </tr>\n",
       "    <tr>\n",
       "      <th>('waste', 'SF-SSO-Composting')</th>\n",
       "      <td>29.93</td>\n",
       "      <td>805.69</td>\n",
       "      <td>-1256.72</td>\n",
       "      <td>0.98</td>\n",
       "      <td>1.29</td>\n",
       "      <td>4.31</td>\n",
       "      <td>-113.78</td>\n",
       "      <td>-7.87e-06</td>\n",
       "      <td>SF</td>\n",
       "      <td>Composting</td>\n",
       "    </tr>\n",
       "    <tr>\n",
       "      <th>('waste', 'SF-SSO-HC')</th>\n",
       "      <td>15.49</td>\n",
       "      <td>831.06</td>\n",
       "      <td>-1672.61</td>\n",
       "      <td>0.92</td>\n",
       "      <td>1.30</td>\n",
       "      <td>-2.15</td>\n",
       "      <td>-132.71</td>\n",
       "      <td>-9.59e-06</td>\n",
       "      <td>SF</td>\n",
       "      <td>HC</td>\n",
       "    </tr>\n",
       "  </tbody>\n",
       "</table>\n",
       "</div>"
      ],
      "text/plain": [
       "                                 Cost ($/Mg)  GWP (kgCO2e/Mg)  CED (MJe/Mg)  \\\n",
       "('waste', 'COM-SSO-AnF')         0.53         19.58           -820.24         \n",
       "('waste', 'COM-SSO-WTE')         67.42        303.37          -2120.54        \n",
       "('waste', 'COM-SSO-AD')          50.00        347.74          -3146.58        \n",
       "('waste', 'MF-SSO-WTE')          62.26        364.73          -3229.01        \n",
       "('waste', 'SF-SSO-WTE')          56.80        428.63          -4403.59        \n",
       "('waste', 'COM-SSO-Composting')  29.86        505.38          -568.52         \n",
       "('waste', 'MF-SSO-AD')           56.33        537.79          -2995.91        \n",
       "('waste', 'MF-SSO-Composting')   30.01        651.88          -899.55         \n",
       "('waste', 'SF-SSO-AD')           62.97        736.84          -2853.29        \n",
       "('waste', 'SF-SSO-LF')           15.71        766.26          -830.69         \n",
       "('waste', 'MF-SSO-LF')           16.66        784.04          -984.35         \n",
       "('waste', 'COM-SSO-LF')          17.59        794.95          -1121.07        \n",
       "('waste', 'SF-SSO-Composting')   29.93        805.69          -1256.72        \n",
       "('waste', 'SF-SSO-HC')           15.49        831.06          -1672.61        \n",
       "\n",
       "                                 Acidification (kgSO2e/Mg)  \\\n",
       "('waste', 'COM-SSO-AnF')        -1.08                        \n",
       "('waste', 'COM-SSO-WTE')        -1.03                        \n",
       "('waste', 'COM-SSO-AD')          0.34                        \n",
       "('waste', 'MF-SSO-WTE')         -1.58                        \n",
       "('waste', 'SF-SSO-WTE')         -2.17                        \n",
       "('waste', 'COM-SSO-Composting')  0.62                        \n",
       "('waste', 'MF-SSO-AD')           0.66                        \n",
       "('waste', 'MF-SSO-Composting')   0.78                        \n",
       "('waste', 'SF-SSO-AD')           1.00                        \n",
       "('waste', 'SF-SSO-LF')          -0.44                        \n",
       "('waste', 'MF-SSO-LF')          -0.52                        \n",
       "('waste', 'COM-SSO-LF')         -0.59                        \n",
       "('waste', 'SF-SSO-Composting')   0.98                        \n",
       "('waste', 'SF-SSO-HC')           0.92                        \n",
       "\n",
       "                                 Eutrophication (kgNe/Mg)  Smog (kgO3e/Mg)  \\\n",
       "('waste', 'COM-SSO-AnF')        -2.61                     -5.03              \n",
       "('waste', 'COM-SSO-WTE')        -0.41                     -2.67              \n",
       "('waste', 'COM-SSO-AD')          0.35                      27.83             \n",
       "('waste', 'MF-SSO-WTE')         -0.62                     -4.93              \n",
       "('waste', 'SF-SSO-WTE')         -0.84                     -7.33              \n",
       "('waste', 'COM-SSO-Composting')  0.43                      7.27              \n",
       "('waste', 'MF-SSO-AD')           0.73                      27.20             \n",
       "('waste', 'MF-SSO-Composting')   0.84                      5.84              \n",
       "('waste', 'SF-SSO-AD')           1.14                      26.65             \n",
       "('waste', 'SF-SSO-LF')          -0.11                     -0.59              \n",
       "('waste', 'MF-SSO-LF')          -0.15                     -1.04              \n",
       "('waste', 'COM-SSO-LF')         -0.17                     -1.44              \n",
       "('waste', 'SF-SSO-Composting')   1.29                      4.31              \n",
       "('waste', 'SF-SSO-HC')           1.30                     -2.15              \n",
       "\n",
       "                                 Human toxicity (CTU/Mg)  \\\n",
       "('waste', 'COM-SSO-AnF')        -1330.22                   \n",
       "('waste', 'COM-SSO-WTE')        -311.09                    \n",
       "('waste', 'COM-SSO-AD')         -406.20                    \n",
       "('waste', 'MF-SSO-WTE')         -471.77                    \n",
       "('waste', 'SF-SSO-WTE')         -642.02                    \n",
       "('waste', 'COM-SSO-Composting') -37.14                     \n",
       "('waste', 'MF-SSO-AD')          -310.94                    \n",
       "('waste', 'MF-SSO-Composting')  -73.36                     \n",
       "('waste', 'SF-SSO-AD')          -213.33                    \n",
       "('waste', 'SF-SSO-LF')          -87.19                     \n",
       "('waste', 'MF-SSO-LF')          -109.90                    \n",
       "('waste', 'COM-SSO-LF')         -130.12                    \n",
       "('waste', 'SF-SSO-Composting')  -113.78                    \n",
       "('waste', 'SF-SSO-HC')          -132.71                    \n",
       "\n",
       "                                 Ecotoxicity (CTU/Mg) Sector     Process  \n",
       "('waste', 'COM-SSO-AnF')        -2.53e-05              COM    AnF         \n",
       "('waste', 'COM-SSO-WTE')        -2.69e-05              COM    WTE         \n",
       "('waste', 'COM-SSO-AD')         -3.51e-05              COM    AD          \n",
       "('waste', 'MF-SSO-WTE')         -4.05e-05              MF     WTE         \n",
       "('waste', 'SF-SSO-WTE')         -5.50e-05              SF     WTE         \n",
       "('waste', 'COM-SSO-Composting') -2.42e-06              COM    Composting  \n",
       "('waste', 'MF-SSO-AD')          -2.82e-05              MF     AD          \n",
       "('waste', 'MF-SSO-Composting')  -5.00e-06              MF     Composting  \n",
       "('waste', 'SF-SSO-AD')          -2.12e-05              SF     AD          \n",
       "('waste', 'SF-SSO-LF')          -1.00e-05              SF     LF          \n",
       "('waste', 'MF-SSO-LF')          -1.20e-05              MF     LF          \n",
       "('waste', 'COM-SSO-LF')         -1.37e-05              COM    LF          \n",
       "('waste', 'SF-SSO-Composting')  -7.87e-06              SF     Composting  \n",
       "('waste', 'SF-SSO-HC')          -9.59e-06              SF     HC          "
      ]
     },
     "execution_count": 21,
     "metadata": {},
     "output_type": "execute_result"
    }
   ],
   "source": [
    "SSO_impacts = demo.setup_LCA(name='SSO',\n",
    "                             functional_units=SSO_functional_units,\n",
    "                             impact_methods = methods)\n",
    "SSO_impacts.sort_values(by=SSO_impacts.columns[1], inplace=True)\n",
    "\n",
    "impact_dict = {TotCost_Method: 'Cost ($/Mg)',\n",
    "               GWP_Method: 'GWP (kgCO2e/Mg)',\n",
    "               CED_Method: 'CED (MJe/Mg)',\n",
    "               ACID_Method: 'Acidification (kgSO2e/Mg)',\n",
    "               ETP_Method: 'Eutrophication (kgNe/Mg)',\n",
    "               SMOG_Method: 'Smog (kgO3e/Mg)',\n",
    "               ETOX_Method: 'Human toxicity (CTU/Mg)',  \n",
    "               HTOX_Method: 'Ecotoxicity (CTU/Mg)'}\n",
    "SSO_impacts.columns = [impact_dict[eval(i)] for i in SSO_impacts.columns]\n",
    "\n",
    "SSO_impacts['Sector'] = [eval(i)[1].split('-')[0] for i in SSO_impacts.index]\n",
    "SSO_impacts['Process'] = [eval(i)[1].split('-')[2] for i in SSO_impacts.index]\n",
    "\n",
    "SSO_impacts"
   ]
  },
  {
   "cell_type": "code",
   "execution_count": 22,
   "metadata": {},
   "outputs": [
    {
     "data": {
      "text/html": [
       "<div>\n",
       "<style scoped>\n",
       "    .dataframe tbody tr th:only-of-type {\n",
       "        vertical-align: middle;\n",
       "    }\n",
       "\n",
       "    .dataframe tbody tr th {\n",
       "        vertical-align: top;\n",
       "    }\n",
       "\n",
       "    .dataframe thead th {\n",
       "        text-align: right;\n",
       "    }\n",
       "</style>\n",
       "<table border=\"1\" class=\"dataframe\">\n",
       "  <thead>\n",
       "    <tr style=\"text-align: right;\">\n",
       "      <th></th>\n",
       "      <th>Sector</th>\n",
       "      <th>Process</th>\n",
       "      <th>Category</th>\n",
       "      <th>Impact</th>\n",
       "    </tr>\n",
       "  </thead>\n",
       "  <tbody>\n",
       "    <tr>\n",
       "      <th>0</th>\n",
       "      <td>COM</td>\n",
       "      <td>AnF</td>\n",
       "      <td>Cost ($/Mg)</td>\n",
       "      <td>5.29e-01</td>\n",
       "    </tr>\n",
       "    <tr>\n",
       "      <th>30</th>\n",
       "      <td>COM</td>\n",
       "      <td>AD</td>\n",
       "      <td>CED (MJe/Mg)</td>\n",
       "      <td>-3.15e+03</td>\n",
       "    </tr>\n",
       "    <tr>\n",
       "      <th>99</th>\n",
       "      <td>COM</td>\n",
       "      <td>WTE</td>\n",
       "      <td>Ecotoxicity (CTU/Mg)</td>\n",
       "      <td>-2.69e-05</td>\n",
       "    </tr>\n",
       "    <tr>\n",
       "      <th>33</th>\n",
       "      <td>COM</td>\n",
       "      <td>Composting</td>\n",
       "      <td>CED (MJe/Mg)</td>\n",
       "      <td>-5.69e+02</td>\n",
       "    </tr>\n",
       "    <tr>\n",
       "      <th>98</th>\n",
       "      <td>COM</td>\n",
       "      <td>AnF</td>\n",
       "      <td>Ecotoxicity (CTU/Mg)</td>\n",
       "      <td>-2.53e-05</td>\n",
       "    </tr>\n",
       "  </tbody>\n",
       "</table>\n",
       "</div>"
      ],
      "text/plain": [
       "   Sector     Process              Category    Impact\n",
       "0   COM    AnF         Cost ($/Mg)           5.29e-01\n",
       "30  COM    AD          CED (MJe/Mg)         -3.15e+03\n",
       "99  COM    WTE         Ecotoxicity (CTU/Mg) -2.69e-05\n",
       "33  COM    Composting  CED (MJe/Mg)         -5.69e+02\n",
       "98  COM    AnF         Ecotoxicity (CTU/Mg) -2.53e-05"
      ]
     },
     "execution_count": 22,
     "metadata": {},
     "output_type": "execute_result"
    }
   ],
   "source": [
    "SSO_impacts_melt = SSO_impacts.melt(\n",
    "    id_vars=['Sector', 'Process'],\n",
    "    var_name = 'Category',\n",
    "    value_name = 'Impact')\n",
    "SSO_impacts_melt.sort_values(by=['Sector'], inplace=True)\n",
    "SSO_impacts_melt.head()"
   ]
  },
  {
   "cell_type": "code",
   "execution_count": 31,
   "metadata": {},
   "outputs": [
    {
     "data": {
      "image/png": "[encoded data removed]",
      "text/plain": [
       "<Figure size 720x273.6 with 1 Axes>"
      ]
     },
     "metadata": {
      "needs_background": "light"
     },
     "output_type": "display_data"
    }
   ],
   "source": [
    "fig, ax = plt.subplots(1, figsize=(10, 3.8))\n",
    "sns.barplot(data=SSO_impacts_melt.loc[SSO_impacts_melt['Category']=='GWP (kgCO2e/Mg)',:],\n",
    "            y='Impact', x='Process', ax=ax, hue='Sector',\n",
    "            order=['AnF', 'WTE', 'AD', 'Composting', 'LF', 'HC'],\n",
    "           palette={'SF':'tab:orange', 'MF':'c', 'COM':'m'})\n",
    "ax.tick_params(axis='x', rotation=0)\n",
    "ax.set_ylabel(r'$GHG\\ emissions\\ (kgCO_2\\ e/Mg)$')\n",
    "ax.legend(bbox_to_anchor=(1, 1))\n",
    "ax.set_xlabel(\"\")\n",
    "fig.tight_layout()\n",
    "fig.savefig('SSO_process.png', dpi=300)"
   ]
  },
  {
   "cell_type": "code",
   "execution_count": 24,
   "metadata": {},
   "outputs": [
    {
     "data": {
      "image/png": "[encoded data removed]",
      "text/plain": [
       "<Figure size 504x360 with 1 Axes>"
      ]
     },
     "metadata": {
      "needs_background": "light"
     },
     "output_type": "display_data"
    }
   ],
   "source": [
    "fig, ax = plt.subplots(1, figsize=(7, 5))\n",
    "\n",
    "P_color = {'LF': \"gray\", 'WTE': 'tab:red', 'RDF': 'tab:orange', 'GC': 'tab:brown',\n",
    "           'Composting': 'tab:green', 'AD': 'lime', 'AnF': 'tab:olive', 'HC': 'khaki'}\n",
    "palette ={\"A\": \"C0\", \"B\": \"C1\", \"C\": \"C2\", \"Total\": \"k\"}\n",
    "\n",
    "data = SSO_impacts_melt.loc[SSO_impacts_melt['Category']=='GWP (kgCO2e/Mg)', :].sort_values(by=['Sector', 'Impact'])\n",
    "sns.barplot(data=data,\n",
    "            x='Impact',\n",
    "            y='Sector',\n",
    "            ax=ax, orient='h', palette=P_color,\n",
    "            hue='Process')\n",
    "ax.legend(bbox_to_anchor=(0.5, -0.2), ncol=4, loc='upper center')\n",
    "ax.set_xlabel(r'$GHG\\ emissions\\ (kgCO_2\\ e/Mg)$')\n",
    "\n",
    "def frmt(x):\n",
    "    res = []\n",
    "    for i in x:\n",
    "        if np.isnan(i):\n",
    "            res.append('')\n",
    "        else: \n",
    "            res.append(f\" {int(np.round(i))}\")\n",
    "    return res\n",
    "\n",
    "for c in ax.containers:\n",
    "    ax.bar_label(c, label_type='edge', labels=frmt(c.datavalues), fontsize=14, color='k')\n",
    "    \n",
    "ax.set_xbound((0, 900))\n",
    "ax.set_ylabel(\"\")\n",
    "\n",
    "fig.tight_layout()\n",
    "fig.savefig('SSO_sector.png', dpi=300)"
   ]
  },
  {
   "cell_type": "code",
   "execution_count": 25,
   "metadata": {},
   "outputs": [
    {
     "data": {
      "image/png": "[encoded data removed]",
      "text/plain": [
       "<Figure size 576x324 with 1 Axes>"
      ]
     },
     "metadata": {
      "needs_background": "light"
     },
     "output_type": "display_data"
    }
   ],
   "source": [
    "fig, ax = plt.subplots(1, figsize=(8, 4.5))\n",
    "\n",
    "P_color = {'LF': \"gray\", 'WTE': 'tab:red', 'RDF': 'tab:orange', 'GC': 'tab:brown',\n",
    "           'Composting': 'tab:green', 'AD': 'lime', 'AnF': 'tab:olive', 'HC': 'khaki'}\n",
    "palette ={\"A\": \"C0\", \"B\": \"C1\", \"C\": \"C2\", \"Total\": \"k\"}\n",
    "\n",
    "data = SSO_impacts_melt.loc[SSO_impacts_melt['Category']=='GWP (kgCO2e/Mg)', :].sort_values(by=['Sector', 'Impact'])\n",
    "sns.barplot(data=data,\n",
    "            x='Impact',\n",
    "            y='Sector',\n",
    "            ax=ax, orient='h', palette=P_color,\n",
    "            hue='Process')\n",
    "ax.legend(bbox_to_anchor=(1, 1), ncol=1, loc='upper left')\n",
    "ax.set_xlabel(r'$GHG\\ emissions\\ (kgCO_2\\ e/Mg)$')\n",
    "\n",
    "def frmt(x):\n",
    "    res = []\n",
    "    for i in x:\n",
    "        if np.isnan(i):\n",
    "            res.append('')\n",
    "        else: \n",
    "            res.append(f\" {int(np.round(i))}\")\n",
    "    return res\n",
    "\n",
    "for c in ax.containers:\n",
    "    ax.bar_label(c, label_type='edge', labels=frmt(c.datavalues), fontsize=14, color='k')\n",
    "    \n",
    "ax.set_xbound((0, 900))\n",
    "ax.set_ylabel(\"\")\n",
    "\n",
    "fig.tight_layout()\n",
    "fig.savefig('SSO_sector_2.png', dpi=300)"
   ]
  },
  {
   "cell_type": "code",
   "execution_count": 26,
   "metadata": {},
   "outputs": [],
   "source": [
    "def compare(scheme):\n",
    "    scheme_SF=sppm.SF_Col.scheme()\n",
    "    scheme_SF[scheme] = 1\n",
    "    SF = sppm.SF_Col('SF', scheme_SF, Treatment_processes=Treatment_processes, Distance=distance)\n",
    "    SF.calc()\n",
    "    \n",
    "    scheme_MF=sppm.MF_Col.scheme()\n",
    "    scheme_MF[scheme] = 1\n",
    "    MF = sppm.MF_Col('MF', scheme_MF, Treatment_processes=Treatment_processes, Distance=distance)\n",
    "    MF.calc()\n",
    "    \n",
    "    scheme_COM=sppm.COM_Col.scheme()\n",
    "    scheme_COM[scheme] = 1\n",
    "    COM = sppm.COM_Col('COM', scheme_COM, Treatment_processes=Treatment_processes, Distance=distance)\n",
    "    COM.calc()    \n",
    "    \n",
    "    index = ['SF', 'MF', 'COM']\n",
    "    \n",
    "    res=pd.DataFrame(columns=['Diesel (L/Mg)', 'Cost ($/Mg)'], index=index)\n",
    "    \n",
    "    res['Diesel (L/Mg)'] = (SF.col['FuelMg']['SSO'], MF.col['FuelMg']['SSO'], COM.col['FuelMg']['SSO'])\n",
    "    res['Cost ($/Mg)'] = (SF.col['C_collection']['SSO'], MF.col['C_collection']['SSO'], COM.col['C_collection']['SSO'])\n",
    "    \n",
    "    return res"
   ]
  },
  {
   "cell_type": "code",
   "execution_count": 27,
   "metadata": {},
   "outputs": [
    {
     "data": {
      "text/html": [
       "<div>\n",
       "<style scoped>\n",
       "    .dataframe tbody tr th:only-of-type {\n",
       "        vertical-align: middle;\n",
       "    }\n",
       "\n",
       "    .dataframe tbody tr th {\n",
       "        vertical-align: top;\n",
       "    }\n",
       "\n",
       "    .dataframe thead th {\n",
       "        text-align: right;\n",
       "    }\n",
       "</style>\n",
       "<table border=\"1\" class=\"dataframe\">\n",
       "  <thead>\n",
       "    <tr style=\"text-align: right;\">\n",
       "      <th></th>\n",
       "      <th>Diesel (L/Mg)</th>\n",
       "      <th>Cost ($/Mg)</th>\n",
       "    </tr>\n",
       "  </thead>\n",
       "  <tbody>\n",
       "    <tr>\n",
       "      <th>SF</th>\n",
       "      <td>23.01</td>\n",
       "      <td>119.06</td>\n",
       "    </tr>\n",
       "    <tr>\n",
       "      <th>MF</th>\n",
       "      <td>8.56</td>\n",
       "      <td>25.85</td>\n",
       "    </tr>\n",
       "    <tr>\n",
       "      <th>COM</th>\n",
       "      <td>8.11</td>\n",
       "      <td>21.13</td>\n",
       "    </tr>\n",
       "  </tbody>\n",
       "</table>\n",
       "</div>"
      ],
      "text/plain": [
       "     Diesel (L/Mg)  Cost ($/Mg)\n",
       "SF   23.01          119.06     \n",
       "MF   8.56           25.85      \n",
       "COM  8.11           21.13      "
      ]
     },
     "execution_count": 27,
     "metadata": {},
     "output_type": "execute_result"
    }
   ],
   "source": [
    "res = compare(('RWC', 'SSO', 'SSR'))\n",
    "res"
   ]
  },
  {
   "cell_type": "code",
   "execution_count": null,
   "metadata": {},
   "outputs": [],
   "source": []
  }
 ],
 "metadata": {
  "kernelspec": {
   "display_name": "Python 3",
   "language": "python",
   "name": "python3"
  },
  "language_info": {
   "codemirror_mode": {
    "name": "ipython",
    "version": 3
   },
   "file_extension": ".py",
   "mimetype": "text/x-python",
   "name": "python",
   "nbconvert_exporter": "python",
   "pygments_lexer": "ipython3",
   "version": "3.7.9"
  }
 },
 "nbformat": 4,
 "nbformat_minor": 4
}
