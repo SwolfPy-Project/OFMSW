{
 "cells": [
  {
   "cell_type": "code",
   "execution_count": 2,
   "id": "creative-grounds",
   "metadata": {},
   "outputs": [],
   "source": [
    "import graphviz"
   ]
  },
  {
   "cell_type": "code",
   "execution_count": 5,
   "id": "capable-somalia",
   "metadata": {},
   "outputs": [
    {
     "data": {
      "text/plain": [
       "'Optimization.gv.png'"
      ]
     },
     "execution_count": 5,
     "metadata": {},
     "output_type": "execute_result"
    }
   ],
   "source": [
    "graphviz.render(filepath='Optimization.gv', format='png', engine='dot')"
   ]
  }
 ],
 "metadata": {
  "kernelspec": {
   "display_name": "Python 3",
   "language": "python",
   "name": "python3"
  },
  "language_info": {
   "codemirror_mode": {
    "name": "ipython",
    "version": 3
   },
   "file_extension": ".py",
   "mimetype": "text/x-python",
   "name": "python",
   "nbconvert_exporter": "python",
   "pygments_lexer": "ipython3",
   "version": "3.7.9"
  }
 },
 "nbformat": 4,
 "nbformat_minor": 5
}
